{
 "cells": [
  {
   "cell_type": "code",
   "execution_count": 1,
   "metadata": {},
   "outputs": [
    {
     "name": "stderr",
     "output_type": "stream",
     "text": [
      "/usr/tce/packages/python/python-3.7.2/lib/python3.7/site-packages/sklearn/ensemble/gradient_boosting.py:34: DeprecationWarning: `np.bool` is a deprecated alias for the builtin `bool`. To silence this warning, use `bool` by itself. Doing this will not modify any behavior and is safe. If you specifically wanted the numpy scalar type, use `np.bool_` here.\n",
      "Deprecated in NumPy 1.20; for more details and guidance: https://numpy.org/devdocs/release/1.20.0-notes.html#deprecations\n",
      "  from ._gradient_boosting import predict_stages\n",
      "/usr/tce/packages/python/python-3.7.2/lib/python3.7/site-packages/sklearn/ensemble/gradient_boosting.py:34: DeprecationWarning: `np.bool` is a deprecated alias for the builtin `bool`. To silence this warning, use `bool` by itself. Doing this will not modify any behavior and is safe. If you specifically wanted the numpy scalar type, use `np.bool_` here.\n",
      "Deprecated in NumPy 1.20; for more details and guidance: https://numpy.org/devdocs/release/1.20.0-notes.html#deprecations\n",
      "  from ._gradient_boosting import predict_stages\n"
     ]
    }
   ],
   "source": [
    "import numpy as np\n",
    "import pandas as pd\n",
    "import plotly.express as px\n",
    "import subprocess\n",
    "import os\n",
    "import sys\n",
    "sys.path.append('/usr/workspace/vanover1/approx-llvm/approx')\n",
    "from approx_modules import approx\n",
    "\n",
    "from sklearn.ensemble import ExtraTreesRegressor"
   ]
  },
  {
   "cell_type": "code",
   "execution_count": 2,
   "metadata": {},
   "outputs": [],
   "source": [
    "N_KERNELS = 3\n",
    "KERNEL_NAMES = [\"result\", \"s1\", \"x\"]"
   ]
  },
  {
   "cell_type": "code",
   "execution_count": 3,
   "metadata": {},
   "outputs": [],
   "source": [
    "def run_simpsons(endpoint):\n",
    "    \n",
    "    # compile and run simpsons instrumented with HPAC directives\n",
    "    # need to use /usr/tce/bin/git binary because the default git version grabbed by this subprocess is too early for the --show-superproject-working-tree flag\n",
    "    subprocess.check_call(\"rm -f test.h5 && source $(/usr/tce/bin/git rev-parse --show-superproject-working-tree)/scripts/activate_hpac_env.sh && make simpsons-hpac && ./simpsons-hpac {}\".format(endpoint), shell=True)\n",
    "\n",
    "    # open database\n",
    "    approxDataProfile = approx.approxApplication(\"./test.h5\")\n",
    "    \n",
    "    # get output\n",
    "    Y = approxDataProfile.getApplicationOutput()['area'][0]\n",
    "\n",
    "    # get aggregated kernel outputs\n",
    "    kernel_outputs = []\n",
    "    for kernel_name in KERNEL_NAMES:\n",
    "        kernel_outputs.append(np.mean([approxDataProfile[region_name].Y().mean() for region_name in approxDataProfile.getRegionNames() if region_name.startswith(kernel_name)]))\n",
    "    \n",
    "    return kernel_outputs, Y"
   ]
  },
  {
   "cell_type": "code",
   "execution_count": 4,
   "metadata": {},
   "outputs": [],
   "source": [
    "# define neighborhood for simpsons analysis\n",
    "center = 1.0\n",
    "eps = 0.05\n",
    "n_sample = 2**6\n",
    "\n",
    "# uniform sample of n_sample endpoints from the neighborhood\n",
    "XX = np.linspace(center-eps, center+eps, n_sample)"
   ]
  },
  {
   "cell_type": "code",
   "execution_count": 5,
   "metadata": {},
   "outputs": [],
   "source": [
    "# run simpsons\n",
    "kernel_outs = []\n",
    "YY = []\n",
    "for n, X in enumerate(XX):\n",
    "    temp = run_simpsons(X)\n",
    "    kernel_outs.append(temp[0])\n",
    "    YY.append(temp[1])\n",
    "kernel_outs = np.array(kernel_outs)\n",
    "YY = np.array(YY)"
   ]
  },
  {
   "cell_type": "code",
   "execution_count": 6,
   "metadata": {},
   "outputs": [
    {
     "name": "stdout",
     "output_type": "stream",
     "text": [
      "result : 0.04140328995909101\n",
      "s1 : 0.9221339425397423\n",
      "x : 0.036462767501166955\n"
     ]
    }
   ],
   "source": [
    "# analyze kernel output sensitivity\n",
    "et = ExtraTreesRegressor(n_estimators=100,\n",
    "                                    criterion=\"mse\",\n",
    "                                    # max_features=int(round(XX.shape[1] / 3)),\n",
    "                                    max_depth=8,\n",
    "                                    min_samples_split=2,\n",
    "                                    min_samples_leaf=max(1, int(round(np.sqrt(kernel_outs.shape[0]) / np.sqrt(1000)))),\n",
    "                                    min_weight_fraction_leaf=0,\n",
    "                                    max_leaf_nodes=None,\n",
    "                                    #bootstrap=True,\n",
    "                                    #oob_score=True,\n",
    "                                    random_state=1)\n",
    "et.fit(kernel_outs, YY)\n",
    "for k_no in range(N_KERNELS):\n",
    "    print(\"{} : {}\".format(KERNEL_NAMES[k_no], et.feature_importances_[k_no]))"
   ]
  },
  {
   "cell_type": "markdown",
   "metadata": {},
   "source": [
    "## Compare to:\n",
    "```\n",
    "=== BEGIN ADAPT REPORT ===\n",
    "6000009 total independent/intermediate variables\n",
    "1 dependent variables\n",
    "Mixed-precision recommendation:\n",
    "  Replace variable b           max error introduced: 0.000000e+00  count: 1           totalerr: 0.000000e+00\n",
    "  Replace variable a           max error introduced: 0.000000e+00  count: 1           totalerr: 0.000000e+00\n",
    "  Replace variable h           max error introduced: 4.152677e-15  count: 1           totalerr: 4.152677e-15\n",
    "  Replace variable pi          max error introduced: 9.154282e-14  count: 1           totalerr: 9.569550e-14\n",
    "  Replace variable result      max error introduced: 2.967209e-11  count: 2000002     totalerr: 2.976779e-11\n",
    "  DO NOT replace   x           max error introduced: 2.397519e-07  count: 2000001     totalerr: 2.397817e-07\n",
    "  DO NOT replace   s1          max error introduced: 8.160601e-05  count: 2000002     totalerr: 8.184579e-05\n",
    "=== END ADAPT REPORT ===\n",
    "```"
   ]
  },
  {
   "cell_type": "code",
   "execution_count": null,
   "metadata": {},
   "outputs": [],
   "source": []
  }
 ],
 "metadata": {
  "kernelspec": {
   "display_name": "Python 3",
   "language": "python",
   "name": "python3"
  },
  "language_info": {
   "codemirror_mode": {
    "name": "ipython",
    "version": 3
   },
   "file_extension": ".py",
   "mimetype": "text/x-python",
   "name": "python",
   "nbconvert_exporter": "python",
   "pygments_lexer": "ipython3",
   "version": "3.7.2"
  }
 },
 "nbformat": 4,
 "nbformat_minor": 4
}
