{
 "cells": [
  {
   "cell_type": "markdown",
   "metadata": {},
   "source": [
    "# Add plots for my implementation of adapt error model vs the actual error model vs the partials in order to confirm that the partials are informative, they just need to be combined with an error model; already working with the residual-based analysis"
   ]
  },
  {
   "cell_type": "code",
   "execution_count": 2,
   "metadata": {},
   "outputs": [],
   "source": [
    "import warnings\n",
    "warnings.simplefilter(\"ignore\", category=DeprecationWarning)\n",
    "\n",
    "import numpy as np\n",
    "import pandas as pd\n",
    "import plotly.express as px\n",
    "import itertools\n",
    "import subprocess\n",
    "import os\n",
    "import shutil\n",
    "from sklearn.ensemble import RandomForestRegressor\n",
    "from sklearn.tree import DecisionTreeRegressor\n",
    "from SALib.sample import latin\n",
    "\n",
    "# need to use /usr/tce/bin/git binary because the default git version grabbed by this subprocess is too early for the --show-superproject-working-tree flag\n",
    "REPO_ROOT = subprocess.check_output(\"/usr/tce/bin/git rev-parse --show-superproject-working-tree --show-toplevel | head -1\", shell=True).strip().decode()"
   ]
  },
  {
   "cell_type": "code",
   "execution_count": 3,
   "metadata": {},
   "outputs": [],
   "source": [
    "N_INPUT_FEATURES = 1\n",
    "N_KERNELS = 9\n",
    "KERNEL_NAMES = [\n",
    "    \"x_wxpy\",\n",
    "    \"p_wxpy\",\n",
    "    \"r_dot\",\n",
    "    \"r_wxpy\",\n",
    "    \"matvec\",\n",
    "    \"a_dot\",\n",
    "    \"A_in\",\n",
    "    \"x_in\",\n",
    "    \"b_in\"\n",
    "    ]\n",
    "\n",
    "def HPCCG_adapt_analysis(path_to_A): \n",
    "\n",
    "    # compile if necessary\n",
    "    if not os.path.exists(\"./test_HPCCG\"):\n",
    "        subprocess.check_call(f\"source {REPO_ROOT}/scripts/activate_env.sh && make\", shell=True)\n",
    "        \n",
    "    # run foo instrumented with ADAPT calls\n",
    "    stdout = subprocess.check_output(f\"./test_HPCCG {path_to_A}\", shell=True).decode().split(\"\\n\")\n",
    "\n",
    "    partials = []\n",
    "    adapt_error_model = []\n",
    "    truncation_errors = []\n",
    "    for kernel_name in KERNEL_NAMES:\n",
    "        pruned_lines = [line for line in stdout if kernel_name in line]\n",
    "        \n",
    "        assert(len(pruned_lines) == 1)\n",
    "        \n",
    "        line = pruned_lines[0]\n",
    "\n",
    "        temp = float(line.split()[line.split().index(\"partials:\") + 1])\n",
    "        partials.append(temp)\n",
    "            \n",
    "        temp = float(line.split()[line.split().index(\"introduced:\") + 1])\n",
    "        adapt_error_model.append(temp)\n",
    "            \n",
    "        temp = float(line.split()[line.split().index(\"errors:\") + 1])\n",
    "        truncation_errors.append(temp)\n",
    "            \n",
    "    return partials, adapt_error_model, truncation_errors\n",
    "\n",
    "\n",
    "def generate_matrices(dirname, condition_numbers, density=0.1, dim=2000, generation_method=2):\n",
    "\n",
    "    # remove directory if it already exists\n",
    "    if os.path.exists(f\"{REPO_ROOT}/examples/HPCCG/test_matrices/{dirname}\"):\n",
    "        shutil.rmtree(f\"{REPO_ROOT}/examples/HPCCG/test_matrices/{dirname}\")\n",
    "    \n",
    "    # create directory for the matrices\n",
    "    os.mkdir(f\"{REPO_ROOT}/examples/HPCCG/test_matrices/{dirname}\")\n",
    "\n",
    "    # write out the desired condition numbers\n",
    "    with open(f\"{REPO_ROOT}/examples/HPCCG/test_matrices/{dirname}/cond_space.txt\", \"w\") as f:\n",
    "        for c in condition_numbers[:-1]:\n",
    "            f.write(f\"{c},\")\n",
    "        f.write(\"{}\".format(condition_numbers[-1]))\n",
    "    \n",
    "    # alter matlab code to match the necessary parameters\n",
    "    with open(f\"{REPO_ROOT}/examples/HPCCG/test_matrices/generate_matrices.m\", \"r\") as f:\n",
    "        matrix_gen_matlab_src = f.readlines()\n",
    "                \n",
    "    with open(f\"{REPO_ROOT}/examples/HPCCG/test_matrices/generate_matrices.m\", \"w\") as f:\n",
    "        for line in matrix_gen_matlab_src:\n",
    "            if \"dim = \" in line:\n",
    "                f.write(f\"dim = {dim};\\n\")\n",
    "            elif \"density = \" in line:\n",
    "                f.write(f\"density = {density};\\n\")\n",
    "            elif \"./\" in line:\n",
    "                f.write(line.replace(\"./\", f\"./{dirname}/\"))\n",
    "            elif \"generation_method = \" in line:\n",
    "                f.write(f\"generation_method = {generation_method};\\n\")\n",
    "            else:\n",
    "                f.write(line)\n",
    "            \n",
    "    # run matrix generation\n",
    "    subprocess.check_call(\"./generate_matrices.sh\", shell=True, cwd=f\"{REPO_ROOT}/examples/HPCCG/test_matrices\")\n",
    "    \n",
    "    # reset matlab code\n",
    "    with open(f\"{REPO_ROOT}/examples/HPCCG/test_matrices/generate_matrices.m\", \"w\") as f:\n",
    "        for line in matrix_gen_matlab_src:\n",
    "            f.write(line)\n",
    "    \n",
    "\n",
    "class MyPreprocessor:\n",
    "    def __init__(self, ref, lbs=[], ubs=[]):\n",
    "        self.mean = np.mean(ref, axis=0)\n",
    "        self.std = np.std(ref, axis=0)\n",
    "        if len(lbs) == 0:\n",
    "            self.min = np.min(ref, axis=0)\n",
    "        else:\n",
    "            self.min = lbs\n",
    "        if len(ubs) == 0:\n",
    "            self.max = np.max(ref, axis=0)\n",
    "        else:\n",
    "            self.max = ubs\n",
    "                \n",
    "    def normalize(self, ZZ):\n",
    "        temp = (ZZ - self.min)/(self.max - self.min)        \n",
    "        \n",
    "        # impute a random constant between 0 and 1 for constant values\n",
    "        try:\n",
    "            temp[:, np.where(self.std < 1e-16)] = np.random.uniform()\n",
    "        except IndexError:\n",
    "            temp[np.where(self.std < 1e-16)] = np.random.uniform()\n",
    "\n",
    "        return temp\n",
    "    \n",
    "    def reverse_normalize(self, ZZ):\n",
    "        temp = ZZ * (self.max - self.min) + self.min\n",
    "        \n",
    "        try:\n",
    "            temp[:, np.where(self.std < 1e-20)] = self.mean[np.where(self.std == 0)]\n",
    "        except IndexError:\n",
    "            temp[np.where(self.std < 1e-20)] = self.mean[np.where(self.std == 0)]\n",
    "                \n",
    "        return temp\n",
    "\n",
    "def get_forest_partitioning(forest, XX_test=[], YY_test=[], depth=None, impurity=None, n_samples=None):\n",
    "    assert(depth or impurity or n_samples)\n",
    "    \n",
    "    # get all the partitionings for the trees in the forest parameterized by depth, impurity, or\n",
    "    # number of samples. Each of these partitionings is a dict where keys are the bounds of the partition\n",
    "    # and the values are either the predicted sensitivities for that partition (in the case of depth or impurity\n",
    "    # stopping values) or the impurity of that partition (in the case of an n_samples stopping value) \n",
    "    tree_partitionings = []\n",
    "    R2_scores = []\n",
    "    for tree in forest.estimators_:\n",
    "        tree_partitionings.append(get_tree_partitioning(tree=tree, depth=depth, impurity=impurity, n_samples=n_samples))\n",
    "        \n",
    "        # if test data is provided, we include the score of the trees so that we can take a weighted average\n",
    "        # of the partitionings using the R2 score of the individual trees\n",
    "        if len(XX_test) != 0 and len(YY_test) != 0:\n",
    "            R2_scores.append(tree.score(XX_test,YY_test))\n",
    "            \n",
    "    # collect all of the endpoints of all of the partitions from all of the trees so that we\n",
    "    # can merge them into a single partitioning for the forest\n",
    "    endpoints = [set()]*forest.n_features_\n",
    "    for p in tree_partitionings:\n",
    "        for partition_bounds in p.keys():\n",
    "            for feature_no in range(forest.n_features_):\n",
    "                endpoints[feature_no].add(partition_bounds[feature_no][0])\n",
    "                endpoints[feature_no].add(partition_bounds[feature_no][1])\n",
    "    intervals = [list(pairwise(sorted(x))) for x in endpoints]\n",
    "    \n",
    "    # given this new merged partitioning for the forest, inspect each forest partition and take an average of \n",
    "    # the values learned for that partition by each of the trees.\n",
    "    # this average is optionally weighted by the R2 score of the tree from which the tree partition came\n",
    "    forest_partitioning = {}\n",
    "    for forest_partition_bounds in itertools.product(*intervals):\n",
    "\n",
    "        partition_values = []\n",
    "        partition_impurity = []\n",
    "        for tree_no in range(len(tree_partitionings)):\n",
    "            for tree_partition_bounds in tree_partitionings[tree_no].keys():    \n",
    "\n",
    "                # check if the forest partition falls into the tree partition by checking\n",
    "                # that each interval for each feature in the target partition is a subinterval of\n",
    "                # the interval of the corresponding feature in this partition\n",
    "                found = True\n",
    "                for feature_no in range(forest.n_features_):\n",
    "                    if not (forest_partition_bounds[feature_no][0] >= tree_partition_bounds[feature_no][0] and forest_partition_bounds[feature_no][1] <= tree_partition_bounds[feature_no][1]):\n",
    "                        found = False\n",
    "                        break\n",
    "\n",
    "                # if it is the correct tree partition, add it's prediction (optionally weighed by it's R2 score)\n",
    "                if found:\n",
    "                    if R2_scores:\n",
    "                        partition_values.append(abs(R2_scores[tree_no]) * tree_partitionings[tree_no][tree_partition_bounds][0])\n",
    "                        partition_impurity.append(abs(R2_scores[tree_no]) * tree_partitionings[tree_no][tree_partition_bounds][1])\n",
    "                    else:\n",
    "                        partition_values.append(tree_partitionings[tree_no][tree_partition_bounds][0])\n",
    "                        partition_impurity.append(tree_partitionings[tree_no][tree_partition_bounds][1])\n",
    "                        \n",
    "                    break\n",
    "                else:\n",
    "                    continue\n",
    "\n",
    "        forest_partitioning[tuple([tuple(interval) for interval in forest_partition_bounds])] = (np.mean(partition_values, axis = 0).squeeze(), np.mean(partition_impurity, axis = 0).squeeze())\n",
    "    return forest_partitioning\n",
    "    \n",
    "def get_tree_partitioning(tree, depth=None, impurity=None, n_samples=None):\n",
    "    assert(depth or impurity or n_samples)\n",
    "    return partitioning_helper(tree.tree_, 0, 0, [(0,1)]*tree.n_features_, depth, impurity, n_samples)\n",
    "    \n",
    "def partitioning_helper(tree, node_id, node_depth, node_thresholds, target_depth, target_impurity, target_n_sample):\n",
    "    \n",
    "    leaf_node = (tree.children_left[node_id] == -1)\n",
    "    \n",
    "    # if the stopping criteria is met, save the bounds of the partition, the predicted value\n",
    "    # of the partition, and the impurity of the partition\n",
    "    if ((target_depth and ((node_depth == target_depth) or leaf_node))\n",
    "        or (target_impurity and ((tree.impurity[node_id] < target_impurity)))\n",
    "           or (target_n_sample and ((tree.n_node_samples[node_id] <= target_n_sample)))\n",
    "             or (leaf_node)):\n",
    "        partition = tuple([(threshold[0], threshold[1]) for threshold in node_thresholds])\n",
    "        return { partition : (tree.value[node_id], tree.impurity[node_id])}\n",
    "    \n",
    "    # otherwise, proceed recursively\n",
    "    else:\n",
    "        split_feature = tree.feature[node_id]\n",
    "        split_threshold = tree.threshold[node_id]\n",
    "        \n",
    "        left_node_thresholds = [(x[0], split_threshold) if k_no == split_feature else x for k_no, x in enumerate(node_thresholds)]\n",
    "        right_node_thresholds = [(split_threshold, x[1]) if k_no == split_feature else x for k_no, x in enumerate(node_thresholds)]\n",
    "        \n",
    "        left_partitioning = partitioning_helper(tree, tree.children_left[node_id], node_depth + 1, left_node_thresholds, target_depth, target_impurity, target_n_sample)\n",
    "        right_partitioning = partitioning_helper(tree, tree.children_right[node_id], node_depth + 1, right_node_thresholds, target_depth, target_impurity, target_n_sample)\n",
    "        \n",
    "        return {**left_partitioning, **right_partitioning} \n",
    "    \n",
    "def pairwise(iterable):\n",
    "    \"s -> (s0,s1), (s1,s2), (s2, s3), ...\"\n",
    "    a, b = itertools.tee(iterable)\n",
    "    next(b, None)\n",
    "    return zip(a, b)    "
   ]
  },
  {
   "cell_type": "code",
   "execution_count": 4,
   "metadata": {},
   "outputs": [],
   "source": [
    "TOTAL_SAMPLES = 2**5\n",
    "ORIGINAL_BOUNDS = [\n",
    "    [10**1, 10**3],\n",
    "]\n",
    "DENSITY = 0.1\n",
    "DIM = 100"
   ]
  },
  {
   "cell_type": "code",
   "execution_count": 5,
   "metadata": {
    "scrolled": false
   },
   "outputs": [
    {
     "name": "stderr",
     "output_type": "stream",
     "text": [
      "/collab/usr/global/tools/jupyter/nb-2020-05-11/venvs/toss-python/lib/python3.7/site-packages/ipykernel_launcher.py:101: RuntimeWarning: invalid value encountered in true_divide\n"
     ]
    },
    {
     "name": "stdout",
     "output_type": "stream",
     "text": [
      "iteration number 0\n",
      "\t min samples per leaf: 2\n",
      "\t number of partitions: 3\n",
      "\t new samples added: 5\n",
      "\t total_samples: 5\n"
     ]
    },
    {
     "name": "stderr",
     "output_type": "stream",
     "text": [
      "/collab/usr/global/tools/jupyter/nb-2020-05-11/venvs/toss-python/lib/python3.7/site-packages/ipykernel_launcher.py:101: RuntimeWarning: invalid value encountered in true_divide\n"
     ]
    },
    {
     "name": "stdout",
     "output_type": "stream",
     "text": [
      "iteration number 1\n",
      "\t min samples per leaf: 4\n",
      "\t number of partitions: 2\n",
      "\t new samples added: 5\n",
      "\t total_samples: 10\n"
     ]
    },
    {
     "name": "stderr",
     "output_type": "stream",
     "text": [
      "/collab/usr/global/tools/jupyter/nb-2020-05-11/venvs/toss-python/lib/python3.7/site-packages/ipykernel_launcher.py:101: RuntimeWarning: invalid value encountered in true_divide\n"
     ]
    },
    {
     "name": "stdout",
     "output_type": "stream",
     "text": [
      "iteration number 2\n",
      "\t min samples per leaf: 4\n",
      "\t number of partitions: 3\n",
      "\t new samples added: 4\n",
      "\t total_samples: 14\n"
     ]
    },
    {
     "name": "stderr",
     "output_type": "stream",
     "text": [
      "/collab/usr/global/tools/jupyter/nb-2020-05-11/venvs/toss-python/lib/python3.7/site-packages/ipykernel_launcher.py:101: RuntimeWarning: invalid value encountered in true_divide\n"
     ]
    },
    {
     "name": "stdout",
     "output_type": "stream",
     "text": [
      "iteration number 3\n",
      "\t min samples per leaf: 4\n",
      "\t number of partitions: 5\n",
      "\t new samples added: 5\n",
      "\t total_samples: 19\n"
     ]
    },
    {
     "name": "stderr",
     "output_type": "stream",
     "text": [
      "/collab/usr/global/tools/jupyter/nb-2020-05-11/venvs/toss-python/lib/python3.7/site-packages/ipykernel_launcher.py:101: RuntimeWarning: invalid value encountered in true_divide\n"
     ]
    },
    {
     "name": "stdout",
     "output_type": "stream",
     "text": [
      "iteration number 4\n",
      "\t min samples per leaf: 3\n",
      "\t number of partitions: 8\n",
      "\t new samples added: 5\n",
      "\t total_samples: 24\n"
     ]
    },
    {
     "name": "stderr",
     "output_type": "stream",
     "text": [
      "/collab/usr/global/tools/jupyter/nb-2020-05-11/venvs/toss-python/lib/python3.7/site-packages/ipykernel_launcher.py:101: RuntimeWarning: invalid value encountered in true_divide\n"
     ]
    },
    {
     "name": "stdout",
     "output_type": "stream",
     "text": [
      "iteration number 5\n",
      "\t min samples per leaf: 2\n",
      "\t number of partitions: 14\n",
      "\t new samples added: 5\n",
      "\t total_samples: 29\n",
      "iteration number 6\n",
      "\t min samples per leaf: 2\n",
      "\t number of partitions: 16\n",
      "\t new samples added: 5\n",
      "\t total_samples: 34\n",
      "Regressor Score: -0.17218516116993146\n",
      "Number of partitions: 8\n"
     ]
    },
    {
     "name": "stderr",
     "output_type": "stream",
     "text": [
      "/collab/usr/global/tools/jupyter/nb-2020-05-11/venvs/toss-python/lib/python3.7/site-packages/ipykernel_launcher.py:101: RuntimeWarning: invalid value encountered in true_divide\n",
      "/collab/usr/global/tools/jupyter/nb-2020-05-11/venvs/toss-python/lib/python3.7/site-packages/ipykernel_launcher.py:101: RuntimeWarning: invalid value encountered in true_divide\n"
     ]
    }
   ],
   "source": [
    "samples_per_iter = int(np.sqrt(TOTAL_SAMPLES))\n",
    "min_samples_per_leaf_sequence = np.linspace(0.5, 2/TOTAL_SAMPLES, int(np.ceil(TOTAL_SAMPLES//samples_per_iter)))\n",
    "\n",
    "XX3 = np.array([]).reshape(-1, N_INPUT_FEATURES)\n",
    "SS3 = np.array([]).reshape(-1, N_KERNELS)\n",
    "df3 = []\n",
    "\n",
    "# define trivial partition with impurity 1.0\n",
    "partitioning = {tuple([tuple(interval) for interval in ORIGINAL_BOUNDS]) : 1}\n",
    "\n",
    "# iterate until we have the required number of samples\n",
    "i = -1\n",
    "while XX3.shape[0] < TOTAL_SAMPLES:\n",
    "    i +=1\n",
    "    \n",
    "    XX_this_iter = np.array([]).reshape(-1, N_INPUT_FEATURES)\n",
    "    SS_this_iter = np.array([]).reshape(-1, N_KERNELS)\n",
    "\n",
    "    # for the first round of sampling, uniform\n",
    "    if XX3.shape[0] == 0:\n",
    "        feature_vals = []\n",
    "        for feature_no in range(N_INPUT_FEATURES):\n",
    "            feature_vals.append(np.linspace(*ORIGINAL_BOUNDS[feature_no], int(np.ceil(samples_per_iter**(1/N_INPUT_FEATURES)))))\n",
    "            \n",
    "        XX_this_iter = np.concatenate([XX_this_iter, np.array(list(itertools.product(*feature_vals))).reshape(-1, N_INPUT_FEATURES)])\n",
    "\n",
    "    else:       \n",
    "        \n",
    "        # for each partition, draw a number of samples proportional to the impurity\n",
    "        # and calculate their corresponding partials\n",
    "        for proportion_of_total_impurity, partition in sorted([(np.abs(value)/np.sum(np.abs(list(partitioning.values()))), partition) for partition, value in partitioning.items()]):\n",
    "            problem = {\n",
    "                'num_vars': N_INPUT_FEATURES,\n",
    "                'names': KERNEL_NAMES,\n",
    "                'bounds' : partition,\n",
    "            }\n",
    "            n_samples_in_this_partition = min(samples_per_iter - XX_this_iter.shape[0], max(1,int(samples_per_iter * proportion_of_total_impurity)))\n",
    "            XX_this_iter = np.concatenate([XX_this_iter, latin.sample(problem, n_samples_in_this_partition).reshape(-1,N_INPUT_FEATURES)])\n",
    "            if XX_this_iter.shape[0] == samples_per_iter:\n",
    "                break                   \n",
    "    \n",
    "    generate_matrices(dirname=i, condition_numbers=XX_this_iter.squeeze(), dim=DIM, density=DENSITY)\n",
    "                \n",
    "    for matrix_path in [f\"{REPO_ROOT}/examples/HPCCG/test_matrices/{i}/{A}\" for A in os.listdir(f\"{REPO_ROOT}/examples/HPCCG/test_matrices/{i}/\") if A.endswith(\".dat\")]:\n",
    "        SS, EE, TT = HPCCG_adapt_analysis(matrix_path)\n",
    "        \n",
    "        for k_no, kernel_name in enumerate(KERNEL_NAMES):\n",
    "            df3.append({\n",
    "                'condition_number' : float(matrix_path[matrix_path.rfind(\"_\") + 1 : matrix_path.rfind(\".\")]),\n",
    "                'partial' : SS[k_no],\n",
    "                'kernel_name' : kernel_name,\n",
    "                'sample_strategy' : \"guided\",\n",
    "                'adapt_error_model' : EE[k_no],\n",
    "                'truncation_error' : TT[k_no],\n",
    "                'my_implementation_of_adapt_error_model' : SS[k_no] * TT[k_no]\n",
    "            })\n",
    "        SS_this_iter = np.concatenate([SS_this_iter, np.reshape(SS, (1,N_KERNELS))])\n",
    "            \n",
    "    XX3 = np.concatenate([XX3, XX_this_iter])\n",
    "    SS3 = np.concatenate([SS3, SS_this_iter])\n",
    "\n",
    "    try:\n",
    "        min_samples_per_leaf = max(2, int(min_samples_per_leaf_sequence[i] * XX3.shape[0]))\n",
    "    except IndexError:\n",
    "        min_samples_per_leaf = 2\n",
    "    \n",
    "    # train forest on all of data sampled thus far\n",
    "    XX3_preprocessor = MyPreprocessor(XX3, lbs=np.array(ORIGINAL_BOUNDS)[:,0], ubs=np.array(ORIGINAL_BOUNDS)[:,1])\n",
    "    XX3_pp = XX3_preprocessor.normalize(XX3)\n",
    "    SS3_preprocessor = MyPreprocessor(SS3)\n",
    "    SS3_pp = SS3_preprocessor.normalize(SS3)    \n",
    "    tree = DecisionTreeRegressor(min_samples_split=2*min_samples_per_leaf)\n",
    "    \n",
    "    tree.fit(XX3_pp, SS3_pp)\n",
    "    \n",
    "    \n",
    "    # get partitioning parameterized by n_samples; this returns a set partitions,\n",
    "    # each of which contains a maximum of n_samples, with the corresponding impurity of that partition \n",
    "    normalized_partitioning = get_tree_partitioning(tree, ORIGINAL_BOUNDS, n_samples=min_samples_per_leaf)\n",
    "                                                    \n",
    "    # un-normalize the bounds of the partitions and keep only the impurity from the value pair\n",
    "    partitioning = {}\n",
    "    for normalized_partition, value_pair in normalized_partitioning.items():\n",
    "        unnormalized_partition = XX3_preprocessor.reverse_normalize(np.array(normalized_partition).T).T\n",
    "        partitioning[tuple([tuple(interval) for interval in unnormalized_partition])] = value_pair[1]\n",
    "                                                    \n",
    "    print(f\"iteration number {i}\")\n",
    "    print(f\"\\t min samples per leaf: {min_samples_per_leaf}\")\n",
    "    print(f\"\\t number of partitions: {len(partitioning)}\")\n",
    "    print(f\"\\t new samples added: {XX_this_iter.shape[0]}\")\n",
    "    print(f\"\\t total_samples: {XX3.shape[0]}\")\n",
    "    \n",
    "# shuffle\n",
    "shuffled_indices = np.arange(XX3.shape[0])\n",
    "np.random.shuffle(shuffled_indices)\n",
    "XX3 = XX3[shuffled_indices]\n",
    "SS3 = SS3[shuffled_indices]\n",
    "\n",
    "# train/test split\n",
    "split_proportion = 0.8\n",
    "split_point = int(XX3.shape[0] * split_proportion)\n",
    "XX3_train, XX3_test = XX3[:split_point], XX3[split_point:]\n",
    "SS3_train, SS3_test = SS3[:split_point], SS3[split_point:]\n",
    "\n",
    "# preprocess\n",
    "XX3_preprocessor = MyPreprocessor(XX3_train, lbs=np.array(ORIGINAL_BOUNDS)[:,0], ubs=np.array(ORIGINAL_BOUNDS)[:,1])\n",
    "XX3_train_pp = XX3_preprocessor.normalize(XX3_train)\n",
    "XX3_test_pp = XX3_preprocessor.normalize(XX3_test)\n",
    "\n",
    "SS3_preprocessor = MyPreprocessor(SS3_train)\n",
    "SS3_train_pp = SS3_preprocessor.normalize(SS3_train)\n",
    "SS3_test_pp = SS3_preprocessor.normalize(SS3_test)\n",
    "\n",
    "rf3 = RandomForestRegressor(n_estimators=10,\n",
    "                                    #criterion=\"mse\",\n",
    "                                    #max_features=int(round(X_train_pp.shape[1]/ 3)),\n",
    "                                    #max_depth=8,\n",
    "                                    #min_samples_split=2,\n",
    "                                    #min_samples_leaf=max(1, int(round(np.sqrt(X_train_pp.shape[0]) / np.sqrt(1000)))),\n",
    "                                    #min_weight_fraction_leaf=0,\n",
    "                                    #max_leaf_nodes=None,\n",
    "                                    #bootstrap=False,\n",
    "                                    #oob_score=True,\n",
    "                                    #random_state=1\n",
    "                                  )\n",
    "\n",
    "rf3.fit(XX3_train_pp, SS3_train_pp)\n",
    "print(f\"Regressor Score: {rf3.score(XX3_test_pp, SS3_test_pp)}\")\n",
    "\n",
    "ensemble_approx_regime3 = get_forest_partitioning(rf3, XX3_test_pp, SS3_test_pp, depth=1)\n",
    "print(\"Number of partitions: {}\".format(len(ensemble_approx_regime3)))"
   ]
  },
  {
   "cell_type": "code",
   "execution_count": 7,
   "metadata": {},
   "outputs": [
    {
     "name": "stdout",
     "output_type": "stream",
     "text": [
      "Regressor Score: 0.3386657797930217\n",
      "Number of partitions: 8\n"
     ]
    },
    {
     "name": "stderr",
     "output_type": "stream",
     "text": [
      "/collab/usr/global/tools/jupyter/nb-2020-05-11/venvs/toss-python/lib/python3.7/site-packages/ipykernel_launcher.py:101: RuntimeWarning: invalid value encountered in true_divide\n"
     ]
    }
   ],
   "source": [
    "feature_vals = []\n",
    "for feature_no in range(N_INPUT_FEATURES):\n",
    "    feature_vals.append(np.linspace(*ORIGINAL_BOUNDS[feature_no], int(np.ceil(TOTAL_SAMPLES**(1/N_INPUT_FEATURES)))))\n",
    "\n",
    "XX1 = np.array(list(itertools.product(*feature_vals))).reshape(-1, N_INPUT_FEATURES)\n",
    "\n",
    "generate_matrices(dirname=\"uniform\", condition_numbers=XX1.squeeze(), dim=DIM, density=DENSITY)\n",
    "\n",
    "df1 = []\n",
    "SS1 = []\n",
    "for matrix_path in [f\"{REPO_ROOT}/examples/HPCCG/test_matrices/uniform/{A}\" for A in os.listdir(f\"{REPO_ROOT}/examples/HPCCG/test_matrices/uniform/\") if A.endswith(\".dat\")]:\n",
    "    SS, EE, TT = HPCCG_adapt_analysis(matrix_path)\n",
    "    SS1.append(SS)\n",
    "    for k_no, kernel_name in enumerate(KERNEL_NAMES):\n",
    "        df1.append({\n",
    "            'condition_number' : float(matrix_path[matrix_path.rfind(\"_\") + 1 : matrix_path.rfind(\".\")]),\n",
    "            'partial' : SS[k_no],\n",
    "            'kernel_name' : kernel_name,\n",
    "            'sample_strategy' : \"uniform\",\n",
    "            'adapt_error_model' : EE[k_no],\n",
    "            'truncation_error' : TT[k_no],\n",
    "            'my_implementation_of_adapt_error_model' : SS[k_no] * TT[k_no]\n",
    "        })\n",
    "SS1 = np.array(SS1)\n",
    "\n",
    "# shuffle\n",
    "shuffled_indices = np.arange(XX1.shape[0])\n",
    "np.random.shuffle(shuffled_indices)\n",
    "XX1 = XX1[shuffled_indices]\n",
    "SS1 = SS1[shuffled_indices]\n",
    "\n",
    "# train/test split\n",
    "split_proportion = 0.8\n",
    "split_point = int(XX1.shape[0] * split_proportion)\n",
    "XX1_train, XX1_test = XX1[:split_point], XX1[split_point:]\n",
    "SS1_train, SS1_test = SS1[:split_point], SS1[split_point:]\n",
    "\n",
    "# preprocess\n",
    "XX1_preprocessor = MyPreprocessor(XX1_train, lbs=np.array(ORIGINAL_BOUNDS)[:,0], ubs=np.array(ORIGINAL_BOUNDS)[:,1])\n",
    "XX1_train_pp = XX1_preprocessor.normalize(XX1_train)\n",
    "XX1_test_pp = XX1_preprocessor.normalize(XX1_test)\n",
    "\n",
    "SS1_preprocessor = MyPreprocessor(SS1_train)\n",
    "SS1_train_pp = SS1_preprocessor.normalize(SS1_train)\n",
    "SS1_test_pp = SS1_preprocessor.normalize(SS1_test)\n",
    "\n",
    "rf1 = RandomForestRegressor(n_estimators=10,\n",
    "                                    #criterion=\"mse\",\n",
    "                                    #max_features=int(round(X_train_pp.shape[1]/ 3)),\n",
    "                                    #max_depth=8,\n",
    "                                    #min_samples_split=2,\n",
    "                                    #min_samples_leaf=max(1, int(round(np.sqrt(X_train_pp.shape[0]) / np.sqrt(1000)))),\n",
    "                                    #min_weight_fraction_leaf=0,\n",
    "                                    #max_leaf_nodes=None,\n",
    "                                    #bootstrap=False,\n",
    "                                    #oob_score=True,\n",
    "                                    #random_state=1\n",
    "                                  )\n",
    "\n",
    "rf1.fit(XX1_train_pp, SS1_train_pp)\n",
    "print(f\"Regressor Score: {rf1.score(XX1_test_pp, SS1_test_pp)}\")\n",
    "\n",
    "ensemble_approx_regime1 = get_forest_partitioning(rf1, XX1_test_pp, SS1_test_pp, depth=1)\n",
    "print(\"Number of partitions: {}\".format(len(ensemble_approx_regime1)))"
   ]
  },
  {
   "cell_type": "code",
   "execution_count": 9,
   "metadata": {
    "scrolled": false
   },
   "outputs": [
    {
     "data": {
      "application/vnd.plotly.v1+json": {
       "config": {
        "plotlyServerURL": "https://plot.ly"
       },
       "data": [
        {
         "hovertemplate": "kernel_name=x_wxpy<br>condition_number=%{x}<br>partial=%{y}<extra></extra>",
         "legendgroup": "x_wxpy",
         "marker": {
          "color": "#636efa",
          "symbol": "circle"
         },
         "mode": "markers",
         "name": "x_wxpy",
         "orientation": "v",
         "showlegend": true,
         "type": "scatter",
         "x": [
          71.04159,
          373.1418,
          489.5411,
          728.8496,
          584.5738,
          785.2034,
          1959.303,
          3230.891,
          1438.271,
          2469.146,
          2667.885,
          2572.696,
          2152.209,
          3032.822,
          3876.724,
          2531.423,
          4215.023,
          2850.561,
          3188.968,
          3915.859,
          3305.003,
          6414.587,
          3772.184,
          5299.063,
          6476.695,
          11643.6,
          10164.02,
          7282.41,
          5277.623,
          9301.471,
          4745.863,
          6483.203
         ],
         "xaxis": "x",
         "y": [
          0.01,
          0.01,
          0.01,
          0.01,
          0.01,
          0.01,
          0.01,
          0.01,
          0.01,
          0.01,
          0.01,
          0.01,
          0.01,
          0.01,
          0.01,
          0.01,
          0.01,
          0.01,
          0.01,
          0.01,
          0.01,
          0.01,
          0.01,
          0.01,
          0.01,
          0.01,
          0.01,
          0.01,
          0.01,
          0.01,
          0.01,
          0.01
         ],
         "yaxis": "y"
        },
        {
         "hovertemplate": "kernel_name=p_wxpy<br>condition_number=%{x}<br>partial=%{y}<extra></extra>",
         "legendgroup": "p_wxpy",
         "marker": {
          "color": "#EF553B",
          "symbol": "diamond"
         },
         "mode": "markers",
         "name": "p_wxpy",
         "orientation": "v",
         "showlegend": true,
         "type": "scatter",
         "x": [
          71.04159,
          373.1418,
          489.5411,
          728.8496,
          584.5738,
          785.2034,
          1959.303,
          3230.891,
          1438.271,
          2469.146,
          2667.885,
          2572.696,
          2152.209,
          3032.822,
          3876.724,
          2531.423,
          4215.023,
          2850.561,
          3188.968,
          3915.859,
          3305.003,
          6414.587,
          3772.184,
          5299.063,
          6476.695,
          11643.6,
          10164.02,
          7282.41,
          5277.623,
          9301.471,
          4745.863,
          6483.203
         ],
         "xaxis": "x",
         "y": [
          3.74931,
          168055,
          2990350,
          1197740,
          47182.4,
          1218750,
          65890100,
          282013000,
          48024400,
          609253,
          48740900,
          46086400,
          52082000,
          4238280,
          543881000,
          61529000,
          1475450,
          5569720,
          31534200,
          448512000,
          243823000,
          8623450,
          954548,
          141695000,
          11047000,
          3627070,
          435715,
          17543500,
          12554100000,
          16301200,
          4812250,
          27476900
         ],
         "yaxis": "y"
        },
        {
         "hovertemplate": "kernel_name=r_dot<br>condition_number=%{x}<br>partial=%{y}<extra></extra>",
         "legendgroup": "r_dot",
         "marker": {
          "color": "#00cc96",
          "symbol": "square"
         },
         "mode": "markers",
         "name": "r_dot",
         "orientation": "v",
         "showlegend": true,
         "type": "scatter",
         "x": [
          71.04159,
          373.1418,
          489.5411,
          728.8496,
          584.5738,
          785.2034,
          1959.303,
          3230.891,
          1438.271,
          2469.146,
          2667.885,
          2572.696,
          2152.209,
          3032.822,
          3876.724,
          2531.423,
          4215.023,
          2850.561,
          3188.968,
          3915.859,
          3305.003,
          6414.587,
          3772.184,
          5299.063,
          6476.695,
          11643.6,
          10164.02,
          7282.41,
          5277.623,
          9301.471,
          4745.863,
          6483.203
         ],
         "xaxis": "x",
         "y": [
          1636000000000000000,
          5.37452e+21,
          6.75293e+23,
          2.45784e+24,
          3.26662e+21,
          1.79703e+23,
          2.14215e+27,
          5.86234e+26,
          2.94974e+26,
          2.76666e+23,
          5.02776e+26,
          1.41559e+26,
          3.51759e+25,
          9.30466e+24,
          9.41201e+27,
          4.01899e+25,
          1.4336e+25,
          2.55177e+26,
          1.63005e+26,
          1.19687e+28,
          4.64156e+25,
          6.09167e+25,
          4.51476e+24,
          1.04092e+28,
          7.43277e+24,
          2.87984e+24,
          2.7377e+24,
          1.76003e+27,
          2.07728e+29,
          9.10951e+24,
          5.97572e+24,
          2.33823e+26
         ],
         "yaxis": "y"
        },
        {
         "hovertemplate": "kernel_name=r_wxpy<br>condition_number=%{x}<br>partial=%{y}<extra></extra>",
         "legendgroup": "r_wxpy",
         "marker": {
          "color": "#ab63fa",
          "symbol": "x"
         },
         "mode": "markers",
         "name": "r_wxpy",
         "orientation": "v",
         "showlegend": true,
         "type": "scatter",
         "x": [
          71.04159,
          373.1418,
          489.5411,
          728.8496,
          584.5738,
          785.2034,
          1959.303,
          3230.891,
          1438.271,
          2469.146,
          2667.885,
          2572.696,
          2152.209,
          3032.822,
          3876.724,
          2531.423,
          4215.023,
          2850.561,
          3188.968,
          3915.859,
          3305.003,
          6414.587,
          3772.184,
          5299.063,
          6476.695,
          11643.6,
          10164.02,
          7282.41,
          5277.623,
          9301.471,
          4745.863,
          6483.203
         ],
         "xaxis": "x",
         "y": [
          2.95883,
          122835,
          2425910,
          1176360,
          40981.7,
          1639110,
          75179900,
          228366000,
          37597300,
          478041,
          44033000,
          36657100,
          47013500,
          3447300,
          428419000,
          48930400,
          1319580,
          5092150,
          23712300,
          313105000,
          171610000,
          8568730,
          927748,
          140940000,
          14957700,
          3283740,
          411377,
          18398400,
          9600020000,
          12822200,
          4804010,
          27113400
         ],
         "yaxis": "y"
        },
        {
         "hovertemplate": "kernel_name=matvec<br>condition_number=%{x}<br>partial=%{y}<extra></extra>",
         "legendgroup": "matvec",
         "marker": {
          "color": "#FFA15A",
          "symbol": "cross"
         },
         "mode": "markers",
         "name": "matvec",
         "orientation": "v",
         "showlegend": true,
         "type": "scatter",
         "x": [
          71.04159,
          373.1418,
          489.5411,
          728.8496,
          584.5738,
          785.2034,
          1959.303,
          3230.891,
          1438.271,
          2469.146,
          2667.885,
          2572.696,
          2152.209,
          3032.822,
          3876.724,
          2531.423,
          4215.023,
          2850.561,
          3188.968,
          3915.859,
          3305.003,
          6414.587,
          3772.184,
          5299.063,
          6476.695,
          11643.6,
          10164.02,
          7282.41,
          5277.623,
          9301.471,
          4745.863,
          6483.203
         ],
         "xaxis": "x",
         "y": [
          1.38344,
          60078.2,
          2491000,
          716532,
          81076.7,
          2856480,
          153189000,
          699960000,
          171793000,
          4506910,
          38370000,
          151373000,
          125954000,
          3084220,
          1835890000,
          248496000,
          1190500,
          11427000,
          177939000,
          920124000,
          448232000,
          29183700,
          3319560,
          177446000,
          41365500,
          7892610,
          1175930,
          52654800,
          14211900000,
          23576800,
          12120600,
          109917000
         ],
         "yaxis": "y"
        },
        {
         "hovertemplate": "kernel_name=a_dot<br>condition_number=%{x}<br>partial=%{y}<extra></extra>",
         "legendgroup": "a_dot",
         "marker": {
          "color": "#19d3f3",
          "symbol": "circle"
         },
         "mode": "markers",
         "name": "a_dot",
         "orientation": "v",
         "showlegend": true,
         "type": "scatter",
         "x": [
          71.04159,
          373.1418,
          489.5411,
          728.8496,
          584.5738,
          785.2034,
          1959.303,
          3230.891,
          1438.271,
          2469.146,
          2667.885,
          2572.696,
          2152.209,
          3032.822,
          3876.724,
          2531.423,
          4215.023,
          2850.561,
          3188.968,
          3915.859,
          3305.003,
          6414.587,
          3772.184,
          5299.063,
          6476.695,
          11643.6,
          10164.02,
          7282.41,
          5277.623,
          9301.471,
          4745.863,
          6483.203
         ],
         "xaxis": "x",
         "y": [
          203273000000000000,
          521050000000000000000,
          9.66779e+24,
          3.82208e+23,
          6.94268e+21,
          2.5563e+23,
          2.15173e+27,
          2.33796e+27,
          1.17287e+27,
          2.19126e+23,
          2.77886e+25,
          8.83564e+26,
          5.61247e+25,
          4.31538e+24,
          1.11664e+28,
          3.28e+26,
          3.94885e+24,
          4.97097e+26,
          8.20914e+26,
          4.98329e+27,
          1.19801e+26,
          1.19679e+26,
          1.60101e+25,
          2.23973e+27,
          1.15797e+25,
          9.35391e+24,
          1.53716e+25,
          5.92473e+26,
          1.56466e+29,
          1.08329e+25,
          4.93515e+24,
          7.88198e+25
         ],
         "yaxis": "y"
        },
        {
         "hovertemplate": "kernel_name=A_in<br>condition_number=%{x}<br>partial=%{y}<extra></extra>",
         "legendgroup": "A_in",
         "marker": {
          "color": "#FF6692",
          "symbol": "diamond"
         },
         "mode": "markers",
         "name": "A_in",
         "orientation": "v",
         "showlegend": true,
         "type": "scatter",
         "x": [
          71.04159,
          373.1418,
          489.5411,
          728.8496,
          584.5738,
          785.2034,
          1959.303,
          3230.891,
          1438.271,
          2469.146,
          2667.885,
          2572.696,
          2152.209,
          3032.822,
          3876.724,
          2531.423,
          4215.023,
          2850.561,
          3188.968,
          3915.859,
          3305.003,
          6414.587,
          3772.184,
          5299.063,
          6476.695,
          11643.6,
          10164.02,
          7282.41,
          5277.623,
          9301.471,
          4745.863,
          6483.203
         ],
         "xaxis": "x",
         "y": [
          1.53743e-08,
          7.94292e-07,
          0.000148546,
          4.71135e-05,
          5.21745e-05,
          8.14782e-05,
          0.00183037,
          0.000312349,
          0.00210337,
          0.00273656,
          0.417301,
          0.00334263,
          0.00265153,
          0.0204892,
          0.00552889,
          0.0062352,
          0.0205853,
          0.0173107,
          0.0169278,
          0.912891,
          0.064747,
          0.0266576,
          0.00284956,
          0.0597193,
          0.0485132,
          0.0530878,
          0.0182135,
          0.075986,
          7.12754,
          0.0472736,
          0.0124054,
          0.561888
         ],
         "yaxis": "y"
        },
        {
         "hovertemplate": "kernel_name=x_in<br>condition_number=%{x}<br>partial=%{y}<extra></extra>",
         "legendgroup": "x_in",
         "marker": {
          "color": "#B6E880",
          "symbol": "square"
         },
         "mode": "markers",
         "name": "x_in",
         "orientation": "v",
         "showlegend": true,
         "type": "scatter",
         "x": [
          71.04159,
          373.1418,
          489.5411,
          728.8496,
          584.5738,
          785.2034,
          1959.303,
          3230.891,
          1438.271,
          2469.146,
          2667.885,
          2572.696,
          2152.209,
          3032.822,
          3876.724,
          2531.423,
          4215.023,
          2850.561,
          3188.968,
          3915.859,
          3305.003,
          6414.587,
          3772.184,
          5299.063,
          6476.695,
          11643.6,
          10164.02,
          7282.41,
          5277.623,
          9301.471,
          4745.863,
          6483.203
         ],
         "xaxis": "x",
         "y": [
          1.19629e-17,
          2.75449e-17,
          1.45539e-16,
          2.68337e-17,
          2.80779e-16,
          7.69275e-16,
          3.0223e-16,
          2.14341e-16,
          2.08981e-16,
          2.34961e-16,
          1.37103e-15,
          1.28083e-15,
          1.82839e-16,
          4.01477e-16,
          4.81731e-16,
          3.09827e-16,
          6.23527e-16,
          3.92272e-16,
          2.38183e-15,
          3.26843e-14,
          2.38069e-16,
          9.37547e-16,
          2.59425e-16,
          1.44584e-15,
          1.12968e-15,
          7.4922e-16,
          1.05331e-15,
          2.4942e-15,
          3.53012e-14,
          1.29967e-15,
          5.91818e-16,
          8.94333e-15
         ],
         "yaxis": "y"
        },
        {
         "hovertemplate": "kernel_name=b_in<br>condition_number=%{x}<br>partial=%{y}<extra></extra>",
         "legendgroup": "b_in",
         "marker": {
          "color": "#FF97FF",
          "symbol": "x"
         },
         "mode": "markers",
         "name": "b_in",
         "orientation": "v",
         "showlegend": true,
         "type": "scatter",
         "x": [
          71.04159,
          373.1418,
          489.5411,
          728.8496,
          584.5738,
          785.2034,
          1959.303,
          3230.891,
          1438.271,
          2469.146,
          2667.885,
          2572.696,
          2152.209,
          3032.822,
          3876.724,
          2531.423,
          4215.023,
          2850.561,
          3188.968,
          3915.859,
          3305.003,
          6414.587,
          3772.184,
          5299.063,
          6476.695,
          11643.6,
          10164.02,
          7282.41,
          5277.623,
          9301.471,
          4745.863,
          6483.203
         ],
         "xaxis": "x",
         "y": [
          0.0233197,
          0.156074,
          0.362477,
          0.438612,
          0.451455,
          0.862773,
          0.846873,
          1.50472,
          0.836205,
          1.22522,
          1.877,
          2.17986,
          1.94585,
          2.11628,
          2.81133,
          2.47021,
          3.12963,
          1.75602,
          1.91241,
          2.61869,
          3.97096,
          2.59773,
          3.319,
          4.53231,
          4.98568,
          2.25037,
          3.89723,
          4.89364,
          4.32745,
          4.9661,
          6.95078,
          4.26083
         ],
         "yaxis": "y"
        }
       ],
       "layout": {
        "legend": {
         "title": {
          "text": "kernel_name"
         },
         "tracegroupgap": 0
        },
        "template": {
         "data": {
          "bar": [
           {
            "error_x": {
             "color": "#2a3f5f"
            },
            "error_y": {
             "color": "#2a3f5f"
            },
            "marker": {
             "line": {
              "color": "#E5ECF6",
              "width": 0.5
             },
             "pattern": {
              "fillmode": "overlay",
              "size": 10,
              "solidity": 0.2
             }
            },
            "type": "bar"
           }
          ],
          "barpolar": [
           {
            "marker": {
             "line": {
              "color": "#E5ECF6",
              "width": 0.5
             },
             "pattern": {
              "fillmode": "overlay",
              "size": 10,
              "solidity": 0.2
             }
            },
            "type": "barpolar"
           }
          ],
          "carpet": [
           {
            "aaxis": {
             "endlinecolor": "#2a3f5f",
             "gridcolor": "white",
             "linecolor": "white",
             "minorgridcolor": "white",
             "startlinecolor": "#2a3f5f"
            },
            "baxis": {
             "endlinecolor": "#2a3f5f",
             "gridcolor": "white",
             "linecolor": "white",
             "minorgridcolor": "white",
             "startlinecolor": "#2a3f5f"
            },
            "type": "carpet"
           }
          ],
          "choropleth": [
           {
            "colorbar": {
             "outlinewidth": 0,
             "ticks": ""
            },
            "type": "choropleth"
           }
          ],
          "contour": [
           {
            "colorbar": {
             "outlinewidth": 0,
             "ticks": ""
            },
            "colorscale": [
             [
              0,
              "#0d0887"
             ],
             [
              0.1111111111111111,
              "#46039f"
             ],
             [
              0.2222222222222222,
              "#7201a8"
             ],
             [
              0.3333333333333333,
              "#9c179e"
             ],
             [
              0.4444444444444444,
              "#bd3786"
             ],
             [
              0.5555555555555556,
              "#d8576b"
             ],
             [
              0.6666666666666666,
              "#ed7953"
             ],
             [
              0.7777777777777778,
              "#fb9f3a"
             ],
             [
              0.8888888888888888,
              "#fdca26"
             ],
             [
              1,
              "#f0f921"
             ]
            ],
            "type": "contour"
           }
          ],
          "contourcarpet": [
           {
            "colorbar": {
             "outlinewidth": 0,
             "ticks": ""
            },
            "type": "contourcarpet"
           }
          ],
          "heatmap": [
           {
            "colorbar": {
             "outlinewidth": 0,
             "ticks": ""
            },
            "colorscale": [
             [
              0,
              "#0d0887"
             ],
             [
              0.1111111111111111,
              "#46039f"
             ],
             [
              0.2222222222222222,
              "#7201a8"
             ],
             [
              0.3333333333333333,
              "#9c179e"
             ],
             [
              0.4444444444444444,
              "#bd3786"
             ],
             [
              0.5555555555555556,
              "#d8576b"
             ],
             [
              0.6666666666666666,
              "#ed7953"
             ],
             [
              0.7777777777777778,
              "#fb9f3a"
             ],
             [
              0.8888888888888888,
              "#fdca26"
             ],
             [
              1,
              "#f0f921"
             ]
            ],
            "type": "heatmap"
           }
          ],
          "heatmapgl": [
           {
            "colorbar": {
             "outlinewidth": 0,
             "ticks": ""
            },
            "colorscale": [
             [
              0,
              "#0d0887"
             ],
             [
              0.1111111111111111,
              "#46039f"
             ],
             [
              0.2222222222222222,
              "#7201a8"
             ],
             [
              0.3333333333333333,
              "#9c179e"
             ],
             [
              0.4444444444444444,
              "#bd3786"
             ],
             [
              0.5555555555555556,
              "#d8576b"
             ],
             [
              0.6666666666666666,
              "#ed7953"
             ],
             [
              0.7777777777777778,
              "#fb9f3a"
             ],
             [
              0.8888888888888888,
              "#fdca26"
             ],
             [
              1,
              "#f0f921"
             ]
            ],
            "type": "heatmapgl"
           }
          ],
          "histogram": [
           {
            "marker": {
             "pattern": {
              "fillmode": "overlay",
              "size": 10,
              "solidity": 0.2
             }
            },
            "type": "histogram"
           }
          ],
          "histogram2d": [
           {
            "colorbar": {
             "outlinewidth": 0,
             "ticks": ""
            },
            "colorscale": [
             [
              0,
              "#0d0887"
             ],
             [
              0.1111111111111111,
              "#46039f"
             ],
             [
              0.2222222222222222,
              "#7201a8"
             ],
             [
              0.3333333333333333,
              "#9c179e"
             ],
             [
              0.4444444444444444,
              "#bd3786"
             ],
             [
              0.5555555555555556,
              "#d8576b"
             ],
             [
              0.6666666666666666,
              "#ed7953"
             ],
             [
              0.7777777777777778,
              "#fb9f3a"
             ],
             [
              0.8888888888888888,
              "#fdca26"
             ],
             [
              1,
              "#f0f921"
             ]
            ],
            "type": "histogram2d"
           }
          ],
          "histogram2dcontour": [
           {
            "colorbar": {
             "outlinewidth": 0,
             "ticks": ""
            },
            "colorscale": [
             [
              0,
              "#0d0887"
             ],
             [
              0.1111111111111111,
              "#46039f"
             ],
             [
              0.2222222222222222,
              "#7201a8"
             ],
             [
              0.3333333333333333,
              "#9c179e"
             ],
             [
              0.4444444444444444,
              "#bd3786"
             ],
             [
              0.5555555555555556,
              "#d8576b"
             ],
             [
              0.6666666666666666,
              "#ed7953"
             ],
             [
              0.7777777777777778,
              "#fb9f3a"
             ],
             [
              0.8888888888888888,
              "#fdca26"
             ],
             [
              1,
              "#f0f921"
             ]
            ],
            "type": "histogram2dcontour"
           }
          ],
          "mesh3d": [
           {
            "colorbar": {
             "outlinewidth": 0,
             "ticks": ""
            },
            "type": "mesh3d"
           }
          ],
          "parcoords": [
           {
            "line": {
             "colorbar": {
              "outlinewidth": 0,
              "ticks": ""
             }
            },
            "type": "parcoords"
           }
          ],
          "pie": [
           {
            "automargin": true,
            "type": "pie"
           }
          ],
          "scatter": [
           {
            "fillpattern": {
             "fillmode": "overlay",
             "size": 10,
             "solidity": 0.2
            },
            "type": "scatter"
           }
          ],
          "scatter3d": [
           {
            "line": {
             "colorbar": {
              "outlinewidth": 0,
              "ticks": ""
             }
            },
            "marker": {
             "colorbar": {
              "outlinewidth": 0,
              "ticks": ""
             }
            },
            "type": "scatter3d"
           }
          ],
          "scattercarpet": [
           {
            "marker": {
             "colorbar": {
              "outlinewidth": 0,
              "ticks": ""
             }
            },
            "type": "scattercarpet"
           }
          ],
          "scattergeo": [
           {
            "marker": {
             "colorbar": {
              "outlinewidth": 0,
              "ticks": ""
             }
            },
            "type": "scattergeo"
           }
          ],
          "scattergl": [
           {
            "marker": {
             "colorbar": {
              "outlinewidth": 0,
              "ticks": ""
             }
            },
            "type": "scattergl"
           }
          ],
          "scattermapbox": [
           {
            "marker": {
             "colorbar": {
              "outlinewidth": 0,
              "ticks": ""
             }
            },
            "type": "scattermapbox"
           }
          ],
          "scatterpolar": [
           {
            "marker": {
             "colorbar": {
              "outlinewidth": 0,
              "ticks": ""
             }
            },
            "type": "scatterpolar"
           }
          ],
          "scatterpolargl": [
           {
            "marker": {
             "colorbar": {
              "outlinewidth": 0,
              "ticks": ""
             }
            },
            "type": "scatterpolargl"
           }
          ],
          "scatterternary": [
           {
            "marker": {
             "colorbar": {
              "outlinewidth": 0,
              "ticks": ""
             }
            },
            "type": "scatterternary"
           }
          ],
          "surface": [
           {
            "colorbar": {
             "outlinewidth": 0,
             "ticks": ""
            },
            "colorscale": [
             [
              0,
              "#0d0887"
             ],
             [
              0.1111111111111111,
              "#46039f"
             ],
             [
              0.2222222222222222,
              "#7201a8"
             ],
             [
              0.3333333333333333,
              "#9c179e"
             ],
             [
              0.4444444444444444,
              "#bd3786"
             ],
             [
              0.5555555555555556,
              "#d8576b"
             ],
             [
              0.6666666666666666,
              "#ed7953"
             ],
             [
              0.7777777777777778,
              "#fb9f3a"
             ],
             [
              0.8888888888888888,
              "#fdca26"
             ],
             [
              1,
              "#f0f921"
             ]
            ],
            "type": "surface"
           }
          ],
          "table": [
           {
            "cells": {
             "fill": {
              "color": "#EBF0F8"
             },
             "line": {
              "color": "white"
             }
            },
            "header": {
             "fill": {
              "color": "#C8D4E3"
             },
             "line": {
              "color": "white"
             }
            },
            "type": "table"
           }
          ]
         },
         "layout": {
          "annotationdefaults": {
           "arrowcolor": "#2a3f5f",
           "arrowhead": 0,
           "arrowwidth": 1
          },
          "autotypenumbers": "strict",
          "coloraxis": {
           "colorbar": {
            "outlinewidth": 0,
            "ticks": ""
           }
          },
          "colorscale": {
           "diverging": [
            [
             0,
             "#8e0152"
            ],
            [
             0.1,
             "#c51b7d"
            ],
            [
             0.2,
             "#de77ae"
            ],
            [
             0.3,
             "#f1b6da"
            ],
            [
             0.4,
             "#fde0ef"
            ],
            [
             0.5,
             "#f7f7f7"
            ],
            [
             0.6,
             "#e6f5d0"
            ],
            [
             0.7,
             "#b8e186"
            ],
            [
             0.8,
             "#7fbc41"
            ],
            [
             0.9,
             "#4d9221"
            ],
            [
             1,
             "#276419"
            ]
           ],
           "sequential": [
            [
             0,
             "#0d0887"
            ],
            [
             0.1111111111111111,
             "#46039f"
            ],
            [
             0.2222222222222222,
             "#7201a8"
            ],
            [
             0.3333333333333333,
             "#9c179e"
            ],
            [
             0.4444444444444444,
             "#bd3786"
            ],
            [
             0.5555555555555556,
             "#d8576b"
            ],
            [
             0.6666666666666666,
             "#ed7953"
            ],
            [
             0.7777777777777778,
             "#fb9f3a"
            ],
            [
             0.8888888888888888,
             "#fdca26"
            ],
            [
             1,
             "#f0f921"
            ]
           ],
           "sequentialminus": [
            [
             0,
             "#0d0887"
            ],
            [
             0.1111111111111111,
             "#46039f"
            ],
            [
             0.2222222222222222,
             "#7201a8"
            ],
            [
             0.3333333333333333,
             "#9c179e"
            ],
            [
             0.4444444444444444,
             "#bd3786"
            ],
            [
             0.5555555555555556,
             "#d8576b"
            ],
            [
             0.6666666666666666,
             "#ed7953"
            ],
            [
             0.7777777777777778,
             "#fb9f3a"
            ],
            [
             0.8888888888888888,
             "#fdca26"
            ],
            [
             1,
             "#f0f921"
            ]
           ]
          },
          "colorway": [
           "#636efa",
           "#EF553B",
           "#00cc96",
           "#ab63fa",
           "#FFA15A",
           "#19d3f3",
           "#FF6692",
           "#B6E880",
           "#FF97FF",
           "#FECB52"
          ],
          "font": {
           "color": "#2a3f5f"
          },
          "geo": {
           "bgcolor": "white",
           "lakecolor": "white",
           "landcolor": "#E5ECF6",
           "showlakes": true,
           "showland": true,
           "subunitcolor": "white"
          },
          "hoverlabel": {
           "align": "left"
          },
          "hovermode": "closest",
          "mapbox": {
           "style": "light"
          },
          "paper_bgcolor": "white",
          "plot_bgcolor": "#E5ECF6",
          "polar": {
           "angularaxis": {
            "gridcolor": "white",
            "linecolor": "white",
            "ticks": ""
           },
           "bgcolor": "#E5ECF6",
           "radialaxis": {
            "gridcolor": "white",
            "linecolor": "white",
            "ticks": ""
           }
          },
          "scene": {
           "xaxis": {
            "backgroundcolor": "#E5ECF6",
            "gridcolor": "white",
            "gridwidth": 2,
            "linecolor": "white",
            "showbackground": true,
            "ticks": "",
            "zerolinecolor": "white"
           },
           "yaxis": {
            "backgroundcolor": "#E5ECF6",
            "gridcolor": "white",
            "gridwidth": 2,
            "linecolor": "white",
            "showbackground": true,
            "ticks": "",
            "zerolinecolor": "white"
           },
           "zaxis": {
            "backgroundcolor": "#E5ECF6",
            "gridcolor": "white",
            "gridwidth": 2,
            "linecolor": "white",
            "showbackground": true,
            "ticks": "",
            "zerolinecolor": "white"
           }
          },
          "shapedefaults": {
           "line": {
            "color": "#2a3f5f"
           }
          },
          "ternary": {
           "aaxis": {
            "gridcolor": "white",
            "linecolor": "white",
            "ticks": ""
           },
           "baxis": {
            "gridcolor": "white",
            "linecolor": "white",
            "ticks": ""
           },
           "bgcolor": "#E5ECF6",
           "caxis": {
            "gridcolor": "white",
            "linecolor": "white",
            "ticks": ""
           }
          },
          "title": {
           "x": 0.05
          },
          "xaxis": {
           "automargin": true,
           "gridcolor": "white",
           "linecolor": "white",
           "ticks": "",
           "title": {
            "standoff": 15
           },
           "zerolinecolor": "white",
           "zerolinewidth": 2
          },
          "yaxis": {
           "automargin": true,
           "gridcolor": "white",
           "linecolor": "white",
           "ticks": "",
           "title": {
            "standoff": 15
           },
           "zerolinecolor": "white",
           "zerolinewidth": 2
          }
         }
        },
        "title": {
         "text": "Observed Kernel Partial Derivatives wrt Output (uniform)"
        },
        "xaxis": {
         "anchor": "y",
         "domain": [
          0,
          1
         ],
         "tickformat": ".2e",
         "title": {
          "text": "condition_number"
         }
        },
        "yaxis": {
         "anchor": "x",
         "domain": [
          0,
          1
         ],
         "tickformat": ".2e",
         "title": {
          "text": "partial"
         },
         "type": "log"
        }
       }
      },
      "text/html": [
       "<div>                            <div id=\"a0d26d97-7eb6-4622-ab36-a161d81b4345\" class=\"plotly-graph-div\" style=\"height:525px; width:100%;\"></div>            <script type=\"text/javascript\">                require([\"plotly\"], function(Plotly) {                    window.PLOTLYENV=window.PLOTLYENV || {};                                    if (document.getElementById(\"a0d26d97-7eb6-4622-ab36-a161d81b4345\")) {                    Plotly.newPlot(                        \"a0d26d97-7eb6-4622-ab36-a161d81b4345\",                        [{\"hovertemplate\":\"kernel_name=x_wxpy<br>condition_number=%{x}<br>partial=%{y}<extra></extra>\",\"legendgroup\":\"x_wxpy\",\"marker\":{\"color\":\"#636efa\",\"symbol\":\"circle\"},\"mode\":\"markers\",\"name\":\"x_wxpy\",\"orientation\":\"v\",\"showlegend\":true,\"x\":[71.04159,373.1418,489.5411,728.8496,584.5738,785.2034,1959.303,3230.891,1438.271,2469.146,2667.885,2572.696,2152.209,3032.822,3876.724,2531.423,4215.023,2850.561,3188.968,3915.859,3305.003,6414.587,3772.184,5299.063,6476.695,11643.6,10164.02,7282.41,5277.623,9301.471,4745.863,6483.203],\"xaxis\":\"x\",\"y\":[0.01,0.01,0.01,0.01,0.01,0.01,0.01,0.01,0.01,0.01,0.01,0.01,0.01,0.01,0.01,0.01,0.01,0.01,0.01,0.01,0.01,0.01,0.01,0.01,0.01,0.01,0.01,0.01,0.01,0.01,0.01,0.01],\"yaxis\":\"y\",\"type\":\"scatter\"},{\"hovertemplate\":\"kernel_name=p_wxpy<br>condition_number=%{x}<br>partial=%{y}<extra></extra>\",\"legendgroup\":\"p_wxpy\",\"marker\":{\"color\":\"#EF553B\",\"symbol\":\"diamond\"},\"mode\":\"markers\",\"name\":\"p_wxpy\",\"orientation\":\"v\",\"showlegend\":true,\"x\":[71.04159,373.1418,489.5411,728.8496,584.5738,785.2034,1959.303,3230.891,1438.271,2469.146,2667.885,2572.696,2152.209,3032.822,3876.724,2531.423,4215.023,2850.561,3188.968,3915.859,3305.003,6414.587,3772.184,5299.063,6476.695,11643.6,10164.02,7282.41,5277.623,9301.471,4745.863,6483.203],\"xaxis\":\"x\",\"y\":[3.74931,168055.0,2990350.0,1197740.0,47182.4,1218750.0,65890100.0,282013000.0,48024400.0,609253.0,48740900.0,46086400.0,52082000.0,4238280.0,543881000.0,61529000.0,1475450.0,5569720.0,31534200.0,448512000.0,243823000.0,8623450.0,954548.0,141695000.0,11047000.0,3627070.0,435715.0,17543500.0,12554100000.0,16301200.0,4812250.0,27476900.0],\"yaxis\":\"y\",\"type\":\"scatter\"},{\"hovertemplate\":\"kernel_name=r_dot<br>condition_number=%{x}<br>partial=%{y}<extra></extra>\",\"legendgroup\":\"r_dot\",\"marker\":{\"color\":\"#00cc96\",\"symbol\":\"square\"},\"mode\":\"markers\",\"name\":\"r_dot\",\"orientation\":\"v\",\"showlegend\":true,\"x\":[71.04159,373.1418,489.5411,728.8496,584.5738,785.2034,1959.303,3230.891,1438.271,2469.146,2667.885,2572.696,2152.209,3032.822,3876.724,2531.423,4215.023,2850.561,3188.968,3915.859,3305.003,6414.587,3772.184,5299.063,6476.695,11643.6,10164.02,7282.41,5277.623,9301.471,4745.863,6483.203],\"xaxis\":\"x\",\"y\":[1.636e+18,5.37452e+21,6.75293e+23,2.45784e+24,3.26662e+21,1.79703e+23,2.14215e+27,5.86234e+26,2.94974e+26,2.76666e+23,5.02776e+26,1.41559e+26,3.51759e+25,9.30466e+24,9.41201e+27,4.01899e+25,1.4336e+25,2.55177e+26,1.63005e+26,1.19687e+28,4.64156e+25,6.09167e+25,4.51476e+24,1.04092e+28,7.43277e+24,2.87984e+24,2.7377e+24,1.76003e+27,2.07728e+29,9.10951e+24,5.97572e+24,2.33823e+26],\"yaxis\":\"y\",\"type\":\"scatter\"},{\"hovertemplate\":\"kernel_name=r_wxpy<br>condition_number=%{x}<br>partial=%{y}<extra></extra>\",\"legendgroup\":\"r_wxpy\",\"marker\":{\"color\":\"#ab63fa\",\"symbol\":\"x\"},\"mode\":\"markers\",\"name\":\"r_wxpy\",\"orientation\":\"v\",\"showlegend\":true,\"x\":[71.04159,373.1418,489.5411,728.8496,584.5738,785.2034,1959.303,3230.891,1438.271,2469.146,2667.885,2572.696,2152.209,3032.822,3876.724,2531.423,4215.023,2850.561,3188.968,3915.859,3305.003,6414.587,3772.184,5299.063,6476.695,11643.6,10164.02,7282.41,5277.623,9301.471,4745.863,6483.203],\"xaxis\":\"x\",\"y\":[2.95883,122835.0,2425910.0,1176360.0,40981.7,1639110.0,75179900.0,228366000.0,37597300.0,478041.0,44033000.0,36657100.0,47013500.0,3447300.0,428419000.0,48930400.0,1319580.0,5092150.0,23712300.0,313105000.0,171610000.0,8568730.0,927748.0,140940000.0,14957700.0,3283740.0,411377.0,18398400.0,9600020000.0,12822200.0,4804010.0,27113400.0],\"yaxis\":\"y\",\"type\":\"scatter\"},{\"hovertemplate\":\"kernel_name=matvec<br>condition_number=%{x}<br>partial=%{y}<extra></extra>\",\"legendgroup\":\"matvec\",\"marker\":{\"color\":\"#FFA15A\",\"symbol\":\"cross\"},\"mode\":\"markers\",\"name\":\"matvec\",\"orientation\":\"v\",\"showlegend\":true,\"x\":[71.04159,373.1418,489.5411,728.8496,584.5738,785.2034,1959.303,3230.891,1438.271,2469.146,2667.885,2572.696,2152.209,3032.822,3876.724,2531.423,4215.023,2850.561,3188.968,3915.859,3305.003,6414.587,3772.184,5299.063,6476.695,11643.6,10164.02,7282.41,5277.623,9301.471,4745.863,6483.203],\"xaxis\":\"x\",\"y\":[1.38344,60078.2,2491000.0,716532.0,81076.7,2856480.0,153189000.0,699960000.0,171793000.0,4506910.0,38370000.0,151373000.0,125954000.0,3084220.0,1835890000.0,248496000.0,1190500.0,11427000.0,177939000.0,920124000.0,448232000.0,29183700.0,3319560.0,177446000.0,41365500.0,7892610.0,1175930.0,52654800.0,14211900000.0,23576800.0,12120600.0,109917000.0],\"yaxis\":\"y\",\"type\":\"scatter\"},{\"hovertemplate\":\"kernel_name=a_dot<br>condition_number=%{x}<br>partial=%{y}<extra></extra>\",\"legendgroup\":\"a_dot\",\"marker\":{\"color\":\"#19d3f3\",\"symbol\":\"circle\"},\"mode\":\"markers\",\"name\":\"a_dot\",\"orientation\":\"v\",\"showlegend\":true,\"x\":[71.04159,373.1418,489.5411,728.8496,584.5738,785.2034,1959.303,3230.891,1438.271,2469.146,2667.885,2572.696,2152.209,3032.822,3876.724,2531.423,4215.023,2850.561,3188.968,3915.859,3305.003,6414.587,3772.184,5299.063,6476.695,11643.6,10164.02,7282.41,5277.623,9301.471,4745.863,6483.203],\"xaxis\":\"x\",\"y\":[2.03273e+17,5.2105e+20,9.66779e+24,3.82208e+23,6.94268e+21,2.5563e+23,2.15173e+27,2.33796e+27,1.17287e+27,2.19126e+23,2.77886e+25,8.83564e+26,5.61247e+25,4.31538e+24,1.11664e+28,3.28e+26,3.94885e+24,4.97097e+26,8.20914e+26,4.98329e+27,1.19801e+26,1.19679e+26,1.60101e+25,2.23973e+27,1.15797e+25,9.35391e+24,1.53716e+25,5.92473e+26,1.56466e+29,1.08329e+25,4.93515e+24,7.88198e+25],\"yaxis\":\"y\",\"type\":\"scatter\"},{\"hovertemplate\":\"kernel_name=A_in<br>condition_number=%{x}<br>partial=%{y}<extra></extra>\",\"legendgroup\":\"A_in\",\"marker\":{\"color\":\"#FF6692\",\"symbol\":\"diamond\"},\"mode\":\"markers\",\"name\":\"A_in\",\"orientation\":\"v\",\"showlegend\":true,\"x\":[71.04159,373.1418,489.5411,728.8496,584.5738,785.2034,1959.303,3230.891,1438.271,2469.146,2667.885,2572.696,2152.209,3032.822,3876.724,2531.423,4215.023,2850.561,3188.968,3915.859,3305.003,6414.587,3772.184,5299.063,6476.695,11643.6,10164.02,7282.41,5277.623,9301.471,4745.863,6483.203],\"xaxis\":\"x\",\"y\":[1.53743e-08,7.94292e-07,0.000148546,4.71135e-05,5.21745e-05,8.14782e-05,0.00183037,0.000312349,0.00210337,0.00273656,0.417301,0.00334263,0.00265153,0.0204892,0.00552889,0.0062352,0.0205853,0.0173107,0.0169278,0.912891,0.064747,0.0266576,0.00284956,0.0597193,0.0485132,0.0530878,0.0182135,0.075986,7.12754,0.0472736,0.0124054,0.561888],\"yaxis\":\"y\",\"type\":\"scatter\"},{\"hovertemplate\":\"kernel_name=x_in<br>condition_number=%{x}<br>partial=%{y}<extra></extra>\",\"legendgroup\":\"x_in\",\"marker\":{\"color\":\"#B6E880\",\"symbol\":\"square\"},\"mode\":\"markers\",\"name\":\"x_in\",\"orientation\":\"v\",\"showlegend\":true,\"x\":[71.04159,373.1418,489.5411,728.8496,584.5738,785.2034,1959.303,3230.891,1438.271,2469.146,2667.885,2572.696,2152.209,3032.822,3876.724,2531.423,4215.023,2850.561,3188.968,3915.859,3305.003,6414.587,3772.184,5299.063,6476.695,11643.6,10164.02,7282.41,5277.623,9301.471,4745.863,6483.203],\"xaxis\":\"x\",\"y\":[1.19629e-17,2.75449e-17,1.45539e-16,2.68337e-17,2.80779e-16,7.69275e-16,3.0223e-16,2.14341e-16,2.08981e-16,2.34961e-16,1.37103e-15,1.28083e-15,1.82839e-16,4.01477e-16,4.81731e-16,3.09827e-16,6.23527e-16,3.92272e-16,2.38183e-15,3.26843e-14,2.38069e-16,9.37547e-16,2.59425e-16,1.44584e-15,1.12968e-15,7.4922e-16,1.05331e-15,2.4942e-15,3.53012e-14,1.29967e-15,5.91818e-16,8.94333e-15],\"yaxis\":\"y\",\"type\":\"scatter\"},{\"hovertemplate\":\"kernel_name=b_in<br>condition_number=%{x}<br>partial=%{y}<extra></extra>\",\"legendgroup\":\"b_in\",\"marker\":{\"color\":\"#FF97FF\",\"symbol\":\"x\"},\"mode\":\"markers\",\"name\":\"b_in\",\"orientation\":\"v\",\"showlegend\":true,\"x\":[71.04159,373.1418,489.5411,728.8496,584.5738,785.2034,1959.303,3230.891,1438.271,2469.146,2667.885,2572.696,2152.209,3032.822,3876.724,2531.423,4215.023,2850.561,3188.968,3915.859,3305.003,6414.587,3772.184,5299.063,6476.695,11643.6,10164.02,7282.41,5277.623,9301.471,4745.863,6483.203],\"xaxis\":\"x\",\"y\":[0.0233197,0.156074,0.362477,0.438612,0.451455,0.862773,0.846873,1.50472,0.836205,1.22522,1.877,2.17986,1.94585,2.11628,2.81133,2.47021,3.12963,1.75602,1.91241,2.61869,3.97096,2.59773,3.319,4.53231,4.98568,2.25037,3.89723,4.89364,4.32745,4.9661,6.95078,4.26083],\"yaxis\":\"y\",\"type\":\"scatter\"}],                        {\"template\":{\"data\":{\"histogram2dcontour\":[{\"type\":\"histogram2dcontour\",\"colorbar\":{\"outlinewidth\":0,\"ticks\":\"\"},\"colorscale\":[[0.0,\"#0d0887\"],[0.1111111111111111,\"#46039f\"],[0.2222222222222222,\"#7201a8\"],[0.3333333333333333,\"#9c179e\"],[0.4444444444444444,\"#bd3786\"],[0.5555555555555556,\"#d8576b\"],[0.6666666666666666,\"#ed7953\"],[0.7777777777777778,\"#fb9f3a\"],[0.8888888888888888,\"#fdca26\"],[1.0,\"#f0f921\"]]}],\"choropleth\":[{\"type\":\"choropleth\",\"colorbar\":{\"outlinewidth\":0,\"ticks\":\"\"}}],\"histogram2d\":[{\"type\":\"histogram2d\",\"colorbar\":{\"outlinewidth\":0,\"ticks\":\"\"},\"colorscale\":[[0.0,\"#0d0887\"],[0.1111111111111111,\"#46039f\"],[0.2222222222222222,\"#7201a8\"],[0.3333333333333333,\"#9c179e\"],[0.4444444444444444,\"#bd3786\"],[0.5555555555555556,\"#d8576b\"],[0.6666666666666666,\"#ed7953\"],[0.7777777777777778,\"#fb9f3a\"],[0.8888888888888888,\"#fdca26\"],[1.0,\"#f0f921\"]]}],\"heatmap\":[{\"type\":\"heatmap\",\"colorbar\":{\"outlinewidth\":0,\"ticks\":\"\"},\"colorscale\":[[0.0,\"#0d0887\"],[0.1111111111111111,\"#46039f\"],[0.2222222222222222,\"#7201a8\"],[0.3333333333333333,\"#9c179e\"],[0.4444444444444444,\"#bd3786\"],[0.5555555555555556,\"#d8576b\"],[0.6666666666666666,\"#ed7953\"],[0.7777777777777778,\"#fb9f3a\"],[0.8888888888888888,\"#fdca26\"],[1.0,\"#f0f921\"]]}],\"heatmapgl\":[{\"type\":\"heatmapgl\",\"colorbar\":{\"outlinewidth\":0,\"ticks\":\"\"},\"colorscale\":[[0.0,\"#0d0887\"],[0.1111111111111111,\"#46039f\"],[0.2222222222222222,\"#7201a8\"],[0.3333333333333333,\"#9c179e\"],[0.4444444444444444,\"#bd3786\"],[0.5555555555555556,\"#d8576b\"],[0.6666666666666666,\"#ed7953\"],[0.7777777777777778,\"#fb9f3a\"],[0.8888888888888888,\"#fdca26\"],[1.0,\"#f0f921\"]]}],\"contourcarpet\":[{\"type\":\"contourcarpet\",\"colorbar\":{\"outlinewidth\":0,\"ticks\":\"\"}}],\"contour\":[{\"type\":\"contour\",\"colorbar\":{\"outlinewidth\":0,\"ticks\":\"\"},\"colorscale\":[[0.0,\"#0d0887\"],[0.1111111111111111,\"#46039f\"],[0.2222222222222222,\"#7201a8\"],[0.3333333333333333,\"#9c179e\"],[0.4444444444444444,\"#bd3786\"],[0.5555555555555556,\"#d8576b\"],[0.6666666666666666,\"#ed7953\"],[0.7777777777777778,\"#fb9f3a\"],[0.8888888888888888,\"#fdca26\"],[1.0,\"#f0f921\"]]}],\"surface\":[{\"type\":\"surface\",\"colorbar\":{\"outlinewidth\":0,\"ticks\":\"\"},\"colorscale\":[[0.0,\"#0d0887\"],[0.1111111111111111,\"#46039f\"],[0.2222222222222222,\"#7201a8\"],[0.3333333333333333,\"#9c179e\"],[0.4444444444444444,\"#bd3786\"],[0.5555555555555556,\"#d8576b\"],[0.6666666666666666,\"#ed7953\"],[0.7777777777777778,\"#fb9f3a\"],[0.8888888888888888,\"#fdca26\"],[1.0,\"#f0f921\"]]}],\"mesh3d\":[{\"type\":\"mesh3d\",\"colorbar\":{\"outlinewidth\":0,\"ticks\":\"\"}}],\"scatter\":[{\"fillpattern\":{\"fillmode\":\"overlay\",\"size\":10,\"solidity\":0.2},\"type\":\"scatter\"}],\"parcoords\":[{\"type\":\"parcoords\",\"line\":{\"colorbar\":{\"outlinewidth\":0,\"ticks\":\"\"}}}],\"scatterpolargl\":[{\"type\":\"scatterpolargl\",\"marker\":{\"colorbar\":{\"outlinewidth\":0,\"ticks\":\"\"}}}],\"bar\":[{\"error_x\":{\"color\":\"#2a3f5f\"},\"error_y\":{\"color\":\"#2a3f5f\"},\"marker\":{\"line\":{\"color\":\"#E5ECF6\",\"width\":0.5},\"pattern\":{\"fillmode\":\"overlay\",\"size\":10,\"solidity\":0.2}},\"type\":\"bar\"}],\"scattergeo\":[{\"type\":\"scattergeo\",\"marker\":{\"colorbar\":{\"outlinewidth\":0,\"ticks\":\"\"}}}],\"scatterpolar\":[{\"type\":\"scatterpolar\",\"marker\":{\"colorbar\":{\"outlinewidth\":0,\"ticks\":\"\"}}}],\"histogram\":[{\"marker\":{\"pattern\":{\"fillmode\":\"overlay\",\"size\":10,\"solidity\":0.2}},\"type\":\"histogram\"}],\"scattergl\":[{\"type\":\"scattergl\",\"marker\":{\"colorbar\":{\"outlinewidth\":0,\"ticks\":\"\"}}}],\"scatter3d\":[{\"type\":\"scatter3d\",\"line\":{\"colorbar\":{\"outlinewidth\":0,\"ticks\":\"\"}},\"marker\":{\"colorbar\":{\"outlinewidth\":0,\"ticks\":\"\"}}}],\"scattermapbox\":[{\"type\":\"scattermapbox\",\"marker\":{\"colorbar\":{\"outlinewidth\":0,\"ticks\":\"\"}}}],\"scatterternary\":[{\"type\":\"scatterternary\",\"marker\":{\"colorbar\":{\"outlinewidth\":0,\"ticks\":\"\"}}}],\"scattercarpet\":[{\"type\":\"scattercarpet\",\"marker\":{\"colorbar\":{\"outlinewidth\":0,\"ticks\":\"\"}}}],\"carpet\":[{\"aaxis\":{\"endlinecolor\":\"#2a3f5f\",\"gridcolor\":\"white\",\"linecolor\":\"white\",\"minorgridcolor\":\"white\",\"startlinecolor\":\"#2a3f5f\"},\"baxis\":{\"endlinecolor\":\"#2a3f5f\",\"gridcolor\":\"white\",\"linecolor\":\"white\",\"minorgridcolor\":\"white\",\"startlinecolor\":\"#2a3f5f\"},\"type\":\"carpet\"}],\"table\":[{\"cells\":{\"fill\":{\"color\":\"#EBF0F8\"},\"line\":{\"color\":\"white\"}},\"header\":{\"fill\":{\"color\":\"#C8D4E3\"},\"line\":{\"color\":\"white\"}},\"type\":\"table\"}],\"barpolar\":[{\"marker\":{\"line\":{\"color\":\"#E5ECF6\",\"width\":0.5},\"pattern\":{\"fillmode\":\"overlay\",\"size\":10,\"solidity\":0.2}},\"type\":\"barpolar\"}],\"pie\":[{\"automargin\":true,\"type\":\"pie\"}]},\"layout\":{\"autotypenumbers\":\"strict\",\"colorway\":[\"#636efa\",\"#EF553B\",\"#00cc96\",\"#ab63fa\",\"#FFA15A\",\"#19d3f3\",\"#FF6692\",\"#B6E880\",\"#FF97FF\",\"#FECB52\"],\"font\":{\"color\":\"#2a3f5f\"},\"hovermode\":\"closest\",\"hoverlabel\":{\"align\":\"left\"},\"paper_bgcolor\":\"white\",\"plot_bgcolor\":\"#E5ECF6\",\"polar\":{\"bgcolor\":\"#E5ECF6\",\"angularaxis\":{\"gridcolor\":\"white\",\"linecolor\":\"white\",\"ticks\":\"\"},\"radialaxis\":{\"gridcolor\":\"white\",\"linecolor\":\"white\",\"ticks\":\"\"}},\"ternary\":{\"bgcolor\":\"#E5ECF6\",\"aaxis\":{\"gridcolor\":\"white\",\"linecolor\":\"white\",\"ticks\":\"\"},\"baxis\":{\"gridcolor\":\"white\",\"linecolor\":\"white\",\"ticks\":\"\"},\"caxis\":{\"gridcolor\":\"white\",\"linecolor\":\"white\",\"ticks\":\"\"}},\"coloraxis\":{\"colorbar\":{\"outlinewidth\":0,\"ticks\":\"\"}},\"colorscale\":{\"sequential\":[[0.0,\"#0d0887\"],[0.1111111111111111,\"#46039f\"],[0.2222222222222222,\"#7201a8\"],[0.3333333333333333,\"#9c179e\"],[0.4444444444444444,\"#bd3786\"],[0.5555555555555556,\"#d8576b\"],[0.6666666666666666,\"#ed7953\"],[0.7777777777777778,\"#fb9f3a\"],[0.8888888888888888,\"#fdca26\"],[1.0,\"#f0f921\"]],\"sequentialminus\":[[0.0,\"#0d0887\"],[0.1111111111111111,\"#46039f\"],[0.2222222222222222,\"#7201a8\"],[0.3333333333333333,\"#9c179e\"],[0.4444444444444444,\"#bd3786\"],[0.5555555555555556,\"#d8576b\"],[0.6666666666666666,\"#ed7953\"],[0.7777777777777778,\"#fb9f3a\"],[0.8888888888888888,\"#fdca26\"],[1.0,\"#f0f921\"]],\"diverging\":[[0,\"#8e0152\"],[0.1,\"#c51b7d\"],[0.2,\"#de77ae\"],[0.3,\"#f1b6da\"],[0.4,\"#fde0ef\"],[0.5,\"#f7f7f7\"],[0.6,\"#e6f5d0\"],[0.7,\"#b8e186\"],[0.8,\"#7fbc41\"],[0.9,\"#4d9221\"],[1,\"#276419\"]]},\"xaxis\":{\"gridcolor\":\"white\",\"linecolor\":\"white\",\"ticks\":\"\",\"title\":{\"standoff\":15},\"zerolinecolor\":\"white\",\"automargin\":true,\"zerolinewidth\":2},\"yaxis\":{\"gridcolor\":\"white\",\"linecolor\":\"white\",\"ticks\":\"\",\"title\":{\"standoff\":15},\"zerolinecolor\":\"white\",\"automargin\":true,\"zerolinewidth\":2},\"scene\":{\"xaxis\":{\"backgroundcolor\":\"#E5ECF6\",\"gridcolor\":\"white\",\"linecolor\":\"white\",\"showbackground\":true,\"ticks\":\"\",\"zerolinecolor\":\"white\",\"gridwidth\":2},\"yaxis\":{\"backgroundcolor\":\"#E5ECF6\",\"gridcolor\":\"white\",\"linecolor\":\"white\",\"showbackground\":true,\"ticks\":\"\",\"zerolinecolor\":\"white\",\"gridwidth\":2},\"zaxis\":{\"backgroundcolor\":\"#E5ECF6\",\"gridcolor\":\"white\",\"linecolor\":\"white\",\"showbackground\":true,\"ticks\":\"\",\"zerolinecolor\":\"white\",\"gridwidth\":2}},\"shapedefaults\":{\"line\":{\"color\":\"#2a3f5f\"}},\"annotationdefaults\":{\"arrowcolor\":\"#2a3f5f\",\"arrowhead\":0,\"arrowwidth\":1},\"geo\":{\"bgcolor\":\"white\",\"landcolor\":\"#E5ECF6\",\"subunitcolor\":\"white\",\"showland\":true,\"showlakes\":true,\"lakecolor\":\"white\"},\"title\":{\"x\":0.05},\"mapbox\":{\"style\":\"light\"}}},\"xaxis\":{\"anchor\":\"y\",\"domain\":[0.0,1.0],\"title\":{\"text\":\"condition_number\"},\"tickformat\":\".2e\"},\"yaxis\":{\"anchor\":\"x\",\"domain\":[0.0,1.0],\"title\":{\"text\":\"partial\"},\"type\":\"log\",\"tickformat\":\".2e\"},\"legend\":{\"title\":{\"text\":\"kernel_name\"},\"tracegroupgap\":0},\"title\":{\"text\":\"Observed Kernel Partial Derivatives wrt Output (uniform)\"}},                        {\"responsive\": true}                    ).then(function(){\n",
       "                            \n",
       "var gd = document.getElementById('a0d26d97-7eb6-4622-ab36-a161d81b4345');\n",
       "var x = new MutationObserver(function (mutations, observer) {{\n",
       "        var display = window.getComputedStyle(gd).display;\n",
       "        if (!display || display === 'none') {{\n",
       "            console.log([gd, 'removed!']);\n",
       "            Plotly.purge(gd);\n",
       "            observer.disconnect();\n",
       "        }}\n",
       "}});\n",
       "\n",
       "// Listen for the removal of the full notebook cells\n",
       "var notebookContainer = gd.closest('#notebook-container');\n",
       "if (notebookContainer) {{\n",
       "    x.observe(notebookContainer, {childList: true});\n",
       "}}\n",
       "\n",
       "// Listen for the clearing of the current output cell\n",
       "var outputEl = gd.closest('.output');\n",
       "if (outputEl) {{\n",
       "    x.observe(outputEl, {childList: true});\n",
       "}}\n",
       "\n",
       "                        })                };                });            </script>        </div>"
      ]
     },
     "metadata": {},
     "output_type": "display_data"
    },
    {
     "data": {
      "application/vnd.plotly.v1+json": {
       "config": {
        "plotlyServerURL": "https://plot.ly"
       },
       "data": [
        {
         "hovertemplate": "kernel_name=x_wxpy<br>condition_number=%{x}<br>my_implementation_of_adapt_error_model=%{y}<extra></extra>",
         "legendgroup": "x_wxpy",
         "marker": {
          "color": "#636efa",
          "symbol": "circle"
         },
         "mode": "markers",
         "name": "x_wxpy",
         "orientation": "v",
         "showlegend": true,
         "type": "scatter",
         "x": [
          71.04159,
          373.1418,
          489.5411,
          728.8496,
          584.5738,
          785.2034,
          1959.303,
          3230.891,
          1438.271,
          2469.146,
          2667.885,
          2572.696,
          2152.209,
          3032.822,
          3876.724,
          2531.423,
          4215.023,
          2850.561,
          3188.968,
          3915.859,
          3305.003,
          6414.587,
          3772.184,
          5299.063,
          6476.695,
          11643.6,
          10164.02,
          7282.41,
          5277.623,
          9301.471,
          4745.863,
          6483.203
         ],
         "xaxis": "x",
         "y": [
          6.96929e-12,
          7.142190000000001e-12,
          8.45688e-12,
          7.45531e-12,
          8.5498e-12,
          8.64174e-12,
          8.73317e-12,
          9.79274e-12,
          9.74057e-12,
          9.14553e-12,
          8.530200000000001e-12,
          9.36027e-12,
          8.77868e-12,
          8.230460000000001e-12,
          8.64669e-12,
          9.571120000000001e-12,
          8.72534e-12,
          8.676699999999999e-12,
          9.5856e-12,
          9.00272e-12,
          9.75055e-12,
          1.0164900000000002e-11,
          8.72602e-12,
          9.94326e-12,
          9.41844e-12,
          9.7875e-12,
          8.43497e-12,
          9.41802e-12,
          1.03618e-11,
          9.35013e-12,
          9.18392e-12,
          9.457580000000001e-12
         ],
         "yaxis": "y"
        },
        {
         "hovertemplate": "kernel_name=p_wxpy<br>condition_number=%{x}<br>my_implementation_of_adapt_error_model=%{y}<extra></extra>",
         "legendgroup": "p_wxpy",
         "marker": {
          "color": "#EF553B",
          "symbol": "diamond"
         },
         "mode": "markers",
         "name": "p_wxpy",
         "orientation": "v",
         "showlegend": true,
         "type": "scatter",
         "x": [
          71.04159,
          373.1418,
          489.5411,
          728.8496,
          584.5738,
          785.2034,
          1959.303,
          3230.891,
          1438.271,
          2469.146,
          2667.885,
          2572.696,
          2152.209,
          3032.822,
          3876.724,
          2531.423,
          4215.023,
          2850.561,
          3188.968,
          3915.859,
          3305.003,
          6414.587,
          3772.184,
          5299.063,
          6476.695,
          11643.6,
          10164.02,
          7282.41,
          5277.623,
          9301.471,
          4745.863,
          6483.203
         ],
         "xaxis": "x",
         "y": [
          6.2204802209999995e-09,
          9.925950103500001e-05,
          0.0011194614453,
          0.00044172770974,
          1.23217309424e-05,
          0.0002869400625,
          0.021451839857,
          0.085865062136,
          0.0101941874124,
          0.00011864592921999999,
          0.0090718512716,
          0.008575158188800001,
          0.009993025422,
          0.0008400101428799999,
          0.089587534439,
          0.008909829902999999,
          0.00024757903455,
          0.00085218943888,
          0.0047907702666000005,
          0.070735724544,
          0.03290391385,
          0.0015301277210999999,
          0.000123133828356,
          0.017457532475,
          0.001402063146,
          0.0005767440277700001,
          7.345762756499999e-05,
          0.002719523196,
          1.7768696517000002,
          0.002234405484,
          0.0005722872067499999,
          0.0033930949041
         ],
         "yaxis": "y"
        },
        {
         "hovertemplate": "kernel_name=r_dot<br>condition_number=%{x}<br>my_implementation_of_adapt_error_model=%{y}<extra></extra>",
         "legendgroup": "r_dot",
         "marker": {
          "color": "#00cc96",
          "symbol": "square"
         },
         "mode": "markers",
         "name": "r_dot",
         "orientation": "v",
         "showlegend": true,
         "type": "scatter",
         "x": [
          71.04159,
          373.1418,
          489.5411,
          728.8496,
          584.5738,
          785.2034,
          1959.303,
          3230.891,
          1438.271,
          2469.146,
          2667.885,
          2572.696,
          2152.209,
          3032.822,
          3876.724,
          2531.423,
          4215.023,
          2850.561,
          3188.968,
          3915.859,
          3305.003,
          6414.587,
          3772.184,
          5299.063,
          6476.695,
          11643.6,
          10164.02,
          7282.41,
          5277.623,
          9301.471,
          4745.863,
          6483.203
         ],
         "xaxis": "x",
         "y": [
          446423500000,
          335227085768000,
          9711793808800000,
          21316379330399996,
          22777357271200,
          316909834560000,
          89961517185000010000,
          3252566928160000000,
          2856430874580000000,
          1617909568080000,
          884659510800000000,
          1103527431270000000,
          205261929270000030,
          78683554637600000,
          26264025664800000000,
          89189827978999980,
          48822394880000000,
          1141651690919999900,
          867457188299999900,
          58569431885000000000,
          83933793636000000,
          567871569069999940,
          9187807485600000,
          14623468712000000000,
          20024997295500000,
          12062440227199998,
          6442164001000000,
          9903072799500001000,
          965218538400000000000,
          68555894882500010,
          15854242489200000,
          1480943691029999900
         ],
         "yaxis": "y"
        },
        {
         "hovertemplate": "kernel_name=r_wxpy<br>condition_number=%{x}<br>my_implementation_of_adapt_error_model=%{y}<extra></extra>",
         "legendgroup": "r_wxpy",
         "marker": {
          "color": "#ab63fa",
          "symbol": "x"
         },
         "mode": "markers",
         "name": "r_wxpy",
         "orientation": "v",
         "showlegend": true,
         "type": "scatter",
         "x": [
          71.04159,
          373.1418,
          489.5411,
          728.8496,
          584.5738,
          785.2034,
          1959.303,
          3230.891,
          1438.271,
          2469.146,
          2667.885,
          2572.696,
          2152.209,
          3032.822,
          3876.724,
          2531.423,
          4215.023,
          2850.561,
          3188.968,
          3915.859,
          3305.003,
          6414.587,
          3772.184,
          5299.063,
          6476.695,
          11643.6,
          10164.02,
          7282.41,
          5277.623,
          9301.471,
          4745.863,
          6483.203
         ],
         "xaxis": "x",
         "y": [
          3.2380251987999995e-09,
          5.7638481225e-05,
          0.0005959247915,
          0.00029025624275999995,
          6.708458399799999e-06,
          0.00025345394019,
          0.0148514133455,
          0.042363263196,
          0.0046952260186,
          5.6932770936e-05,
          0.005343228417999999,
          0.0045864996948999995,
          0.0052617039065000005,
          0.0004198225359,
          0.042114872957,
          0.00429993504944,
          0.00013279197456,
          0.00051343639235,
          0.0023913617427,
          0.032196900255,
          0.013211756231,
          0.000838094628205,
          7.17224351588e-05,
          0.010990599858000001,
          0.00110120681478,
          0.000293530891608,
          4.4771804418e-05,
          0.00162974499072,
          0.79671045981,
          0.00112777275434,
          0.000335650894289,
          0.0019367047393199998
         ],
         "yaxis": "y"
        },
        {
         "hovertemplate": "kernel_name=matvec<br>condition_number=%{x}<br>my_implementation_of_adapt_error_model=%{y}<extra></extra>",
         "legendgroup": "matvec",
         "marker": {
          "color": "#FFA15A",
          "symbol": "cross"
         },
         "mode": "markers",
         "name": "matvec",
         "orientation": "v",
         "showlegend": true,
         "type": "scatter",
         "x": [
          71.04159,
          373.1418,
          489.5411,
          728.8496,
          584.5738,
          785.2034,
          1959.303,
          3230.891,
          1438.271,
          2469.146,
          2667.885,
          2572.696,
          2152.209,
          3032.822,
          3876.724,
          2531.423,
          4215.023,
          2850.561,
          3188.968,
          3915.859,
          3305.003,
          6414.587,
          3772.184,
          5299.063,
          6476.695,
          11643.6,
          10164.02,
          7282.41,
          5277.623,
          9301.471,
          4745.863,
          6483.203
         ],
         "xaxis": "x",
         "y": [
          1.35339583352e-08,
          0.00028053815881,
          0.00304136154,
          0.00109771985868,
          5.00704565423e-05,
          0.00187898683104,
          0.26195012621999997,
          1.1048588616,
          0.08753712314999999,
          0.00214305823955,
          0.021192671880000003,
          0.071677234722,
          0.06308783952000001,
          0.00160607363858,
          0.95106812738,
          0.08731900944,
          0.000845414527,
          0.004532473842,
          0.098426779911,
          0.42012585802799995,
          0.1195770918,
          0.0182225357496,
          0.0008177171734799999,
          0.049605561638,
          0.0139458405735,
          0.00498620372316,
          0.00071873782344,
          0.023355826362,
          5.1577685361,
          0.0110852690936,
          0.0033932589348,
          0.051484683132000005
         ],
         "yaxis": "y"
        },
        {
         "hovertemplate": "kernel_name=a_dot<br>condition_number=%{x}<br>my_implementation_of_adapt_error_model=%{y}<extra></extra>",
         "legendgroup": "a_dot",
         "marker": {
          "color": "#19d3f3",
          "symbol": "circle"
         },
         "mode": "markers",
         "name": "a_dot",
         "orientation": "v",
         "showlegend": true,
         "type": "scatter",
         "x": [
          71.04159,
          373.1418,
          489.5411,
          728.8496,
          584.5738,
          785.2034,
          1959.303,
          3230.891,
          1438.271,
          2469.146,
          2667.885,
          2572.696,
          2152.209,
          3032.822,
          3876.724,
          2531.423,
          4215.023,
          2850.561,
          3188.968,
          3915.859,
          3305.003,
          6414.587,
          3772.184,
          5299.063,
          6476.695,
          11643.6,
          10164.02,
          7282.41,
          5277.623,
          9301.471,
          4745.863,
          6483.203
         ],
         "xaxis": "x",
         "y": [
          439059516350,
          1796064560500000,
          3363733510280000000,
          29956087091200000,
          328379044248000,
          21937885407000000,
          2.9997483103e+21,
          2.4035163984e+21,
          69381359424000000000,
          24513187368000000,
          3631414248000000500,
          143153272152000000000,
          4298860171559999500,
          281224683840000000,
          177757921600000000000,
          21825119999999996000,
          1444738107550000000,
          47133991894500000000,
          53142934978199994000,
          742560042900000100000,
          3456678153500000000,
          7731359143200000000,
          300586425480000000,
          60009757809000000000,
          551461211070000000,
          929900254830000100,
          6278314817600000000,
          121825483206000020000,
          1.2959218217000001e+22,
          1022998411760000100,
          367620310530000000,
          8785412547599999000
         ],
         "yaxis": "y"
        },
        {
         "hovertemplate": "kernel_name=A_in<br>condition_number=%{x}<br>my_implementation_of_adapt_error_model=%{y}<extra></extra>",
         "legendgroup": "A_in",
         "marker": {
          "color": "#FF6692",
          "symbol": "diamond"
         },
         "mode": "markers",
         "name": "A_in",
         "orientation": "v",
         "showlegend": true,
         "type": "scatter",
         "x": [
          71.04159,
          373.1418,
          489.5411,
          728.8496,
          584.5738,
          785.2034,
          1959.303,
          3230.891,
          1438.271,
          2469.146,
          2667.885,
          2572.696,
          2152.209,
          3032.822,
          3876.724,
          2531.423,
          4215.023,
          2850.561,
          3188.968,
          3915.859,
          3305.003,
          6414.587,
          3772.184,
          5299.063,
          6476.695,
          11643.6,
          10164.02,
          7282.41,
          5277.623,
          9301.471,
          4745.863,
          6483.203
         ],
         "xaxis": "x",
         "y": [
          1.33825901836e-16,
          5.041530182399999e-15,
          8.404777243799999e-13,
          2.0733803307e-13,
          2.30325895485e-13,
          3.0783278741999997e-13,
          9.388736485399999e-12,
          1.70517253731e-12,
          9.4585604182e-12,
          1.31995508696e-11,
          1.78205053642e-09,
          1.07644719468e-11,
          1.08850344407e-11,
          8.075715734e-11,
          2.17980911362e-11,
          2.2956884064e-11,
          1.03975321035e-10,
          6.7436947776e-11,
          6.376059003600001e-11,
          3.95516415987e-09,
          1.9523486645e-10,
          1.0529805315200002e-10,
          1.0981092911600001e-11,
          2.15715666688e-10,
          1.83913056068e-10,
          2.38627537488e-10,
          5.5908888140000004e-11,
          3.000269217e-10,
          2.4970623636e-08,
          2.03143168448e-10,
          3.4788587274e-11,
          1.7721217065600001e-09
         ],
         "yaxis": "y"
        },
        {
         "hovertemplate": "kernel_name=x_in<br>condition_number=%{x}<br>my_implementation_of_adapt_error_model=%{y}<extra></extra>",
         "legendgroup": "x_in",
         "marker": {
          "color": "#B6E880",
          "symbol": "square"
         },
         "mode": "markers",
         "name": "x_in",
         "orientation": "v",
         "showlegend": true,
         "type": "scatter",
         "x": [
          71.04159,
          373.1418,
          489.5411,
          728.8496,
          584.5738,
          785.2034,
          1959.303,
          3230.891,
          1438.271,
          2469.146,
          2667.885,
          2572.696,
          2152.209,
          3032.822,
          3876.724,
          2531.423,
          4215.023,
          2850.561,
          3188.968,
          3915.859,
          3305.003,
          6414.587,
          3772.184,
          5299.063,
          6476.695,
          11643.6,
          10164.02,
          7282.41,
          5277.623,
          9301.471,
          4745.863,
          6483.203
         ],
         "xaxis": "x",
         "y": [
          0,
          0,
          0,
          0,
          0,
          0,
          0,
          0,
          0,
          0,
          0,
          0,
          0,
          0,
          0,
          0,
          0,
          0,
          0,
          0,
          0,
          0,
          0,
          0,
          0,
          0,
          0,
          0,
          0,
          0,
          0,
          0
         ],
         "yaxis": "y"
        },
        {
         "hovertemplate": "kernel_name=b_in<br>condition_number=%{x}<br>my_implementation_of_adapt_error_model=%{y}<extra></extra>",
         "legendgroup": "b_in",
         "marker": {
          "color": "#FF97FF",
          "symbol": "x"
         },
         "mode": "markers",
         "name": "b_in",
         "orientation": "v",
         "showlegend": true,
         "type": "scatter",
         "x": [
          71.04159,
          373.1418,
          489.5411,
          728.8496,
          584.5738,
          785.2034,
          1959.303,
          3230.891,
          1438.271,
          2469.146,
          2667.885,
          2572.696,
          2152.209,
          3032.822,
          3876.724,
          2531.423,
          4215.023,
          2850.561,
          3188.968,
          3915.859,
          3305.003,
          6414.587,
          3772.184,
          5299.063,
          6476.695,
          11643.6,
          10164.02,
          7282.41,
          5277.623,
          9301.471,
          4745.863,
          6483.203
         ],
         "xaxis": "x",
         "y": [
          0,
          0,
          0,
          0,
          0,
          0,
          0,
          0,
          0,
          0,
          0,
          0,
          0,
          0,
          0,
          0,
          0,
          0,
          0,
          0,
          0,
          0,
          0,
          0,
          0,
          0,
          0,
          0,
          0,
          0,
          0,
          0
         ],
         "yaxis": "y"
        }
       ],
       "layout": {
        "legend": {
         "title": {
          "text": "kernel_name"
         },
         "tracegroupgap": 0
        },
        "template": {
         "data": {
          "bar": [
           {
            "error_x": {
             "color": "#2a3f5f"
            },
            "error_y": {
             "color": "#2a3f5f"
            },
            "marker": {
             "line": {
              "color": "#E5ECF6",
              "width": 0.5
             },
             "pattern": {
              "fillmode": "overlay",
              "size": 10,
              "solidity": 0.2
             }
            },
            "type": "bar"
           }
          ],
          "barpolar": [
           {
            "marker": {
             "line": {
              "color": "#E5ECF6",
              "width": 0.5
             },
             "pattern": {
              "fillmode": "overlay",
              "size": 10,
              "solidity": 0.2
             }
            },
            "type": "barpolar"
           }
          ],
          "carpet": [
           {
            "aaxis": {
             "endlinecolor": "#2a3f5f",
             "gridcolor": "white",
             "linecolor": "white",
             "minorgridcolor": "white",
             "startlinecolor": "#2a3f5f"
            },
            "baxis": {
             "endlinecolor": "#2a3f5f",
             "gridcolor": "white",
             "linecolor": "white",
             "minorgridcolor": "white",
             "startlinecolor": "#2a3f5f"
            },
            "type": "carpet"
           }
          ],
          "choropleth": [
           {
            "colorbar": {
             "outlinewidth": 0,
             "ticks": ""
            },
            "type": "choropleth"
           }
          ],
          "contour": [
           {
            "colorbar": {
             "outlinewidth": 0,
             "ticks": ""
            },
            "colorscale": [
             [
              0,
              "#0d0887"
             ],
             [
              0.1111111111111111,
              "#46039f"
             ],
             [
              0.2222222222222222,
              "#7201a8"
             ],
             [
              0.3333333333333333,
              "#9c179e"
             ],
             [
              0.4444444444444444,
              "#bd3786"
             ],
             [
              0.5555555555555556,
              "#d8576b"
             ],
             [
              0.6666666666666666,
              "#ed7953"
             ],
             [
              0.7777777777777778,
              "#fb9f3a"
             ],
             [
              0.8888888888888888,
              "#fdca26"
             ],
             [
              1,
              "#f0f921"
             ]
            ],
            "type": "contour"
           }
          ],
          "contourcarpet": [
           {
            "colorbar": {
             "outlinewidth": 0,
             "ticks": ""
            },
            "type": "contourcarpet"
           }
          ],
          "heatmap": [
           {
            "colorbar": {
             "outlinewidth": 0,
             "ticks": ""
            },
            "colorscale": [
             [
              0,
              "#0d0887"
             ],
             [
              0.1111111111111111,
              "#46039f"
             ],
             [
              0.2222222222222222,
              "#7201a8"
             ],
             [
              0.3333333333333333,
              "#9c179e"
             ],
             [
              0.4444444444444444,
              "#bd3786"
             ],
             [
              0.5555555555555556,
              "#d8576b"
             ],
             [
              0.6666666666666666,
              "#ed7953"
             ],
             [
              0.7777777777777778,
              "#fb9f3a"
             ],
             [
              0.8888888888888888,
              "#fdca26"
             ],
             [
              1,
              "#f0f921"
             ]
            ],
            "type": "heatmap"
           }
          ],
          "heatmapgl": [
           {
            "colorbar": {
             "outlinewidth": 0,
             "ticks": ""
            },
            "colorscale": [
             [
              0,
              "#0d0887"
             ],
             [
              0.1111111111111111,
              "#46039f"
             ],
             [
              0.2222222222222222,
              "#7201a8"
             ],
             [
              0.3333333333333333,
              "#9c179e"
             ],
             [
              0.4444444444444444,
              "#bd3786"
             ],
             [
              0.5555555555555556,
              "#d8576b"
             ],
             [
              0.6666666666666666,
              "#ed7953"
             ],
             [
              0.7777777777777778,
              "#fb9f3a"
             ],
             [
              0.8888888888888888,
              "#fdca26"
             ],
             [
              1,
              "#f0f921"
             ]
            ],
            "type": "heatmapgl"
           }
          ],
          "histogram": [
           {
            "marker": {
             "pattern": {
              "fillmode": "overlay",
              "size": 10,
              "solidity": 0.2
             }
            },
            "type": "histogram"
           }
          ],
          "histogram2d": [
           {
            "colorbar": {
             "outlinewidth": 0,
             "ticks": ""
            },
            "colorscale": [
             [
              0,
              "#0d0887"
             ],
             [
              0.1111111111111111,
              "#46039f"
             ],
             [
              0.2222222222222222,
              "#7201a8"
             ],
             [
              0.3333333333333333,
              "#9c179e"
             ],
             [
              0.4444444444444444,
              "#bd3786"
             ],
             [
              0.5555555555555556,
              "#d8576b"
             ],
             [
              0.6666666666666666,
              "#ed7953"
             ],
             [
              0.7777777777777778,
              "#fb9f3a"
             ],
             [
              0.8888888888888888,
              "#fdca26"
             ],
             [
              1,
              "#f0f921"
             ]
            ],
            "type": "histogram2d"
           }
          ],
          "histogram2dcontour": [
           {
            "colorbar": {
             "outlinewidth": 0,
             "ticks": ""
            },
            "colorscale": [
             [
              0,
              "#0d0887"
             ],
             [
              0.1111111111111111,
              "#46039f"
             ],
             [
              0.2222222222222222,
              "#7201a8"
             ],
             [
              0.3333333333333333,
              "#9c179e"
             ],
             [
              0.4444444444444444,
              "#bd3786"
             ],
             [
              0.5555555555555556,
              "#d8576b"
             ],
             [
              0.6666666666666666,
              "#ed7953"
             ],
             [
              0.7777777777777778,
              "#fb9f3a"
             ],
             [
              0.8888888888888888,
              "#fdca26"
             ],
             [
              1,
              "#f0f921"
             ]
            ],
            "type": "histogram2dcontour"
           }
          ],
          "mesh3d": [
           {
            "colorbar": {
             "outlinewidth": 0,
             "ticks": ""
            },
            "type": "mesh3d"
           }
          ],
          "parcoords": [
           {
            "line": {
             "colorbar": {
              "outlinewidth": 0,
              "ticks": ""
             }
            },
            "type": "parcoords"
           }
          ],
          "pie": [
           {
            "automargin": true,
            "type": "pie"
           }
          ],
          "scatter": [
           {
            "fillpattern": {
             "fillmode": "overlay",
             "size": 10,
             "solidity": 0.2
            },
            "type": "scatter"
           }
          ],
          "scatter3d": [
           {
            "line": {
             "colorbar": {
              "outlinewidth": 0,
              "ticks": ""
             }
            },
            "marker": {
             "colorbar": {
              "outlinewidth": 0,
              "ticks": ""
             }
            },
            "type": "scatter3d"
           }
          ],
          "scattercarpet": [
           {
            "marker": {
             "colorbar": {
              "outlinewidth": 0,
              "ticks": ""
             }
            },
            "type": "scattercarpet"
           }
          ],
          "scattergeo": [
           {
            "marker": {
             "colorbar": {
              "outlinewidth": 0,
              "ticks": ""
             }
            },
            "type": "scattergeo"
           }
          ],
          "scattergl": [
           {
            "marker": {
             "colorbar": {
              "outlinewidth": 0,
              "ticks": ""
             }
            },
            "type": "scattergl"
           }
          ],
          "scattermapbox": [
           {
            "marker": {
             "colorbar": {
              "outlinewidth": 0,
              "ticks": ""
             }
            },
            "type": "scattermapbox"
           }
          ],
          "scatterpolar": [
           {
            "marker": {
             "colorbar": {
              "outlinewidth": 0,
              "ticks": ""
             }
            },
            "type": "scatterpolar"
           }
          ],
          "scatterpolargl": [
           {
            "marker": {
             "colorbar": {
              "outlinewidth": 0,
              "ticks": ""
             }
            },
            "type": "scatterpolargl"
           }
          ],
          "scatterternary": [
           {
            "marker": {
             "colorbar": {
              "outlinewidth": 0,
              "ticks": ""
             }
            },
            "type": "scatterternary"
           }
          ],
          "surface": [
           {
            "colorbar": {
             "outlinewidth": 0,
             "ticks": ""
            },
            "colorscale": [
             [
              0,
              "#0d0887"
             ],
             [
              0.1111111111111111,
              "#46039f"
             ],
             [
              0.2222222222222222,
              "#7201a8"
             ],
             [
              0.3333333333333333,
              "#9c179e"
             ],
             [
              0.4444444444444444,
              "#bd3786"
             ],
             [
              0.5555555555555556,
              "#d8576b"
             ],
             [
              0.6666666666666666,
              "#ed7953"
             ],
             [
              0.7777777777777778,
              "#fb9f3a"
             ],
             [
              0.8888888888888888,
              "#fdca26"
             ],
             [
              1,
              "#f0f921"
             ]
            ],
            "type": "surface"
           }
          ],
          "table": [
           {
            "cells": {
             "fill": {
              "color": "#EBF0F8"
             },
             "line": {
              "color": "white"
             }
            },
            "header": {
             "fill": {
              "color": "#C8D4E3"
             },
             "line": {
              "color": "white"
             }
            },
            "type": "table"
           }
          ]
         },
         "layout": {
          "annotationdefaults": {
           "arrowcolor": "#2a3f5f",
           "arrowhead": 0,
           "arrowwidth": 1
          },
          "autotypenumbers": "strict",
          "coloraxis": {
           "colorbar": {
            "outlinewidth": 0,
            "ticks": ""
           }
          },
          "colorscale": {
           "diverging": [
            [
             0,
             "#8e0152"
            ],
            [
             0.1,
             "#c51b7d"
            ],
            [
             0.2,
             "#de77ae"
            ],
            [
             0.3,
             "#f1b6da"
            ],
            [
             0.4,
             "#fde0ef"
            ],
            [
             0.5,
             "#f7f7f7"
            ],
            [
             0.6,
             "#e6f5d0"
            ],
            [
             0.7,
             "#b8e186"
            ],
            [
             0.8,
             "#7fbc41"
            ],
            [
             0.9,
             "#4d9221"
            ],
            [
             1,
             "#276419"
            ]
           ],
           "sequential": [
            [
             0,
             "#0d0887"
            ],
            [
             0.1111111111111111,
             "#46039f"
            ],
            [
             0.2222222222222222,
             "#7201a8"
            ],
            [
             0.3333333333333333,
             "#9c179e"
            ],
            [
             0.4444444444444444,
             "#bd3786"
            ],
            [
             0.5555555555555556,
             "#d8576b"
            ],
            [
             0.6666666666666666,
             "#ed7953"
            ],
            [
             0.7777777777777778,
             "#fb9f3a"
            ],
            [
             0.8888888888888888,
             "#fdca26"
            ],
            [
             1,
             "#f0f921"
            ]
           ],
           "sequentialminus": [
            [
             0,
             "#0d0887"
            ],
            [
             0.1111111111111111,
             "#46039f"
            ],
            [
             0.2222222222222222,
             "#7201a8"
            ],
            [
             0.3333333333333333,
             "#9c179e"
            ],
            [
             0.4444444444444444,
             "#bd3786"
            ],
            [
             0.5555555555555556,
             "#d8576b"
            ],
            [
             0.6666666666666666,
             "#ed7953"
            ],
            [
             0.7777777777777778,
             "#fb9f3a"
            ],
            [
             0.8888888888888888,
             "#fdca26"
            ],
            [
             1,
             "#f0f921"
            ]
           ]
          },
          "colorway": [
           "#636efa",
           "#EF553B",
           "#00cc96",
           "#ab63fa",
           "#FFA15A",
           "#19d3f3",
           "#FF6692",
           "#B6E880",
           "#FF97FF",
           "#FECB52"
          ],
          "font": {
           "color": "#2a3f5f"
          },
          "geo": {
           "bgcolor": "white",
           "lakecolor": "white",
           "landcolor": "#E5ECF6",
           "showlakes": true,
           "showland": true,
           "subunitcolor": "white"
          },
          "hoverlabel": {
           "align": "left"
          },
          "hovermode": "closest",
          "mapbox": {
           "style": "light"
          },
          "paper_bgcolor": "white",
          "plot_bgcolor": "#E5ECF6",
          "polar": {
           "angularaxis": {
            "gridcolor": "white",
            "linecolor": "white",
            "ticks": ""
           },
           "bgcolor": "#E5ECF6",
           "radialaxis": {
            "gridcolor": "white",
            "linecolor": "white",
            "ticks": ""
           }
          },
          "scene": {
           "xaxis": {
            "backgroundcolor": "#E5ECF6",
            "gridcolor": "white",
            "gridwidth": 2,
            "linecolor": "white",
            "showbackground": true,
            "ticks": "",
            "zerolinecolor": "white"
           },
           "yaxis": {
            "backgroundcolor": "#E5ECF6",
            "gridcolor": "white",
            "gridwidth": 2,
            "linecolor": "white",
            "showbackground": true,
            "ticks": "",
            "zerolinecolor": "white"
           },
           "zaxis": {
            "backgroundcolor": "#E5ECF6",
            "gridcolor": "white",
            "gridwidth": 2,
            "linecolor": "white",
            "showbackground": true,
            "ticks": "",
            "zerolinecolor": "white"
           }
          },
          "shapedefaults": {
           "line": {
            "color": "#2a3f5f"
           }
          },
          "ternary": {
           "aaxis": {
            "gridcolor": "white",
            "linecolor": "white",
            "ticks": ""
           },
           "baxis": {
            "gridcolor": "white",
            "linecolor": "white",
            "ticks": ""
           },
           "bgcolor": "#E5ECF6",
           "caxis": {
            "gridcolor": "white",
            "linecolor": "white",
            "ticks": ""
           }
          },
          "title": {
           "x": 0.05
          },
          "xaxis": {
           "automargin": true,
           "gridcolor": "white",
           "linecolor": "white",
           "ticks": "",
           "title": {
            "standoff": 15
           },
           "zerolinecolor": "white",
           "zerolinewidth": 2
          },
          "yaxis": {
           "automargin": true,
           "gridcolor": "white",
           "linecolor": "white",
           "ticks": "",
           "title": {
            "standoff": 15
           },
           "zerolinecolor": "white",
           "zerolinewidth": 2
          }
         }
        },
        "title": {
         "text": "(Max Kernel Truncation Error * Avg Kernel Partial) (uniform)"
        },
        "xaxis": {
         "anchor": "y",
         "domain": [
          0,
          1
         ],
         "tickformat": ".2e",
         "title": {
          "text": "condition_number"
         }
        },
        "yaxis": {
         "anchor": "x",
         "domain": [
          0,
          1
         ],
         "tickformat": ".2e",
         "title": {
          "text": "my_implementation_of_adapt_error_model"
         },
         "type": "log"
        }
       }
      },
      "text/html": [
       "<div>                            <div id=\"8dd58401-9d4b-475a-aeb4-03d3bd3fc65b\" class=\"plotly-graph-div\" style=\"height:525px; width:100%;\"></div>            <script type=\"text/javascript\">                require([\"plotly\"], function(Plotly) {                    window.PLOTLYENV=window.PLOTLYENV || {};                                    if (document.getElementById(\"8dd58401-9d4b-475a-aeb4-03d3bd3fc65b\")) {                    Plotly.newPlot(                        \"8dd58401-9d4b-475a-aeb4-03d3bd3fc65b\",                        [{\"hovertemplate\":\"kernel_name=x_wxpy<br>condition_number=%{x}<br>my_implementation_of_adapt_error_model=%{y}<extra></extra>\",\"legendgroup\":\"x_wxpy\",\"marker\":{\"color\":\"#636efa\",\"symbol\":\"circle\"},\"mode\":\"markers\",\"name\":\"x_wxpy\",\"orientation\":\"v\",\"showlegend\":true,\"x\":[71.04159,373.1418,489.5411,728.8496,584.5738,785.2034,1959.303,3230.891,1438.271,2469.146,2667.885,2572.696,2152.209,3032.822,3876.724,2531.423,4215.023,2850.561,3188.968,3915.859,3305.003,6414.587,3772.184,5299.063,6476.695,11643.6,10164.02,7282.41,5277.623,9301.471,4745.863,6483.203],\"xaxis\":\"x\",\"y\":[6.96929e-12,7.142190000000001e-12,8.45688e-12,7.45531e-12,8.5498e-12,8.64174e-12,8.73317e-12,9.79274e-12,9.74057e-12,9.14553e-12,8.530200000000001e-12,9.36027e-12,8.77868e-12,8.230460000000001e-12,8.64669e-12,9.571120000000001e-12,8.72534e-12,8.676699999999999e-12,9.5856e-12,9.00272e-12,9.75055e-12,1.0164900000000002e-11,8.72602e-12,9.94326e-12,9.41844e-12,9.7875e-12,8.43497e-12,9.41802e-12,1.03618e-11,9.35013e-12,9.18392e-12,9.457580000000001e-12],\"yaxis\":\"y\",\"type\":\"scatter\"},{\"hovertemplate\":\"kernel_name=p_wxpy<br>condition_number=%{x}<br>my_implementation_of_adapt_error_model=%{y}<extra></extra>\",\"legendgroup\":\"p_wxpy\",\"marker\":{\"color\":\"#EF553B\",\"symbol\":\"diamond\"},\"mode\":\"markers\",\"name\":\"p_wxpy\",\"orientation\":\"v\",\"showlegend\":true,\"x\":[71.04159,373.1418,489.5411,728.8496,584.5738,785.2034,1959.303,3230.891,1438.271,2469.146,2667.885,2572.696,2152.209,3032.822,3876.724,2531.423,4215.023,2850.561,3188.968,3915.859,3305.003,6414.587,3772.184,5299.063,6476.695,11643.6,10164.02,7282.41,5277.623,9301.471,4745.863,6483.203],\"xaxis\":\"x\",\"y\":[6.2204802209999995e-09,9.925950103500001e-05,0.0011194614453,0.00044172770974,1.23217309424e-05,0.0002869400625,0.021451839857,0.085865062136,0.0101941874124,0.00011864592921999999,0.0090718512716,0.008575158188800001,0.009993025422,0.0008400101428799999,0.089587534439,0.008909829902999999,0.00024757903455,0.00085218943888,0.0047907702666000005,0.070735724544,0.03290391385,0.0015301277210999999,0.000123133828356,0.017457532475,0.001402063146,0.0005767440277700001,7.345762756499999e-05,0.002719523196,1.7768696517000002,0.002234405484,0.0005722872067499999,0.0033930949041],\"yaxis\":\"y\",\"type\":\"scatter\"},{\"hovertemplate\":\"kernel_name=r_dot<br>condition_number=%{x}<br>my_implementation_of_adapt_error_model=%{y}<extra></extra>\",\"legendgroup\":\"r_dot\",\"marker\":{\"color\":\"#00cc96\",\"symbol\":\"square\"},\"mode\":\"markers\",\"name\":\"r_dot\",\"orientation\":\"v\",\"showlegend\":true,\"x\":[71.04159,373.1418,489.5411,728.8496,584.5738,785.2034,1959.303,3230.891,1438.271,2469.146,2667.885,2572.696,2152.209,3032.822,3876.724,2531.423,4215.023,2850.561,3188.968,3915.859,3305.003,6414.587,3772.184,5299.063,6476.695,11643.6,10164.02,7282.41,5277.623,9301.471,4745.863,6483.203],\"xaxis\":\"x\",\"y\":[446423500000.0,335227085768000.0,9711793808800000.0,2.1316379330399996e+16,22777357271200.0,316909834560000.0,8.996151718500001e+19,3.25256692816e+18,2.85643087458e+18,1617909568080000.0,8.846595108e+17,1.10352743127e+18,2.0526192927000003e+17,7.86835546376e+16,2.62640256648e+19,8.918982797899998e+16,4.882239488e+16,1.1416516909199999e+18,8.674571882999999e+17,5.8569431885e+19,8.3933793636e+16,5.6787156906999994e+17,9187807485600000.0,1.4623468712e+19,2.00249972955e+16,1.2062440227199998e+16,6442164001000000.0,9.903072799500001e+18,9.652185384e+20,6.855589488250001e+16,1.58542424892e+16,1.4809436910299999e+18],\"yaxis\":\"y\",\"type\":\"scatter\"},{\"hovertemplate\":\"kernel_name=r_wxpy<br>condition_number=%{x}<br>my_implementation_of_adapt_error_model=%{y}<extra></extra>\",\"legendgroup\":\"r_wxpy\",\"marker\":{\"color\":\"#ab63fa\",\"symbol\":\"x\"},\"mode\":\"markers\",\"name\":\"r_wxpy\",\"orientation\":\"v\",\"showlegend\":true,\"x\":[71.04159,373.1418,489.5411,728.8496,584.5738,785.2034,1959.303,3230.891,1438.271,2469.146,2667.885,2572.696,2152.209,3032.822,3876.724,2531.423,4215.023,2850.561,3188.968,3915.859,3305.003,6414.587,3772.184,5299.063,6476.695,11643.6,10164.02,7282.41,5277.623,9301.471,4745.863,6483.203],\"xaxis\":\"x\",\"y\":[3.2380251987999995e-09,5.7638481225e-05,0.0005959247915,0.00029025624275999995,6.708458399799999e-06,0.00025345394019,0.0148514133455,0.042363263196,0.0046952260186,5.6932770936e-05,0.005343228417999999,0.0045864996948999995,0.0052617039065000005,0.0004198225359,0.042114872957,0.00429993504944,0.00013279197456,0.00051343639235,0.0023913617427,0.032196900255,0.013211756231,0.000838094628205,7.17224351588e-05,0.010990599858000001,0.00110120681478,0.000293530891608,4.4771804418e-05,0.00162974499072,0.79671045981,0.00112777275434,0.000335650894289,0.0019367047393199998],\"yaxis\":\"y\",\"type\":\"scatter\"},{\"hovertemplate\":\"kernel_name=matvec<br>condition_number=%{x}<br>my_implementation_of_adapt_error_model=%{y}<extra></extra>\",\"legendgroup\":\"matvec\",\"marker\":{\"color\":\"#FFA15A\",\"symbol\":\"cross\"},\"mode\":\"markers\",\"name\":\"matvec\",\"orientation\":\"v\",\"showlegend\":true,\"x\":[71.04159,373.1418,489.5411,728.8496,584.5738,785.2034,1959.303,3230.891,1438.271,2469.146,2667.885,2572.696,2152.209,3032.822,3876.724,2531.423,4215.023,2850.561,3188.968,3915.859,3305.003,6414.587,3772.184,5299.063,6476.695,11643.6,10164.02,7282.41,5277.623,9301.471,4745.863,6483.203],\"xaxis\":\"x\",\"y\":[1.35339583352e-08,0.00028053815881,0.00304136154,0.00109771985868,5.00704565423e-05,0.00187898683104,0.26195012621999997,1.1048588616,0.08753712314999999,0.00214305823955,0.021192671880000003,0.071677234722,0.06308783952000001,0.00160607363858,0.95106812738,0.08731900944,0.000845414527,0.004532473842,0.098426779911,0.42012585802799995,0.1195770918,0.0182225357496,0.0008177171734799999,0.049605561638,0.0139458405735,0.00498620372316,0.00071873782344,0.023355826362,5.1577685361,0.0110852690936,0.0033932589348,0.051484683132000005],\"yaxis\":\"y\",\"type\":\"scatter\"},{\"hovertemplate\":\"kernel_name=a_dot<br>condition_number=%{x}<br>my_implementation_of_adapt_error_model=%{y}<extra></extra>\",\"legendgroup\":\"a_dot\",\"marker\":{\"color\":\"#19d3f3\",\"symbol\":\"circle\"},\"mode\":\"markers\",\"name\":\"a_dot\",\"orientation\":\"v\",\"showlegend\":true,\"x\":[71.04159,373.1418,489.5411,728.8496,584.5738,785.2034,1959.303,3230.891,1438.271,2469.146,2667.885,2572.696,2152.209,3032.822,3876.724,2531.423,4215.023,2850.561,3188.968,3915.859,3305.003,6414.587,3772.184,5299.063,6476.695,11643.6,10164.02,7282.41,5277.623,9301.471,4745.863,6483.203],\"xaxis\":\"x\",\"y\":[439059516350.0,1796064560500000.0,3.36373351028e+18,2.99560870912e+16,328379044248000.0,2.1937885407e+16,2.9997483103e+21,2.4035163984e+21,6.9381359424e+19,2.4513187368e+16,3.6314142480000005e+18,1.43153272152e+20,4.2988601715599995e+18,2.8122468384e+17,1.777579216e+20,2.1825119999999996e+19,1.44473810755e+18,4.71339918945e+19,5.3142934978199994e+19,7.425600429000001e+20,3.4566781535e+18,7.7313591432e+18,3.0058642548e+17,6.0009757809e+19,5.5146121107e+17,9.299002548300001e+17,6.2783148176e+18,1.2182548320600002e+20,1.2959218217000001e+22,1.0229984117600001e+18,3.6762031053e+17,8.785412547599999e+18],\"yaxis\":\"y\",\"type\":\"scatter\"},{\"hovertemplate\":\"kernel_name=A_in<br>condition_number=%{x}<br>my_implementation_of_adapt_error_model=%{y}<extra></extra>\",\"legendgroup\":\"A_in\",\"marker\":{\"color\":\"#FF6692\",\"symbol\":\"diamond\"},\"mode\":\"markers\",\"name\":\"A_in\",\"orientation\":\"v\",\"showlegend\":true,\"x\":[71.04159,373.1418,489.5411,728.8496,584.5738,785.2034,1959.303,3230.891,1438.271,2469.146,2667.885,2572.696,2152.209,3032.822,3876.724,2531.423,4215.023,2850.561,3188.968,3915.859,3305.003,6414.587,3772.184,5299.063,6476.695,11643.6,10164.02,7282.41,5277.623,9301.471,4745.863,6483.203],\"xaxis\":\"x\",\"y\":[1.33825901836e-16,5.041530182399999e-15,8.404777243799999e-13,2.0733803307e-13,2.30325895485e-13,3.0783278741999997e-13,9.388736485399999e-12,1.70517253731e-12,9.4585604182e-12,1.31995508696e-11,1.78205053642e-09,1.07644719468e-11,1.08850344407e-11,8.075715734e-11,2.17980911362e-11,2.2956884064e-11,1.03975321035e-10,6.7436947776e-11,6.376059003600001e-11,3.95516415987e-09,1.9523486645e-10,1.0529805315200002e-10,1.0981092911600001e-11,2.15715666688e-10,1.83913056068e-10,2.38627537488e-10,5.5908888140000004e-11,3.000269217e-10,2.4970623636e-08,2.03143168448e-10,3.4788587274e-11,1.7721217065600001e-09],\"yaxis\":\"y\",\"type\":\"scatter\"},{\"hovertemplate\":\"kernel_name=x_in<br>condition_number=%{x}<br>my_implementation_of_adapt_error_model=%{y}<extra></extra>\",\"legendgroup\":\"x_in\",\"marker\":{\"color\":\"#B6E880\",\"symbol\":\"square\"},\"mode\":\"markers\",\"name\":\"x_in\",\"orientation\":\"v\",\"showlegend\":true,\"x\":[71.04159,373.1418,489.5411,728.8496,584.5738,785.2034,1959.303,3230.891,1438.271,2469.146,2667.885,2572.696,2152.209,3032.822,3876.724,2531.423,4215.023,2850.561,3188.968,3915.859,3305.003,6414.587,3772.184,5299.063,6476.695,11643.6,10164.02,7282.41,5277.623,9301.471,4745.863,6483.203],\"xaxis\":\"x\",\"y\":[0.0,0.0,0.0,0.0,0.0,0.0,0.0,0.0,0.0,0.0,0.0,0.0,0.0,0.0,0.0,0.0,0.0,0.0,0.0,0.0,0.0,0.0,0.0,0.0,0.0,0.0,0.0,0.0,0.0,0.0,0.0,0.0],\"yaxis\":\"y\",\"type\":\"scatter\"},{\"hovertemplate\":\"kernel_name=b_in<br>condition_number=%{x}<br>my_implementation_of_adapt_error_model=%{y}<extra></extra>\",\"legendgroup\":\"b_in\",\"marker\":{\"color\":\"#FF97FF\",\"symbol\":\"x\"},\"mode\":\"markers\",\"name\":\"b_in\",\"orientation\":\"v\",\"showlegend\":true,\"x\":[71.04159,373.1418,489.5411,728.8496,584.5738,785.2034,1959.303,3230.891,1438.271,2469.146,2667.885,2572.696,2152.209,3032.822,3876.724,2531.423,4215.023,2850.561,3188.968,3915.859,3305.003,6414.587,3772.184,5299.063,6476.695,11643.6,10164.02,7282.41,5277.623,9301.471,4745.863,6483.203],\"xaxis\":\"x\",\"y\":[0.0,0.0,0.0,0.0,0.0,0.0,0.0,0.0,0.0,0.0,0.0,0.0,0.0,0.0,0.0,0.0,0.0,0.0,0.0,0.0,0.0,0.0,0.0,0.0,0.0,0.0,0.0,0.0,0.0,0.0,0.0,0.0],\"yaxis\":\"y\",\"type\":\"scatter\"}],                        {\"template\":{\"data\":{\"histogram2dcontour\":[{\"type\":\"histogram2dcontour\",\"colorbar\":{\"outlinewidth\":0,\"ticks\":\"\"},\"colorscale\":[[0.0,\"#0d0887\"],[0.1111111111111111,\"#46039f\"],[0.2222222222222222,\"#7201a8\"],[0.3333333333333333,\"#9c179e\"],[0.4444444444444444,\"#bd3786\"],[0.5555555555555556,\"#d8576b\"],[0.6666666666666666,\"#ed7953\"],[0.7777777777777778,\"#fb9f3a\"],[0.8888888888888888,\"#fdca26\"],[1.0,\"#f0f921\"]]}],\"choropleth\":[{\"type\":\"choropleth\",\"colorbar\":{\"outlinewidth\":0,\"ticks\":\"\"}}],\"histogram2d\":[{\"type\":\"histogram2d\",\"colorbar\":{\"outlinewidth\":0,\"ticks\":\"\"},\"colorscale\":[[0.0,\"#0d0887\"],[0.1111111111111111,\"#46039f\"],[0.2222222222222222,\"#7201a8\"],[0.3333333333333333,\"#9c179e\"],[0.4444444444444444,\"#bd3786\"],[0.5555555555555556,\"#d8576b\"],[0.6666666666666666,\"#ed7953\"],[0.7777777777777778,\"#fb9f3a\"],[0.8888888888888888,\"#fdca26\"],[1.0,\"#f0f921\"]]}],\"heatmap\":[{\"type\":\"heatmap\",\"colorbar\":{\"outlinewidth\":0,\"ticks\":\"\"},\"colorscale\":[[0.0,\"#0d0887\"],[0.1111111111111111,\"#46039f\"],[0.2222222222222222,\"#7201a8\"],[0.3333333333333333,\"#9c179e\"],[0.4444444444444444,\"#bd3786\"],[0.5555555555555556,\"#d8576b\"],[0.6666666666666666,\"#ed7953\"],[0.7777777777777778,\"#fb9f3a\"],[0.8888888888888888,\"#fdca26\"],[1.0,\"#f0f921\"]]}],\"heatmapgl\":[{\"type\":\"heatmapgl\",\"colorbar\":{\"outlinewidth\":0,\"ticks\":\"\"},\"colorscale\":[[0.0,\"#0d0887\"],[0.1111111111111111,\"#46039f\"],[0.2222222222222222,\"#7201a8\"],[0.3333333333333333,\"#9c179e\"],[0.4444444444444444,\"#bd3786\"],[0.5555555555555556,\"#d8576b\"],[0.6666666666666666,\"#ed7953\"],[0.7777777777777778,\"#fb9f3a\"],[0.8888888888888888,\"#fdca26\"],[1.0,\"#f0f921\"]]}],\"contourcarpet\":[{\"type\":\"contourcarpet\",\"colorbar\":{\"outlinewidth\":0,\"ticks\":\"\"}}],\"contour\":[{\"type\":\"contour\",\"colorbar\":{\"outlinewidth\":0,\"ticks\":\"\"},\"colorscale\":[[0.0,\"#0d0887\"],[0.1111111111111111,\"#46039f\"],[0.2222222222222222,\"#7201a8\"],[0.3333333333333333,\"#9c179e\"],[0.4444444444444444,\"#bd3786\"],[0.5555555555555556,\"#d8576b\"],[0.6666666666666666,\"#ed7953\"],[0.7777777777777778,\"#fb9f3a\"],[0.8888888888888888,\"#fdca26\"],[1.0,\"#f0f921\"]]}],\"surface\":[{\"type\":\"surface\",\"colorbar\":{\"outlinewidth\":0,\"ticks\":\"\"},\"colorscale\":[[0.0,\"#0d0887\"],[0.1111111111111111,\"#46039f\"],[0.2222222222222222,\"#7201a8\"],[0.3333333333333333,\"#9c179e\"],[0.4444444444444444,\"#bd3786\"],[0.5555555555555556,\"#d8576b\"],[0.6666666666666666,\"#ed7953\"],[0.7777777777777778,\"#fb9f3a\"],[0.8888888888888888,\"#fdca26\"],[1.0,\"#f0f921\"]]}],\"mesh3d\":[{\"type\":\"mesh3d\",\"colorbar\":{\"outlinewidth\":0,\"ticks\":\"\"}}],\"scatter\":[{\"fillpattern\":{\"fillmode\":\"overlay\",\"size\":10,\"solidity\":0.2},\"type\":\"scatter\"}],\"parcoords\":[{\"type\":\"parcoords\",\"line\":{\"colorbar\":{\"outlinewidth\":0,\"ticks\":\"\"}}}],\"scatterpolargl\":[{\"type\":\"scatterpolargl\",\"marker\":{\"colorbar\":{\"outlinewidth\":0,\"ticks\":\"\"}}}],\"bar\":[{\"error_x\":{\"color\":\"#2a3f5f\"},\"error_y\":{\"color\":\"#2a3f5f\"},\"marker\":{\"line\":{\"color\":\"#E5ECF6\",\"width\":0.5},\"pattern\":{\"fillmode\":\"overlay\",\"size\":10,\"solidity\":0.2}},\"type\":\"bar\"}],\"scattergeo\":[{\"type\":\"scattergeo\",\"marker\":{\"colorbar\":{\"outlinewidth\":0,\"ticks\":\"\"}}}],\"scatterpolar\":[{\"type\":\"scatterpolar\",\"marker\":{\"colorbar\":{\"outlinewidth\":0,\"ticks\":\"\"}}}],\"histogram\":[{\"marker\":{\"pattern\":{\"fillmode\":\"overlay\",\"size\":10,\"solidity\":0.2}},\"type\":\"histogram\"}],\"scattergl\":[{\"type\":\"scattergl\",\"marker\":{\"colorbar\":{\"outlinewidth\":0,\"ticks\":\"\"}}}],\"scatter3d\":[{\"type\":\"scatter3d\",\"line\":{\"colorbar\":{\"outlinewidth\":0,\"ticks\":\"\"}},\"marker\":{\"colorbar\":{\"outlinewidth\":0,\"ticks\":\"\"}}}],\"scattermapbox\":[{\"type\":\"scattermapbox\",\"marker\":{\"colorbar\":{\"outlinewidth\":0,\"ticks\":\"\"}}}],\"scatterternary\":[{\"type\":\"scatterternary\",\"marker\":{\"colorbar\":{\"outlinewidth\":0,\"ticks\":\"\"}}}],\"scattercarpet\":[{\"type\":\"scattercarpet\",\"marker\":{\"colorbar\":{\"outlinewidth\":0,\"ticks\":\"\"}}}],\"carpet\":[{\"aaxis\":{\"endlinecolor\":\"#2a3f5f\",\"gridcolor\":\"white\",\"linecolor\":\"white\",\"minorgridcolor\":\"white\",\"startlinecolor\":\"#2a3f5f\"},\"baxis\":{\"endlinecolor\":\"#2a3f5f\",\"gridcolor\":\"white\",\"linecolor\":\"white\",\"minorgridcolor\":\"white\",\"startlinecolor\":\"#2a3f5f\"},\"type\":\"carpet\"}],\"table\":[{\"cells\":{\"fill\":{\"color\":\"#EBF0F8\"},\"line\":{\"color\":\"white\"}},\"header\":{\"fill\":{\"color\":\"#C8D4E3\"},\"line\":{\"color\":\"white\"}},\"type\":\"table\"}],\"barpolar\":[{\"marker\":{\"line\":{\"color\":\"#E5ECF6\",\"width\":0.5},\"pattern\":{\"fillmode\":\"overlay\",\"size\":10,\"solidity\":0.2}},\"type\":\"barpolar\"}],\"pie\":[{\"automargin\":true,\"type\":\"pie\"}]},\"layout\":{\"autotypenumbers\":\"strict\",\"colorway\":[\"#636efa\",\"#EF553B\",\"#00cc96\",\"#ab63fa\",\"#FFA15A\",\"#19d3f3\",\"#FF6692\",\"#B6E880\",\"#FF97FF\",\"#FECB52\"],\"font\":{\"color\":\"#2a3f5f\"},\"hovermode\":\"closest\",\"hoverlabel\":{\"align\":\"left\"},\"paper_bgcolor\":\"white\",\"plot_bgcolor\":\"#E5ECF6\",\"polar\":{\"bgcolor\":\"#E5ECF6\",\"angularaxis\":{\"gridcolor\":\"white\",\"linecolor\":\"white\",\"ticks\":\"\"},\"radialaxis\":{\"gridcolor\":\"white\",\"linecolor\":\"white\",\"ticks\":\"\"}},\"ternary\":{\"bgcolor\":\"#E5ECF6\",\"aaxis\":{\"gridcolor\":\"white\",\"linecolor\":\"white\",\"ticks\":\"\"},\"baxis\":{\"gridcolor\":\"white\",\"linecolor\":\"white\",\"ticks\":\"\"},\"caxis\":{\"gridcolor\":\"white\",\"linecolor\":\"white\",\"ticks\":\"\"}},\"coloraxis\":{\"colorbar\":{\"outlinewidth\":0,\"ticks\":\"\"}},\"colorscale\":{\"sequential\":[[0.0,\"#0d0887\"],[0.1111111111111111,\"#46039f\"],[0.2222222222222222,\"#7201a8\"],[0.3333333333333333,\"#9c179e\"],[0.4444444444444444,\"#bd3786\"],[0.5555555555555556,\"#d8576b\"],[0.6666666666666666,\"#ed7953\"],[0.7777777777777778,\"#fb9f3a\"],[0.8888888888888888,\"#fdca26\"],[1.0,\"#f0f921\"]],\"sequentialminus\":[[0.0,\"#0d0887\"],[0.1111111111111111,\"#46039f\"],[0.2222222222222222,\"#7201a8\"],[0.3333333333333333,\"#9c179e\"],[0.4444444444444444,\"#bd3786\"],[0.5555555555555556,\"#d8576b\"],[0.6666666666666666,\"#ed7953\"],[0.7777777777777778,\"#fb9f3a\"],[0.8888888888888888,\"#fdca26\"],[1.0,\"#f0f921\"]],\"diverging\":[[0,\"#8e0152\"],[0.1,\"#c51b7d\"],[0.2,\"#de77ae\"],[0.3,\"#f1b6da\"],[0.4,\"#fde0ef\"],[0.5,\"#f7f7f7\"],[0.6,\"#e6f5d0\"],[0.7,\"#b8e186\"],[0.8,\"#7fbc41\"],[0.9,\"#4d9221\"],[1,\"#276419\"]]},\"xaxis\":{\"gridcolor\":\"white\",\"linecolor\":\"white\",\"ticks\":\"\",\"title\":{\"standoff\":15},\"zerolinecolor\":\"white\",\"automargin\":true,\"zerolinewidth\":2},\"yaxis\":{\"gridcolor\":\"white\",\"linecolor\":\"white\",\"ticks\":\"\",\"title\":{\"standoff\":15},\"zerolinecolor\":\"white\",\"automargin\":true,\"zerolinewidth\":2},\"scene\":{\"xaxis\":{\"backgroundcolor\":\"#E5ECF6\",\"gridcolor\":\"white\",\"linecolor\":\"white\",\"showbackground\":true,\"ticks\":\"\",\"zerolinecolor\":\"white\",\"gridwidth\":2},\"yaxis\":{\"backgroundcolor\":\"#E5ECF6\",\"gridcolor\":\"white\",\"linecolor\":\"white\",\"showbackground\":true,\"ticks\":\"\",\"zerolinecolor\":\"white\",\"gridwidth\":2},\"zaxis\":{\"backgroundcolor\":\"#E5ECF6\",\"gridcolor\":\"white\",\"linecolor\":\"white\",\"showbackground\":true,\"ticks\":\"\",\"zerolinecolor\":\"white\",\"gridwidth\":2}},\"shapedefaults\":{\"line\":{\"color\":\"#2a3f5f\"}},\"annotationdefaults\":{\"arrowcolor\":\"#2a3f5f\",\"arrowhead\":0,\"arrowwidth\":1},\"geo\":{\"bgcolor\":\"white\",\"landcolor\":\"#E5ECF6\",\"subunitcolor\":\"white\",\"showland\":true,\"showlakes\":true,\"lakecolor\":\"white\"},\"title\":{\"x\":0.05},\"mapbox\":{\"style\":\"light\"}}},\"xaxis\":{\"anchor\":\"y\",\"domain\":[0.0,1.0],\"title\":{\"text\":\"condition_number\"},\"tickformat\":\".2e\"},\"yaxis\":{\"anchor\":\"x\",\"domain\":[0.0,1.0],\"title\":{\"text\":\"my_implementation_of_adapt_error_model\"},\"type\":\"log\",\"tickformat\":\".2e\"},\"legend\":{\"title\":{\"text\":\"kernel_name\"},\"tracegroupgap\":0},\"title\":{\"text\":\"(Max Kernel Truncation Error * Avg Kernel Partial) (uniform)\"}},                        {\"responsive\": true}                    ).then(function(){\n",
       "                            \n",
       "var gd = document.getElementById('8dd58401-9d4b-475a-aeb4-03d3bd3fc65b');\n",
       "var x = new MutationObserver(function (mutations, observer) {{\n",
       "        var display = window.getComputedStyle(gd).display;\n",
       "        if (!display || display === 'none') {{\n",
       "            console.log([gd, 'removed!']);\n",
       "            Plotly.purge(gd);\n",
       "            observer.disconnect();\n",
       "        }}\n",
       "}});\n",
       "\n",
       "// Listen for the removal of the full notebook cells\n",
       "var notebookContainer = gd.closest('#notebook-container');\n",
       "if (notebookContainer) {{\n",
       "    x.observe(notebookContainer, {childList: true});\n",
       "}}\n",
       "\n",
       "// Listen for the clearing of the current output cell\n",
       "var outputEl = gd.closest('.output');\n",
       "if (outputEl) {{\n",
       "    x.observe(outputEl, {childList: true});\n",
       "}}\n",
       "\n",
       "                        })                };                });            </script>        </div>"
      ]
     },
     "metadata": {},
     "output_type": "display_data"
    },
    {
     "data": {
      "application/vnd.plotly.v1+json": {
       "config": {
        "plotlyServerURL": "https://plot.ly"
       },
       "data": [
        {
         "hovertemplate": "kernel_name=x_wxpy<br>condition_number=%{x}<br>adapt_error_model=%{y}<extra></extra>",
         "legendgroup": "x_wxpy",
         "marker": {
          "color": "#636efa",
          "symbol": "circle"
         },
         "mode": "markers",
         "name": "x_wxpy",
         "orientation": "v",
         "showlegend": true,
         "type": "scatter",
         "x": [
          71.04159,
          373.1418,
          489.5411,
          728.8496,
          584.5738,
          785.2034,
          1959.303,
          3230.891,
          1438.271,
          2469.146,
          2667.885,
          2572.696,
          2152.209,
          3032.822,
          3876.724,
          2531.423,
          4215.023,
          2850.561,
          3188.968,
          3915.859,
          3305.003,
          6414.587,
          3772.184,
          5299.063,
          6476.695,
          11643.6,
          10164.02,
          7282.41,
          5277.623,
          9301.471,
          4745.863,
          6483.203
         ],
         "xaxis": "x",
         "y": [
          1.6535e-08,
          2.92041e-09,
          2.03955e-08,
          6.62469e-08,
          1.07389e-07,
          2.6872e-08,
          2.55951e-08,
          1.72221e-08,
          3.39837e-08,
          4.1661e-08,
          1.55494e-08,
          5.53113e-08,
          2.35532e-08,
          8.28814e-08,
          4.57061e-08,
          9.24662e-08,
          6.85861e-08,
          3.81082e-08,
          9.46755e-09,
          2.07569e-08,
          1.4556e-07,
          3.39442e-08,
          6.29529e-08,
          3.45743e-08,
          3.3673e-08,
          8.8191e-08,
          5.00056e-09,
          6.71119e-08,
          1.06333e-08,
          6.18083e-08,
          7.03947e-08,
          8.71537e-08
         ],
         "yaxis": "y"
        },
        {
         "hovertemplate": "kernel_name=p_wxpy<br>condition_number=%{x}<br>adapt_error_model=%{y}<extra></extra>",
         "legendgroup": "p_wxpy",
         "marker": {
          "color": "#EF553B",
          "symbol": "diamond"
         },
         "mode": "markers",
         "name": "p_wxpy",
         "orientation": "v",
         "showlegend": true,
         "type": "scatter",
         "x": [
          71.04159,
          373.1418,
          489.5411,
          728.8496,
          584.5738,
          785.2034,
          1959.303,
          3230.891,
          1438.271,
          2469.146,
          2667.885,
          2572.696,
          2152.209,
          3032.822,
          3876.724,
          2531.423,
          4215.023,
          2850.561,
          3188.968,
          3915.859,
          3305.003,
          6414.587,
          3772.184,
          5299.063,
          6476.695,
          11643.6,
          10164.02,
          7282.41,
          5277.623,
          9301.471,
          4745.863,
          6483.203
         ],
         "xaxis": "x",
         "y": [
          1.36526e-13,
          1.59743e-11,
          1.62718e-09,
          2.09923e-10,
          1.70569e-10,
          5.37608e-11,
          1.12354e-08,
          2.30429e-09,
          1.57457e-08,
          1.09909e-08,
          9.85163e-07,
          1.49023e-08,
          3.22017e-09,
          9.92361e-08,
          4.0715e-11,
          3.68828e-09,
          8.28187e-08,
          4.6095e-09,
          3.17871e-08,
          5.84468e-06,
          1.67847e-07,
          7.64222e-08,
          1.02155e-09,
          1.74251e-07,
          2.09582e-07,
          2.22704e-07,
          5.67805e-08,
          3.48151e-08,
          3.02217e-05,
          2.8924e-07,
          4.30732e-09,
          6.17821e-06
         ],
         "yaxis": "y"
        },
        {
         "hovertemplate": "kernel_name=r_dot<br>condition_number=%{x}<br>adapt_error_model=%{y}<extra></extra>",
         "legendgroup": "r_dot",
         "marker": {
          "color": "#00cc96",
          "symbol": "square"
         },
         "mode": "markers",
         "name": "r_dot",
         "orientation": "v",
         "showlegend": true,
         "type": "scatter",
         "x": [
          71.04159,
          373.1418,
          489.5411,
          728.8496,
          584.5738,
          785.2034,
          1959.303,
          3230.891,
          1438.271,
          2469.146,
          2667.885,
          2572.696,
          2152.209,
          3032.822,
          3876.724,
          2531.423,
          4215.023,
          2850.561,
          3188.968,
          3915.859,
          3305.003,
          6414.587,
          3772.184,
          5299.063,
          6476.695,
          11643.6,
          10164.02,
          7282.41,
          5277.623,
          9301.471,
          4745.863,
          6483.203
         ],
         "xaxis": "x",
         "y": [
          5.71822e-14,
          5.13495e-12,
          1.32747e-09,
          9.97074e-11,
          3.19632e-11,
          1.99647e-10,
          1.04866e-08,
          3.09754e-10,
          3.34642e-08,
          2.23071e-08,
          1.07526e-07,
          1.85243e-09,
          1.77565e-08,
          2.75438e-07,
          2.09568e-08,
          1.56122e-08,
          1.17997e-07,
          2.30615e-08,
          6.61944e-08,
          6.69623e-06,
          7.5667e-08,
          2.25389e-07,
          5.5016e-10,
          6.69583e-07,
          7.06954e-08,
          9.50614e-08,
          1.49391e-07,
          3.29046e-07,
          4.13109e-05,
          1.13274e-08,
          8.50258e-09,
          3.2941e-06
         ],
         "yaxis": "y"
        },
        {
         "hovertemplate": "kernel_name=r_wxpy<br>condition_number=%{x}<br>adapt_error_model=%{y}<extra></extra>",
         "legendgroup": "r_wxpy",
         "marker": {
          "color": "#ab63fa",
          "symbol": "x"
         },
         "mode": "markers",
         "name": "r_wxpy",
         "orientation": "v",
         "showlegend": true,
         "type": "scatter",
         "x": [
          71.04159,
          373.1418,
          489.5411,
          728.8496,
          584.5738,
          785.2034,
          1959.303,
          3230.891,
          1438.271,
          2469.146,
          2667.885,
          2572.696,
          2152.209,
          3032.822,
          3876.724,
          2531.423,
          4215.023,
          2850.561,
          3188.968,
          3915.859,
          3305.003,
          6414.587,
          3772.184,
          5299.063,
          6476.695,
          11643.6,
          10164.02,
          7282.41,
          5277.623,
          9301.471,
          4745.863,
          6483.203
         ],
         "xaxis": "x",
         "y": [
          1.27814e-08,
          1.52416e-07,
          9.94012e-08,
          2.76259e-08,
          2.66969e-07,
          8.66274e-07,
          1.27043e-07,
          7.40814e-07,
          7.98973e-07,
          2.18867e-07,
          1.57314e-07,
          3.22609e-06,
          5.21988e-07,
          4.14896e-06,
          7.33483e-07,
          7.37333e-07,
          4.21262e-06,
          3.25603e-06,
          2.61031e-06,
          6.36158e-07,
          3.74106e-06,
          1.52169e-06,
          9.97164e-07,
          5.42952e-07,
          5.24701e-07,
          1.86664e-06,
          1.01281e-06,
          1.31591e-06,
          1.45536e-05,
          5.54278e-06,
          1.73355e-06,
          5.81502e-06
         ],
         "yaxis": "y"
        },
        {
         "hovertemplate": "kernel_name=matvec<br>condition_number=%{x}<br>adapt_error_model=%{y}<extra></extra>",
         "legendgroup": "matvec",
         "marker": {
          "color": "#FFA15A",
          "symbol": "cross"
         },
         "mode": "markers",
         "name": "matvec",
         "orientation": "v",
         "showlegend": true,
         "type": "scatter",
         "x": [
          71.04159,
          373.1418,
          489.5411,
          728.8496,
          584.5738,
          785.2034,
          1959.303,
          3230.891,
          1438.271,
          2469.146,
          2667.885,
          2572.696,
          2152.209,
          3032.822,
          3876.724,
          2531.423,
          4215.023,
          2850.561,
          3188.968,
          3915.859,
          3305.003,
          6414.587,
          3772.184,
          5299.063,
          6476.695,
          11643.6,
          10164.02,
          7282.41,
          5277.623,
          9301.471,
          4745.863,
          6483.203
         ],
         "xaxis": "x",
         "y": [
          2.15457e-07,
          4.96299e-08,
          2.73567e-07,
          6.92459e-07,
          1.26419e-06,
          1.05888e-06,
          3.80481e-06,
          1.6168e-06,
          6.81629e-07,
          1.60511e-06,
          1.48171e-07,
          8.37895e-07,
          9.2865e-07,
          2.27373e-05,
          8.94371e-06,
          3.29124e-06,
          1.2541e-06,
          9.75513e-07,
          2.07216e-05,
          3.89066e-06,
          2.34841e-06,
          4.89321e-06,
          1.31313e-06,
          6.53242e-07,
          5.22971e-06,
          8.433e-06,
          4.04265e-06,
          1.83719e-08,
          2.66983e-05,
          2.07171e-05,
          2.27038e-07,
          3.53246e-06
         ],
         "yaxis": "y"
        },
        {
         "hovertemplate": "kernel_name=a_dot<br>condition_number=%{x}<br>adapt_error_model=%{y}<extra></extra>",
         "legendgroup": "a_dot",
         "marker": {
          "color": "#19d3f3",
          "symbol": "circle"
         },
         "mode": "markers",
         "name": "a_dot",
         "orientation": "v",
         "showlegend": true,
         "type": "scatter",
         "x": [
          71.04159,
          373.1418,
          489.5411,
          728.8496,
          584.5738,
          785.2034,
          1959.303,
          3230.891,
          1438.271,
          2469.146,
          2667.885,
          2572.696,
          2152.209,
          3032.822,
          3876.724,
          2531.423,
          4215.023,
          2850.561,
          3188.968,
          3915.859,
          3305.003,
          6414.587,
          3772.184,
          5299.063,
          6476.695,
          11643.6,
          10164.02,
          7282.41,
          5277.623,
          9301.471,
          4745.863,
          6483.203
         ],
         "xaxis": "x",
         "y": [
          3.06803e-13,
          4.26583e-11,
          1.56449e-10,
          1.30421e-10,
          2.97393e-10,
          1.12415e-10,
          7.56021e-09,
          1.6667e-09,
          8.23543e-09,
          8.76982e-09,
          5.64694e-07,
          2.92043e-08,
          1.03802e-08,
          4.90071e-08,
          1.55373e-08,
          3.20742e-08,
          1.11548e-07,
          8.2511e-09,
          3.84966e-08,
          4.27864e-06,
          1.05103e-07,
          3.11958e-07,
          4.35982e-09,
          9.46659e-07,
          2.69623e-07,
          7.09423e-08,
          1.6457e-07,
          3.95588e-07,
          1.26117e-05,
          3.73372e-08,
          1.23892e-08,
          2.91528e-06
         ],
         "yaxis": "y"
        },
        {
         "hovertemplate": "kernel_name=A_in<br>condition_number=%{x}<br>adapt_error_model=%{y}<extra></extra>",
         "legendgroup": "A_in",
         "marker": {
          "color": "#FF6692",
          "symbol": "diamond"
         },
         "mode": "markers",
         "name": "A_in",
         "orientation": "v",
         "showlegend": true,
         "type": "scatter",
         "x": [
          71.04159,
          373.1418,
          489.5411,
          728.8496,
          584.5738,
          785.2034,
          1959.303,
          3230.891,
          1438.271,
          2469.146,
          2667.885,
          2572.696,
          2152.209,
          3032.822,
          3876.724,
          2531.423,
          4215.023,
          2850.561,
          3188.968,
          3915.859,
          3305.003,
          6414.587,
          3772.184,
          5299.063,
          6476.695,
          11643.6,
          10164.02,
          7282.41,
          5277.623,
          9301.471,
          4745.863,
          6483.203
         ],
         "xaxis": "x",
         "y": [
          1.25269e-22,
          1.65595e-22,
          1.60803e-20,
          2.74244e-21,
          5.28156e-21,
          2.45852e-21,
          2.85959e-20,
          4.06821e-20,
          4.99969e-20,
          4.141e-20,
          1.34163e-20,
          2.81376e-19,
          2.35932e-20,
          5.68099e-19,
          1.54108e-19,
          3.09258e-20,
          1.62667e-19,
          2.10555e-19,
          1.05541e-18,
          2.06783e-19,
          8.59296e-21,
          2.28465e-20,
          8.85586e-20,
          1.26134e-20,
          1.0625e-19,
          1.8163e-19,
          8.74947e-20,
          3.21982e-19,
          8.99774e-20,
          2.77428e-19,
          5.17083e-19,
          3.25832e-19
         ],
         "yaxis": "y"
        },
        {
         "hovertemplate": "kernel_name=x_in<br>condition_number=%{x}<br>adapt_error_model=%{y}<extra></extra>",
         "legendgroup": "x_in",
         "marker": {
          "color": "#B6E880",
          "symbol": "square"
         },
         "mode": "markers",
         "name": "x_in",
         "orientation": "v",
         "showlegend": true,
         "type": "scatter",
         "x": [
          71.04159,
          373.1418,
          489.5411,
          728.8496,
          584.5738,
          785.2034,
          1959.303,
          3230.891,
          1438.271,
          2469.146,
          2667.885,
          2572.696,
          2152.209,
          3032.822,
          3876.724,
          2531.423,
          4215.023,
          2850.561,
          3188.968,
          3915.859,
          3305.003,
          6414.587,
          3772.184,
          5299.063,
          6476.695,
          11643.6,
          10164.02,
          7282.41,
          5277.623,
          9301.471,
          4745.863,
          6483.203
         ],
         "xaxis": "x",
         "y": [
          0,
          0,
          0,
          0,
          0,
          0,
          0,
          0,
          0,
          0,
          0,
          0,
          0,
          0,
          0,
          0,
          0,
          0,
          0,
          0,
          0,
          0,
          0,
          0,
          0,
          0,
          0,
          0,
          0,
          0,
          0,
          0
         ],
         "yaxis": "y"
        },
        {
         "hovertemplate": "kernel_name=b_in<br>condition_number=%{x}<br>adapt_error_model=%{y}<extra></extra>",
         "legendgroup": "b_in",
         "marker": {
          "color": "#FF97FF",
          "symbol": "x"
         },
         "mode": "markers",
         "name": "b_in",
         "orientation": "v",
         "showlegend": true,
         "type": "scatter",
         "x": [
          71.04159,
          373.1418,
          489.5411,
          728.8496,
          584.5738,
          785.2034,
          1959.303,
          3230.891,
          1438.271,
          2469.146,
          2667.885,
          2572.696,
          2152.209,
          3032.822,
          3876.724,
          2531.423,
          4215.023,
          2850.561,
          3188.968,
          3915.859,
          3305.003,
          6414.587,
          3772.184,
          5299.063,
          6476.695,
          11643.6,
          10164.02,
          7282.41,
          5277.623,
          9301.471,
          4745.863,
          6483.203
         ],
         "xaxis": "x",
         "y": [
          0,
          0,
          0,
          0,
          0,
          0,
          0,
          0,
          0,
          0,
          0,
          0,
          0,
          0,
          0,
          0,
          0,
          0,
          0,
          0,
          0,
          0,
          0,
          0,
          0,
          0,
          0,
          0,
          0,
          0,
          0,
          0
         ],
         "yaxis": "y"
        }
       ],
       "layout": {
        "legend": {
         "title": {
          "text": "kernel_name"
         },
         "tracegroupgap": 0
        },
        "template": {
         "data": {
          "bar": [
           {
            "error_x": {
             "color": "#2a3f5f"
            },
            "error_y": {
             "color": "#2a3f5f"
            },
            "marker": {
             "line": {
              "color": "#E5ECF6",
              "width": 0.5
             },
             "pattern": {
              "fillmode": "overlay",
              "size": 10,
              "solidity": 0.2
             }
            },
            "type": "bar"
           }
          ],
          "barpolar": [
           {
            "marker": {
             "line": {
              "color": "#E5ECF6",
              "width": 0.5
             },
             "pattern": {
              "fillmode": "overlay",
              "size": 10,
              "solidity": 0.2
             }
            },
            "type": "barpolar"
           }
          ],
          "carpet": [
           {
            "aaxis": {
             "endlinecolor": "#2a3f5f",
             "gridcolor": "white",
             "linecolor": "white",
             "minorgridcolor": "white",
             "startlinecolor": "#2a3f5f"
            },
            "baxis": {
             "endlinecolor": "#2a3f5f",
             "gridcolor": "white",
             "linecolor": "white",
             "minorgridcolor": "white",
             "startlinecolor": "#2a3f5f"
            },
            "type": "carpet"
           }
          ],
          "choropleth": [
           {
            "colorbar": {
             "outlinewidth": 0,
             "ticks": ""
            },
            "type": "choropleth"
           }
          ],
          "contour": [
           {
            "colorbar": {
             "outlinewidth": 0,
             "ticks": ""
            },
            "colorscale": [
             [
              0,
              "#0d0887"
             ],
             [
              0.1111111111111111,
              "#46039f"
             ],
             [
              0.2222222222222222,
              "#7201a8"
             ],
             [
              0.3333333333333333,
              "#9c179e"
             ],
             [
              0.4444444444444444,
              "#bd3786"
             ],
             [
              0.5555555555555556,
              "#d8576b"
             ],
             [
              0.6666666666666666,
              "#ed7953"
             ],
             [
              0.7777777777777778,
              "#fb9f3a"
             ],
             [
              0.8888888888888888,
              "#fdca26"
             ],
             [
              1,
              "#f0f921"
             ]
            ],
            "type": "contour"
           }
          ],
          "contourcarpet": [
           {
            "colorbar": {
             "outlinewidth": 0,
             "ticks": ""
            },
            "type": "contourcarpet"
           }
          ],
          "heatmap": [
           {
            "colorbar": {
             "outlinewidth": 0,
             "ticks": ""
            },
            "colorscale": [
             [
              0,
              "#0d0887"
             ],
             [
              0.1111111111111111,
              "#46039f"
             ],
             [
              0.2222222222222222,
              "#7201a8"
             ],
             [
              0.3333333333333333,
              "#9c179e"
             ],
             [
              0.4444444444444444,
              "#bd3786"
             ],
             [
              0.5555555555555556,
              "#d8576b"
             ],
             [
              0.6666666666666666,
              "#ed7953"
             ],
             [
              0.7777777777777778,
              "#fb9f3a"
             ],
             [
              0.8888888888888888,
              "#fdca26"
             ],
             [
              1,
              "#f0f921"
             ]
            ],
            "type": "heatmap"
           }
          ],
          "heatmapgl": [
           {
            "colorbar": {
             "outlinewidth": 0,
             "ticks": ""
            },
            "colorscale": [
             [
              0,
              "#0d0887"
             ],
             [
              0.1111111111111111,
              "#46039f"
             ],
             [
              0.2222222222222222,
              "#7201a8"
             ],
             [
              0.3333333333333333,
              "#9c179e"
             ],
             [
              0.4444444444444444,
              "#bd3786"
             ],
             [
              0.5555555555555556,
              "#d8576b"
             ],
             [
              0.6666666666666666,
              "#ed7953"
             ],
             [
              0.7777777777777778,
              "#fb9f3a"
             ],
             [
              0.8888888888888888,
              "#fdca26"
             ],
             [
              1,
              "#f0f921"
             ]
            ],
            "type": "heatmapgl"
           }
          ],
          "histogram": [
           {
            "marker": {
             "pattern": {
              "fillmode": "overlay",
              "size": 10,
              "solidity": 0.2
             }
            },
            "type": "histogram"
           }
          ],
          "histogram2d": [
           {
            "colorbar": {
             "outlinewidth": 0,
             "ticks": ""
            },
            "colorscale": [
             [
              0,
              "#0d0887"
             ],
             [
              0.1111111111111111,
              "#46039f"
             ],
             [
              0.2222222222222222,
              "#7201a8"
             ],
             [
              0.3333333333333333,
              "#9c179e"
             ],
             [
              0.4444444444444444,
              "#bd3786"
             ],
             [
              0.5555555555555556,
              "#d8576b"
             ],
             [
              0.6666666666666666,
              "#ed7953"
             ],
             [
              0.7777777777777778,
              "#fb9f3a"
             ],
             [
              0.8888888888888888,
              "#fdca26"
             ],
             [
              1,
              "#f0f921"
             ]
            ],
            "type": "histogram2d"
           }
          ],
          "histogram2dcontour": [
           {
            "colorbar": {
             "outlinewidth": 0,
             "ticks": ""
            },
            "colorscale": [
             [
              0,
              "#0d0887"
             ],
             [
              0.1111111111111111,
              "#46039f"
             ],
             [
              0.2222222222222222,
              "#7201a8"
             ],
             [
              0.3333333333333333,
              "#9c179e"
             ],
             [
              0.4444444444444444,
              "#bd3786"
             ],
             [
              0.5555555555555556,
              "#d8576b"
             ],
             [
              0.6666666666666666,
              "#ed7953"
             ],
             [
              0.7777777777777778,
              "#fb9f3a"
             ],
             [
              0.8888888888888888,
              "#fdca26"
             ],
             [
              1,
              "#f0f921"
             ]
            ],
            "type": "histogram2dcontour"
           }
          ],
          "mesh3d": [
           {
            "colorbar": {
             "outlinewidth": 0,
             "ticks": ""
            },
            "type": "mesh3d"
           }
          ],
          "parcoords": [
           {
            "line": {
             "colorbar": {
              "outlinewidth": 0,
              "ticks": ""
             }
            },
            "type": "parcoords"
           }
          ],
          "pie": [
           {
            "automargin": true,
            "type": "pie"
           }
          ],
          "scatter": [
           {
            "fillpattern": {
             "fillmode": "overlay",
             "size": 10,
             "solidity": 0.2
            },
            "type": "scatter"
           }
          ],
          "scatter3d": [
           {
            "line": {
             "colorbar": {
              "outlinewidth": 0,
              "ticks": ""
             }
            },
            "marker": {
             "colorbar": {
              "outlinewidth": 0,
              "ticks": ""
             }
            },
            "type": "scatter3d"
           }
          ],
          "scattercarpet": [
           {
            "marker": {
             "colorbar": {
              "outlinewidth": 0,
              "ticks": ""
             }
            },
            "type": "scattercarpet"
           }
          ],
          "scattergeo": [
           {
            "marker": {
             "colorbar": {
              "outlinewidth": 0,
              "ticks": ""
             }
            },
            "type": "scattergeo"
           }
          ],
          "scattergl": [
           {
            "marker": {
             "colorbar": {
              "outlinewidth": 0,
              "ticks": ""
             }
            },
            "type": "scattergl"
           }
          ],
          "scattermapbox": [
           {
            "marker": {
             "colorbar": {
              "outlinewidth": 0,
              "ticks": ""
             }
            },
            "type": "scattermapbox"
           }
          ],
          "scatterpolar": [
           {
            "marker": {
             "colorbar": {
              "outlinewidth": 0,
              "ticks": ""
             }
            },
            "type": "scatterpolar"
           }
          ],
          "scatterpolargl": [
           {
            "marker": {
             "colorbar": {
              "outlinewidth": 0,
              "ticks": ""
             }
            },
            "type": "scatterpolargl"
           }
          ],
          "scatterternary": [
           {
            "marker": {
             "colorbar": {
              "outlinewidth": 0,
              "ticks": ""
             }
            },
            "type": "scatterternary"
           }
          ],
          "surface": [
           {
            "colorbar": {
             "outlinewidth": 0,
             "ticks": ""
            },
            "colorscale": [
             [
              0,
              "#0d0887"
             ],
             [
              0.1111111111111111,
              "#46039f"
             ],
             [
              0.2222222222222222,
              "#7201a8"
             ],
             [
              0.3333333333333333,
              "#9c179e"
             ],
             [
              0.4444444444444444,
              "#bd3786"
             ],
             [
              0.5555555555555556,
              "#d8576b"
             ],
             [
              0.6666666666666666,
              "#ed7953"
             ],
             [
              0.7777777777777778,
              "#fb9f3a"
             ],
             [
              0.8888888888888888,
              "#fdca26"
             ],
             [
              1,
              "#f0f921"
             ]
            ],
            "type": "surface"
           }
          ],
          "table": [
           {
            "cells": {
             "fill": {
              "color": "#EBF0F8"
             },
             "line": {
              "color": "white"
             }
            },
            "header": {
             "fill": {
              "color": "#C8D4E3"
             },
             "line": {
              "color": "white"
             }
            },
            "type": "table"
           }
          ]
         },
         "layout": {
          "annotationdefaults": {
           "arrowcolor": "#2a3f5f",
           "arrowhead": 0,
           "arrowwidth": 1
          },
          "autotypenumbers": "strict",
          "coloraxis": {
           "colorbar": {
            "outlinewidth": 0,
            "ticks": ""
           }
          },
          "colorscale": {
           "diverging": [
            [
             0,
             "#8e0152"
            ],
            [
             0.1,
             "#c51b7d"
            ],
            [
             0.2,
             "#de77ae"
            ],
            [
             0.3,
             "#f1b6da"
            ],
            [
             0.4,
             "#fde0ef"
            ],
            [
             0.5,
             "#f7f7f7"
            ],
            [
             0.6,
             "#e6f5d0"
            ],
            [
             0.7,
             "#b8e186"
            ],
            [
             0.8,
             "#7fbc41"
            ],
            [
             0.9,
             "#4d9221"
            ],
            [
             1,
             "#276419"
            ]
           ],
           "sequential": [
            [
             0,
             "#0d0887"
            ],
            [
             0.1111111111111111,
             "#46039f"
            ],
            [
             0.2222222222222222,
             "#7201a8"
            ],
            [
             0.3333333333333333,
             "#9c179e"
            ],
            [
             0.4444444444444444,
             "#bd3786"
            ],
            [
             0.5555555555555556,
             "#d8576b"
            ],
            [
             0.6666666666666666,
             "#ed7953"
            ],
            [
             0.7777777777777778,
             "#fb9f3a"
            ],
            [
             0.8888888888888888,
             "#fdca26"
            ],
            [
             1,
             "#f0f921"
            ]
           ],
           "sequentialminus": [
            [
             0,
             "#0d0887"
            ],
            [
             0.1111111111111111,
             "#46039f"
            ],
            [
             0.2222222222222222,
             "#7201a8"
            ],
            [
             0.3333333333333333,
             "#9c179e"
            ],
            [
             0.4444444444444444,
             "#bd3786"
            ],
            [
             0.5555555555555556,
             "#d8576b"
            ],
            [
             0.6666666666666666,
             "#ed7953"
            ],
            [
             0.7777777777777778,
             "#fb9f3a"
            ],
            [
             0.8888888888888888,
             "#fdca26"
            ],
            [
             1,
             "#f0f921"
            ]
           ]
          },
          "colorway": [
           "#636efa",
           "#EF553B",
           "#00cc96",
           "#ab63fa",
           "#FFA15A",
           "#19d3f3",
           "#FF6692",
           "#B6E880",
           "#FF97FF",
           "#FECB52"
          ],
          "font": {
           "color": "#2a3f5f"
          },
          "geo": {
           "bgcolor": "white",
           "lakecolor": "white",
           "landcolor": "#E5ECF6",
           "showlakes": true,
           "showland": true,
           "subunitcolor": "white"
          },
          "hoverlabel": {
           "align": "left"
          },
          "hovermode": "closest",
          "mapbox": {
           "style": "light"
          },
          "paper_bgcolor": "white",
          "plot_bgcolor": "#E5ECF6",
          "polar": {
           "angularaxis": {
            "gridcolor": "white",
            "linecolor": "white",
            "ticks": ""
           },
           "bgcolor": "#E5ECF6",
           "radialaxis": {
            "gridcolor": "white",
            "linecolor": "white",
            "ticks": ""
           }
          },
          "scene": {
           "xaxis": {
            "backgroundcolor": "#E5ECF6",
            "gridcolor": "white",
            "gridwidth": 2,
            "linecolor": "white",
            "showbackground": true,
            "ticks": "",
            "zerolinecolor": "white"
           },
           "yaxis": {
            "backgroundcolor": "#E5ECF6",
            "gridcolor": "white",
            "gridwidth": 2,
            "linecolor": "white",
            "showbackground": true,
            "ticks": "",
            "zerolinecolor": "white"
           },
           "zaxis": {
            "backgroundcolor": "#E5ECF6",
            "gridcolor": "white",
            "gridwidth": 2,
            "linecolor": "white",
            "showbackground": true,
            "ticks": "",
            "zerolinecolor": "white"
           }
          },
          "shapedefaults": {
           "line": {
            "color": "#2a3f5f"
           }
          },
          "ternary": {
           "aaxis": {
            "gridcolor": "white",
            "linecolor": "white",
            "ticks": ""
           },
           "baxis": {
            "gridcolor": "white",
            "linecolor": "white",
            "ticks": ""
           },
           "bgcolor": "#E5ECF6",
           "caxis": {
            "gridcolor": "white",
            "linecolor": "white",
            "ticks": ""
           }
          },
          "title": {
           "x": 0.05
          },
          "xaxis": {
           "automargin": true,
           "gridcolor": "white",
           "linecolor": "white",
           "ticks": "",
           "title": {
            "standoff": 15
           },
           "zerolinecolor": "white",
           "zerolinewidth": 2
          },
          "yaxis": {
           "automargin": true,
           "gridcolor": "white",
           "linecolor": "white",
           "ticks": "",
           "title": {
            "standoff": 15
           },
           "zerolinecolor": "white",
           "zerolinewidth": 2
          }
         }
        },
        "title": {
         "text": "ADAPT error model: max output error per kernel (uniform)"
        },
        "xaxis": {
         "anchor": "y",
         "domain": [
          0,
          1
         ],
         "tickformat": ".2e",
         "title": {
          "text": "condition_number"
         }
        },
        "yaxis": {
         "anchor": "x",
         "domain": [
          0,
          1
         ],
         "tickformat": ".2e",
         "title": {
          "text": "adapt_error_model"
         },
         "type": "log"
        }
       }
      },
      "text/html": [
       "<div>                            <div id=\"af0e591c-2252-4358-a96f-1024e09fddcf\" class=\"plotly-graph-div\" style=\"height:525px; width:100%;\"></div>            <script type=\"text/javascript\">                require([\"plotly\"], function(Plotly) {                    window.PLOTLYENV=window.PLOTLYENV || {};                                    if (document.getElementById(\"af0e591c-2252-4358-a96f-1024e09fddcf\")) {                    Plotly.newPlot(                        \"af0e591c-2252-4358-a96f-1024e09fddcf\",                        [{\"hovertemplate\":\"kernel_name=x_wxpy<br>condition_number=%{x}<br>adapt_error_model=%{y}<extra></extra>\",\"legendgroup\":\"x_wxpy\",\"marker\":{\"color\":\"#636efa\",\"symbol\":\"circle\"},\"mode\":\"markers\",\"name\":\"x_wxpy\",\"orientation\":\"v\",\"showlegend\":true,\"x\":[71.04159,373.1418,489.5411,728.8496,584.5738,785.2034,1959.303,3230.891,1438.271,2469.146,2667.885,2572.696,2152.209,3032.822,3876.724,2531.423,4215.023,2850.561,3188.968,3915.859,3305.003,6414.587,3772.184,5299.063,6476.695,11643.6,10164.02,7282.41,5277.623,9301.471,4745.863,6483.203],\"xaxis\":\"x\",\"y\":[1.6535e-08,2.92041e-09,2.03955e-08,6.62469e-08,1.07389e-07,2.6872e-08,2.55951e-08,1.72221e-08,3.39837e-08,4.1661e-08,1.55494e-08,5.53113e-08,2.35532e-08,8.28814e-08,4.57061e-08,9.24662e-08,6.85861e-08,3.81082e-08,9.46755e-09,2.07569e-08,1.4556e-07,3.39442e-08,6.29529e-08,3.45743e-08,3.3673e-08,8.8191e-08,5.00056e-09,6.71119e-08,1.06333e-08,6.18083e-08,7.03947e-08,8.71537e-08],\"yaxis\":\"y\",\"type\":\"scatter\"},{\"hovertemplate\":\"kernel_name=p_wxpy<br>condition_number=%{x}<br>adapt_error_model=%{y}<extra></extra>\",\"legendgroup\":\"p_wxpy\",\"marker\":{\"color\":\"#EF553B\",\"symbol\":\"diamond\"},\"mode\":\"markers\",\"name\":\"p_wxpy\",\"orientation\":\"v\",\"showlegend\":true,\"x\":[71.04159,373.1418,489.5411,728.8496,584.5738,785.2034,1959.303,3230.891,1438.271,2469.146,2667.885,2572.696,2152.209,3032.822,3876.724,2531.423,4215.023,2850.561,3188.968,3915.859,3305.003,6414.587,3772.184,5299.063,6476.695,11643.6,10164.02,7282.41,5277.623,9301.471,4745.863,6483.203],\"xaxis\":\"x\",\"y\":[1.36526e-13,1.59743e-11,1.62718e-09,2.09923e-10,1.70569e-10,5.37608e-11,1.12354e-08,2.30429e-09,1.57457e-08,1.09909e-08,9.85163e-07,1.49023e-08,3.22017e-09,9.92361e-08,4.0715e-11,3.68828e-09,8.28187e-08,4.6095e-09,3.17871e-08,5.84468e-06,1.67847e-07,7.64222e-08,1.02155e-09,1.74251e-07,2.09582e-07,2.22704e-07,5.67805e-08,3.48151e-08,3.02217e-05,2.8924e-07,4.30732e-09,6.17821e-06],\"yaxis\":\"y\",\"type\":\"scatter\"},{\"hovertemplate\":\"kernel_name=r_dot<br>condition_number=%{x}<br>adapt_error_model=%{y}<extra></extra>\",\"legendgroup\":\"r_dot\",\"marker\":{\"color\":\"#00cc96\",\"symbol\":\"square\"},\"mode\":\"markers\",\"name\":\"r_dot\",\"orientation\":\"v\",\"showlegend\":true,\"x\":[71.04159,373.1418,489.5411,728.8496,584.5738,785.2034,1959.303,3230.891,1438.271,2469.146,2667.885,2572.696,2152.209,3032.822,3876.724,2531.423,4215.023,2850.561,3188.968,3915.859,3305.003,6414.587,3772.184,5299.063,6476.695,11643.6,10164.02,7282.41,5277.623,9301.471,4745.863,6483.203],\"xaxis\":\"x\",\"y\":[5.71822e-14,5.13495e-12,1.32747e-09,9.97074e-11,3.19632e-11,1.99647e-10,1.04866e-08,3.09754e-10,3.34642e-08,2.23071e-08,1.07526e-07,1.85243e-09,1.77565e-08,2.75438e-07,2.09568e-08,1.56122e-08,1.17997e-07,2.30615e-08,6.61944e-08,6.69623e-06,7.5667e-08,2.25389e-07,5.5016e-10,6.69583e-07,7.06954e-08,9.50614e-08,1.49391e-07,3.29046e-07,4.13109e-05,1.13274e-08,8.50258e-09,3.2941e-06],\"yaxis\":\"y\",\"type\":\"scatter\"},{\"hovertemplate\":\"kernel_name=r_wxpy<br>condition_number=%{x}<br>adapt_error_model=%{y}<extra></extra>\",\"legendgroup\":\"r_wxpy\",\"marker\":{\"color\":\"#ab63fa\",\"symbol\":\"x\"},\"mode\":\"markers\",\"name\":\"r_wxpy\",\"orientation\":\"v\",\"showlegend\":true,\"x\":[71.04159,373.1418,489.5411,728.8496,584.5738,785.2034,1959.303,3230.891,1438.271,2469.146,2667.885,2572.696,2152.209,3032.822,3876.724,2531.423,4215.023,2850.561,3188.968,3915.859,3305.003,6414.587,3772.184,5299.063,6476.695,11643.6,10164.02,7282.41,5277.623,9301.471,4745.863,6483.203],\"xaxis\":\"x\",\"y\":[1.27814e-08,1.52416e-07,9.94012e-08,2.76259e-08,2.66969e-07,8.66274e-07,1.27043e-07,7.40814e-07,7.98973e-07,2.18867e-07,1.57314e-07,3.22609e-06,5.21988e-07,4.14896e-06,7.33483e-07,7.37333e-07,4.21262e-06,3.25603e-06,2.61031e-06,6.36158e-07,3.74106e-06,1.52169e-06,9.97164e-07,5.42952e-07,5.24701e-07,1.86664e-06,1.01281e-06,1.31591e-06,1.45536e-05,5.54278e-06,1.73355e-06,5.81502e-06],\"yaxis\":\"y\",\"type\":\"scatter\"},{\"hovertemplate\":\"kernel_name=matvec<br>condition_number=%{x}<br>adapt_error_model=%{y}<extra></extra>\",\"legendgroup\":\"matvec\",\"marker\":{\"color\":\"#FFA15A\",\"symbol\":\"cross\"},\"mode\":\"markers\",\"name\":\"matvec\",\"orientation\":\"v\",\"showlegend\":true,\"x\":[71.04159,373.1418,489.5411,728.8496,584.5738,785.2034,1959.303,3230.891,1438.271,2469.146,2667.885,2572.696,2152.209,3032.822,3876.724,2531.423,4215.023,2850.561,3188.968,3915.859,3305.003,6414.587,3772.184,5299.063,6476.695,11643.6,10164.02,7282.41,5277.623,9301.471,4745.863,6483.203],\"xaxis\":\"x\",\"y\":[2.15457e-07,4.96299e-08,2.73567e-07,6.92459e-07,1.26419e-06,1.05888e-06,3.80481e-06,1.6168e-06,6.81629e-07,1.60511e-06,1.48171e-07,8.37895e-07,9.2865e-07,2.27373e-05,8.94371e-06,3.29124e-06,1.2541e-06,9.75513e-07,2.07216e-05,3.89066e-06,2.34841e-06,4.89321e-06,1.31313e-06,6.53242e-07,5.22971e-06,8.433e-06,4.04265e-06,1.83719e-08,2.66983e-05,2.07171e-05,2.27038e-07,3.53246e-06],\"yaxis\":\"y\",\"type\":\"scatter\"},{\"hovertemplate\":\"kernel_name=a_dot<br>condition_number=%{x}<br>adapt_error_model=%{y}<extra></extra>\",\"legendgroup\":\"a_dot\",\"marker\":{\"color\":\"#19d3f3\",\"symbol\":\"circle\"},\"mode\":\"markers\",\"name\":\"a_dot\",\"orientation\":\"v\",\"showlegend\":true,\"x\":[71.04159,373.1418,489.5411,728.8496,584.5738,785.2034,1959.303,3230.891,1438.271,2469.146,2667.885,2572.696,2152.209,3032.822,3876.724,2531.423,4215.023,2850.561,3188.968,3915.859,3305.003,6414.587,3772.184,5299.063,6476.695,11643.6,10164.02,7282.41,5277.623,9301.471,4745.863,6483.203],\"xaxis\":\"x\",\"y\":[3.06803e-13,4.26583e-11,1.56449e-10,1.30421e-10,2.97393e-10,1.12415e-10,7.56021e-09,1.6667e-09,8.23543e-09,8.76982e-09,5.64694e-07,2.92043e-08,1.03802e-08,4.90071e-08,1.55373e-08,3.20742e-08,1.11548e-07,8.2511e-09,3.84966e-08,4.27864e-06,1.05103e-07,3.11958e-07,4.35982e-09,9.46659e-07,2.69623e-07,7.09423e-08,1.6457e-07,3.95588e-07,1.26117e-05,3.73372e-08,1.23892e-08,2.91528e-06],\"yaxis\":\"y\",\"type\":\"scatter\"},{\"hovertemplate\":\"kernel_name=A_in<br>condition_number=%{x}<br>adapt_error_model=%{y}<extra></extra>\",\"legendgroup\":\"A_in\",\"marker\":{\"color\":\"#FF6692\",\"symbol\":\"diamond\"},\"mode\":\"markers\",\"name\":\"A_in\",\"orientation\":\"v\",\"showlegend\":true,\"x\":[71.04159,373.1418,489.5411,728.8496,584.5738,785.2034,1959.303,3230.891,1438.271,2469.146,2667.885,2572.696,2152.209,3032.822,3876.724,2531.423,4215.023,2850.561,3188.968,3915.859,3305.003,6414.587,3772.184,5299.063,6476.695,11643.6,10164.02,7282.41,5277.623,9301.471,4745.863,6483.203],\"xaxis\":\"x\",\"y\":[1.25269e-22,1.65595e-22,1.60803e-20,2.74244e-21,5.28156e-21,2.45852e-21,2.85959e-20,4.06821e-20,4.99969e-20,4.141e-20,1.34163e-20,2.81376e-19,2.35932e-20,5.68099e-19,1.54108e-19,3.09258e-20,1.62667e-19,2.10555e-19,1.05541e-18,2.06783e-19,8.59296e-21,2.28465e-20,8.85586e-20,1.26134e-20,1.0625e-19,1.8163e-19,8.74947e-20,3.21982e-19,8.99774e-20,2.77428e-19,5.17083e-19,3.25832e-19],\"yaxis\":\"y\",\"type\":\"scatter\"},{\"hovertemplate\":\"kernel_name=x_in<br>condition_number=%{x}<br>adapt_error_model=%{y}<extra></extra>\",\"legendgroup\":\"x_in\",\"marker\":{\"color\":\"#B6E880\",\"symbol\":\"square\"},\"mode\":\"markers\",\"name\":\"x_in\",\"orientation\":\"v\",\"showlegend\":true,\"x\":[71.04159,373.1418,489.5411,728.8496,584.5738,785.2034,1959.303,3230.891,1438.271,2469.146,2667.885,2572.696,2152.209,3032.822,3876.724,2531.423,4215.023,2850.561,3188.968,3915.859,3305.003,6414.587,3772.184,5299.063,6476.695,11643.6,10164.02,7282.41,5277.623,9301.471,4745.863,6483.203],\"xaxis\":\"x\",\"y\":[0.0,0.0,0.0,0.0,0.0,0.0,0.0,0.0,0.0,0.0,0.0,0.0,0.0,0.0,0.0,0.0,0.0,0.0,0.0,0.0,0.0,0.0,0.0,0.0,0.0,0.0,0.0,0.0,0.0,0.0,0.0,0.0],\"yaxis\":\"y\",\"type\":\"scatter\"},{\"hovertemplate\":\"kernel_name=b_in<br>condition_number=%{x}<br>adapt_error_model=%{y}<extra></extra>\",\"legendgroup\":\"b_in\",\"marker\":{\"color\":\"#FF97FF\",\"symbol\":\"x\"},\"mode\":\"markers\",\"name\":\"b_in\",\"orientation\":\"v\",\"showlegend\":true,\"x\":[71.04159,373.1418,489.5411,728.8496,584.5738,785.2034,1959.303,3230.891,1438.271,2469.146,2667.885,2572.696,2152.209,3032.822,3876.724,2531.423,4215.023,2850.561,3188.968,3915.859,3305.003,6414.587,3772.184,5299.063,6476.695,11643.6,10164.02,7282.41,5277.623,9301.471,4745.863,6483.203],\"xaxis\":\"x\",\"y\":[0.0,0.0,0.0,0.0,0.0,0.0,0.0,0.0,0.0,0.0,0.0,0.0,0.0,0.0,0.0,0.0,0.0,0.0,0.0,0.0,0.0,0.0,0.0,0.0,0.0,0.0,0.0,0.0,0.0,0.0,0.0,0.0],\"yaxis\":\"y\",\"type\":\"scatter\"}],                        {\"template\":{\"data\":{\"histogram2dcontour\":[{\"type\":\"histogram2dcontour\",\"colorbar\":{\"outlinewidth\":0,\"ticks\":\"\"},\"colorscale\":[[0.0,\"#0d0887\"],[0.1111111111111111,\"#46039f\"],[0.2222222222222222,\"#7201a8\"],[0.3333333333333333,\"#9c179e\"],[0.4444444444444444,\"#bd3786\"],[0.5555555555555556,\"#d8576b\"],[0.6666666666666666,\"#ed7953\"],[0.7777777777777778,\"#fb9f3a\"],[0.8888888888888888,\"#fdca26\"],[1.0,\"#f0f921\"]]}],\"choropleth\":[{\"type\":\"choropleth\",\"colorbar\":{\"outlinewidth\":0,\"ticks\":\"\"}}],\"histogram2d\":[{\"type\":\"histogram2d\",\"colorbar\":{\"outlinewidth\":0,\"ticks\":\"\"},\"colorscale\":[[0.0,\"#0d0887\"],[0.1111111111111111,\"#46039f\"],[0.2222222222222222,\"#7201a8\"],[0.3333333333333333,\"#9c179e\"],[0.4444444444444444,\"#bd3786\"],[0.5555555555555556,\"#d8576b\"],[0.6666666666666666,\"#ed7953\"],[0.7777777777777778,\"#fb9f3a\"],[0.8888888888888888,\"#fdca26\"],[1.0,\"#f0f921\"]]}],\"heatmap\":[{\"type\":\"heatmap\",\"colorbar\":{\"outlinewidth\":0,\"ticks\":\"\"},\"colorscale\":[[0.0,\"#0d0887\"],[0.1111111111111111,\"#46039f\"],[0.2222222222222222,\"#7201a8\"],[0.3333333333333333,\"#9c179e\"],[0.4444444444444444,\"#bd3786\"],[0.5555555555555556,\"#d8576b\"],[0.6666666666666666,\"#ed7953\"],[0.7777777777777778,\"#fb9f3a\"],[0.8888888888888888,\"#fdca26\"],[1.0,\"#f0f921\"]]}],\"heatmapgl\":[{\"type\":\"heatmapgl\",\"colorbar\":{\"outlinewidth\":0,\"ticks\":\"\"},\"colorscale\":[[0.0,\"#0d0887\"],[0.1111111111111111,\"#46039f\"],[0.2222222222222222,\"#7201a8\"],[0.3333333333333333,\"#9c179e\"],[0.4444444444444444,\"#bd3786\"],[0.5555555555555556,\"#d8576b\"],[0.6666666666666666,\"#ed7953\"],[0.7777777777777778,\"#fb9f3a\"],[0.8888888888888888,\"#fdca26\"],[1.0,\"#f0f921\"]]}],\"contourcarpet\":[{\"type\":\"contourcarpet\",\"colorbar\":{\"outlinewidth\":0,\"ticks\":\"\"}}],\"contour\":[{\"type\":\"contour\",\"colorbar\":{\"outlinewidth\":0,\"ticks\":\"\"},\"colorscale\":[[0.0,\"#0d0887\"],[0.1111111111111111,\"#46039f\"],[0.2222222222222222,\"#7201a8\"],[0.3333333333333333,\"#9c179e\"],[0.4444444444444444,\"#bd3786\"],[0.5555555555555556,\"#d8576b\"],[0.6666666666666666,\"#ed7953\"],[0.7777777777777778,\"#fb9f3a\"],[0.8888888888888888,\"#fdca26\"],[1.0,\"#f0f921\"]]}],\"surface\":[{\"type\":\"surface\",\"colorbar\":{\"outlinewidth\":0,\"ticks\":\"\"},\"colorscale\":[[0.0,\"#0d0887\"],[0.1111111111111111,\"#46039f\"],[0.2222222222222222,\"#7201a8\"],[0.3333333333333333,\"#9c179e\"],[0.4444444444444444,\"#bd3786\"],[0.5555555555555556,\"#d8576b\"],[0.6666666666666666,\"#ed7953\"],[0.7777777777777778,\"#fb9f3a\"],[0.8888888888888888,\"#fdca26\"],[1.0,\"#f0f921\"]]}],\"mesh3d\":[{\"type\":\"mesh3d\",\"colorbar\":{\"outlinewidth\":0,\"ticks\":\"\"}}],\"scatter\":[{\"fillpattern\":{\"fillmode\":\"overlay\",\"size\":10,\"solidity\":0.2},\"type\":\"scatter\"}],\"parcoords\":[{\"type\":\"parcoords\",\"line\":{\"colorbar\":{\"outlinewidth\":0,\"ticks\":\"\"}}}],\"scatterpolargl\":[{\"type\":\"scatterpolargl\",\"marker\":{\"colorbar\":{\"outlinewidth\":0,\"ticks\":\"\"}}}],\"bar\":[{\"error_x\":{\"color\":\"#2a3f5f\"},\"error_y\":{\"color\":\"#2a3f5f\"},\"marker\":{\"line\":{\"color\":\"#E5ECF6\",\"width\":0.5},\"pattern\":{\"fillmode\":\"overlay\",\"size\":10,\"solidity\":0.2}},\"type\":\"bar\"}],\"scattergeo\":[{\"type\":\"scattergeo\",\"marker\":{\"colorbar\":{\"outlinewidth\":0,\"ticks\":\"\"}}}],\"scatterpolar\":[{\"type\":\"scatterpolar\",\"marker\":{\"colorbar\":{\"outlinewidth\":0,\"ticks\":\"\"}}}],\"histogram\":[{\"marker\":{\"pattern\":{\"fillmode\":\"overlay\",\"size\":10,\"solidity\":0.2}},\"type\":\"histogram\"}],\"scattergl\":[{\"type\":\"scattergl\",\"marker\":{\"colorbar\":{\"outlinewidth\":0,\"ticks\":\"\"}}}],\"scatter3d\":[{\"type\":\"scatter3d\",\"line\":{\"colorbar\":{\"outlinewidth\":0,\"ticks\":\"\"}},\"marker\":{\"colorbar\":{\"outlinewidth\":0,\"ticks\":\"\"}}}],\"scattermapbox\":[{\"type\":\"scattermapbox\",\"marker\":{\"colorbar\":{\"outlinewidth\":0,\"ticks\":\"\"}}}],\"scatterternary\":[{\"type\":\"scatterternary\",\"marker\":{\"colorbar\":{\"outlinewidth\":0,\"ticks\":\"\"}}}],\"scattercarpet\":[{\"type\":\"scattercarpet\",\"marker\":{\"colorbar\":{\"outlinewidth\":0,\"ticks\":\"\"}}}],\"carpet\":[{\"aaxis\":{\"endlinecolor\":\"#2a3f5f\",\"gridcolor\":\"white\",\"linecolor\":\"white\",\"minorgridcolor\":\"white\",\"startlinecolor\":\"#2a3f5f\"},\"baxis\":{\"endlinecolor\":\"#2a3f5f\",\"gridcolor\":\"white\",\"linecolor\":\"white\",\"minorgridcolor\":\"white\",\"startlinecolor\":\"#2a3f5f\"},\"type\":\"carpet\"}],\"table\":[{\"cells\":{\"fill\":{\"color\":\"#EBF0F8\"},\"line\":{\"color\":\"white\"}},\"header\":{\"fill\":{\"color\":\"#C8D4E3\"},\"line\":{\"color\":\"white\"}},\"type\":\"table\"}],\"barpolar\":[{\"marker\":{\"line\":{\"color\":\"#E5ECF6\",\"width\":0.5},\"pattern\":{\"fillmode\":\"overlay\",\"size\":10,\"solidity\":0.2}},\"type\":\"barpolar\"}],\"pie\":[{\"automargin\":true,\"type\":\"pie\"}]},\"layout\":{\"autotypenumbers\":\"strict\",\"colorway\":[\"#636efa\",\"#EF553B\",\"#00cc96\",\"#ab63fa\",\"#FFA15A\",\"#19d3f3\",\"#FF6692\",\"#B6E880\",\"#FF97FF\",\"#FECB52\"],\"font\":{\"color\":\"#2a3f5f\"},\"hovermode\":\"closest\",\"hoverlabel\":{\"align\":\"left\"},\"paper_bgcolor\":\"white\",\"plot_bgcolor\":\"#E5ECF6\",\"polar\":{\"bgcolor\":\"#E5ECF6\",\"angularaxis\":{\"gridcolor\":\"white\",\"linecolor\":\"white\",\"ticks\":\"\"},\"radialaxis\":{\"gridcolor\":\"white\",\"linecolor\":\"white\",\"ticks\":\"\"}},\"ternary\":{\"bgcolor\":\"#E5ECF6\",\"aaxis\":{\"gridcolor\":\"white\",\"linecolor\":\"white\",\"ticks\":\"\"},\"baxis\":{\"gridcolor\":\"white\",\"linecolor\":\"white\",\"ticks\":\"\"},\"caxis\":{\"gridcolor\":\"white\",\"linecolor\":\"white\",\"ticks\":\"\"}},\"coloraxis\":{\"colorbar\":{\"outlinewidth\":0,\"ticks\":\"\"}},\"colorscale\":{\"sequential\":[[0.0,\"#0d0887\"],[0.1111111111111111,\"#46039f\"],[0.2222222222222222,\"#7201a8\"],[0.3333333333333333,\"#9c179e\"],[0.4444444444444444,\"#bd3786\"],[0.5555555555555556,\"#d8576b\"],[0.6666666666666666,\"#ed7953\"],[0.7777777777777778,\"#fb9f3a\"],[0.8888888888888888,\"#fdca26\"],[1.0,\"#f0f921\"]],\"sequentialminus\":[[0.0,\"#0d0887\"],[0.1111111111111111,\"#46039f\"],[0.2222222222222222,\"#7201a8\"],[0.3333333333333333,\"#9c179e\"],[0.4444444444444444,\"#bd3786\"],[0.5555555555555556,\"#d8576b\"],[0.6666666666666666,\"#ed7953\"],[0.7777777777777778,\"#fb9f3a\"],[0.8888888888888888,\"#fdca26\"],[1.0,\"#f0f921\"]],\"diverging\":[[0,\"#8e0152\"],[0.1,\"#c51b7d\"],[0.2,\"#de77ae\"],[0.3,\"#f1b6da\"],[0.4,\"#fde0ef\"],[0.5,\"#f7f7f7\"],[0.6,\"#e6f5d0\"],[0.7,\"#b8e186\"],[0.8,\"#7fbc41\"],[0.9,\"#4d9221\"],[1,\"#276419\"]]},\"xaxis\":{\"gridcolor\":\"white\",\"linecolor\":\"white\",\"ticks\":\"\",\"title\":{\"standoff\":15},\"zerolinecolor\":\"white\",\"automargin\":true,\"zerolinewidth\":2},\"yaxis\":{\"gridcolor\":\"white\",\"linecolor\":\"white\",\"ticks\":\"\",\"title\":{\"standoff\":15},\"zerolinecolor\":\"white\",\"automargin\":true,\"zerolinewidth\":2},\"scene\":{\"xaxis\":{\"backgroundcolor\":\"#E5ECF6\",\"gridcolor\":\"white\",\"linecolor\":\"white\",\"showbackground\":true,\"ticks\":\"\",\"zerolinecolor\":\"white\",\"gridwidth\":2},\"yaxis\":{\"backgroundcolor\":\"#E5ECF6\",\"gridcolor\":\"white\",\"linecolor\":\"white\",\"showbackground\":true,\"ticks\":\"\",\"zerolinecolor\":\"white\",\"gridwidth\":2},\"zaxis\":{\"backgroundcolor\":\"#E5ECF6\",\"gridcolor\":\"white\",\"linecolor\":\"white\",\"showbackground\":true,\"ticks\":\"\",\"zerolinecolor\":\"white\",\"gridwidth\":2}},\"shapedefaults\":{\"line\":{\"color\":\"#2a3f5f\"}},\"annotationdefaults\":{\"arrowcolor\":\"#2a3f5f\",\"arrowhead\":0,\"arrowwidth\":1},\"geo\":{\"bgcolor\":\"white\",\"landcolor\":\"#E5ECF6\",\"subunitcolor\":\"white\",\"showland\":true,\"showlakes\":true,\"lakecolor\":\"white\"},\"title\":{\"x\":0.05},\"mapbox\":{\"style\":\"light\"}}},\"xaxis\":{\"anchor\":\"y\",\"domain\":[0.0,1.0],\"title\":{\"text\":\"condition_number\"},\"tickformat\":\".2e\"},\"yaxis\":{\"anchor\":\"x\",\"domain\":[0.0,1.0],\"title\":{\"text\":\"adapt_error_model\"},\"type\":\"log\",\"tickformat\":\".2e\"},\"legend\":{\"title\":{\"text\":\"kernel_name\"},\"tracegroupgap\":0},\"title\":{\"text\":\"ADAPT error model: max output error per kernel (uniform)\"}},                        {\"responsive\": true}                    ).then(function(){\n",
       "                            \n",
       "var gd = document.getElementById('af0e591c-2252-4358-a96f-1024e09fddcf');\n",
       "var x = new MutationObserver(function (mutations, observer) {{\n",
       "        var display = window.getComputedStyle(gd).display;\n",
       "        if (!display || display === 'none') {{\n",
       "            console.log([gd, 'removed!']);\n",
       "            Plotly.purge(gd);\n",
       "            observer.disconnect();\n",
       "        }}\n",
       "}});\n",
       "\n",
       "// Listen for the removal of the full notebook cells\n",
       "var notebookContainer = gd.closest('#notebook-container');\n",
       "if (notebookContainer) {{\n",
       "    x.observe(notebookContainer, {childList: true});\n",
       "}}\n",
       "\n",
       "// Listen for the clearing of the current output cell\n",
       "var outputEl = gd.closest('.output');\n",
       "if (outputEl) {{\n",
       "    x.observe(outputEl, {childList: true});\n",
       "}}\n",
       "\n",
       "                        })                };                });            </script>        </div>"
      ]
     },
     "metadata": {},
     "output_type": "display_data"
    }
   ],
   "source": [
    "# compare sampling strategies visually\n",
    "ddf = [pd.DataFrame.from_dict(df) for df in [df1]]#, df3]]\n",
    "for df in ddf:\n",
    "    sampling_strategy = df['sample_strategy'].unique()[0]\n",
    "    fig = px.scatter(\n",
    "        df,\n",
    "        x='condition_number',\n",
    "        y='partial',\n",
    "        symbol='kernel_name',\n",
    "        color='kernel_name',\n",
    "        log_y=True,\n",
    "        title=f'Observed Kernel Partial Derivatives wrt Output ({sampling_strategy})',\n",
    "    )\n",
    "    fig.update_layout(yaxis_tickformat=\".2e\", xaxis_tickformat=\".2e\")\n",
    "    fig.show()\n",
    "    \n",
    "    fig = px.scatter(\n",
    "        df,\n",
    "        x='condition_number',\n",
    "        y='my_implementation_of_adapt_error_model',\n",
    "        symbol='kernel_name',\n",
    "        color='kernel_name',\n",
    "        log_y=True,\n",
    "        title=f'(Max Kernel Truncation Error * Avg Kernel Partial) ({sampling_strategy})',\n",
    "    )\n",
    "    fig.update_layout(yaxis_tickformat=\".2e\", xaxis_tickformat=\".2e\")\n",
    "    fig.show()\n",
    "\n",
    "    fig = px.scatter(\n",
    "        df,\n",
    "        x='condition_number',\n",
    "        y='adapt_error_model',\n",
    "        symbol='kernel_name',\n",
    "        color='kernel_name',\n",
    "        log_y=True,\n",
    "        title=f'ADAPT error model: max output error per kernel ({sampling_strategy})',\n",
    "    )\n",
    "    fig.update_layout(yaxis_tickformat=\".2e\", xaxis_tickformat=\".2e\")\n",
    "    fig.show()"
   ]
  },
  {
   "cell_type": "code",
   "execution_count": null,
   "metadata": {
    "scrolled": true
   },
   "outputs": [],
   "source": [
    "problem = {\n",
    "    'num_vars': N_INPUT_FEATURES,\n",
    "    'names': KERNEL_NAMES,\n",
    "    'bounds' : ORIGINAL_BOUNDS,\n",
    "}\n",
    "n_eval_samples = 2*TOTAL_SAMPLES\n",
    "XX_eval = latin.sample(problem, n_eval_samples)\n",
    "\n",
    "df_plot = []\n",
    "for X in XX_eval:\n",
    "            \n",
    "    SS_adapt = HPCCG_adapt_analysis(X)\n",
    "\n",
    "    normalized_X1 = XX1_preprocessor.normalize([X])[0]\n",
    "    normalized_X3 = XX3_preprocessor.normalize([X])[0]\n",
    "\n",
    "    SS1_regressor = SS1_preprocessor.reverse_normalize(rf1.predict([normalized_X1]))[0]\n",
    "    SS3_regressor = SS3_preprocessor.reverse_normalize(rf3.predict([normalized_X3]))[0]\n",
    "\n",
    "    for k_no, kernel_name in enumerate(KERNEL_NAMES):\n",
    "        df_plot.append({\n",
    "            'x' : X[0],                 \n",
    "            'partial' : SS1_regressor[k_no],\n",
    "            'kernel_name' : kernel_name,\n",
    "            'technique'   : 'RF Regressor Prediction (uniform)',\n",
    "        })\n",
    "        df_plot.append({\n",
    "            'x' : X[0],                                \n",
    "            'partial' : SS3_regressor[k_no],\n",
    "            'kernel_name' : kernel_name,\n",
    "            'technique'   : 'RF Regressor Prediction (guided)',\n",
    "        })\n",
    "        df_plot.append({\n",
    "            'x' : X[0],                                   \n",
    "            'partial' : SS_adapt[k_no],\n",
    "            'kernel_name' : kernel_name,\n",
    "            'technique'   : 'ADAPT GT',\n",
    "        })\n",
    "\n",
    "    for partition in ensemble_approx_regime1.keys():    \n",
    "        \n",
    "        # check if the input falls into this partition\n",
    "        correct_partition = True\n",
    "        for feature_no in range(rf1.n_features_):\n",
    "\n",
    "            if (partition[feature_no][0] > normalized_X1[feature_no]) or (normalized_X1[feature_no] > partition[feature_no][1]):\n",
    "                correct_partition = False\n",
    "                break\n",
    "            else:\n",
    "                continue\n",
    "\n",
    "        if correct_partition:\n",
    "            for k_no, kernel_name in enumerate(KERNEL_NAMES):\n",
    "\n",
    "                df_plot.append({\n",
    "                    'x' : X[0],                 \n",
    "                    'partial' : SS1_preprocessor.reverse_normalize([ensemble_approx_regime1[partition][0]])[0][k_no],\n",
    "                    'kernel_name' : kernel_name,\n",
    "                    'technique'   : 'Ensemble Approximation Regime (uniform)',\n",
    "                })\n",
    "            break\n",
    "        else:\n",
    "            continue\n",
    "\n",
    "    for partition in ensemble_approx_regime3.keys():    \n",
    "        \n",
    "        # check if the input falls into this partition\n",
    "        correct_partition = True\n",
    "        for feature_no in range(rf3.n_features_):\n",
    "\n",
    "            if (partition[feature_no][0] > normalized_X3[feature_no]) or (normalized_X3[feature_no] > partition[feature_no][1]):\n",
    "                correct_partition = False\n",
    "                break\n",
    "            else:\n",
    "                continue\n",
    "\n",
    "        if correct_partition:\n",
    "            for k_no, kernel_name in enumerate(KERNEL_NAMES):\n",
    "\n",
    "                df_plot.append({\n",
    "                    'x' : X[0],                 \n",
    "                    'partial' : np.abs(SS3_preprocessor.reverse_normalize([ensemble_approx_regime3[partition][0]])[0][k_no]),\n",
    "                    'kernel_name' : kernel_name,\n",
    "                    'technique'   : 'Ensemble Approximation Regime (guided)',\n",
    "                })\n",
    "            break\n",
    "        else:\n",
    "            continue"
   ]
  },
  {
   "cell_type": "code",
   "execution_count": null,
   "metadata": {
    "scrolled": false
   },
   "outputs": [],
   "source": [
    "df_plot = pd.DataFrame.from_dict(df_plot)\n",
    "GT = np.array(df_plot[df_plot.technique == \"ADAPT GT\"]['partial'].tolist())\n",
    "for technique in [\"RF Regressor Prediction (uniform)\", \"RF Regressor Prediction (guided)\", \"Ensemble Approximation Regime (uniform)\", \"Ensemble Approximation Regime (guided)\"]:\n",
    "    predict = np.array(df_plot[df_plot.technique == technique]['partial'].tolist())\n",
    "    mse = ((GT-predict)**2).mean()\n",
    "    print(f\"{technique} mse : {mse}\")\n",
    "    \n",
    "for technique in [\"ADAPT GT\", \"RF Regressor Prediction (uniform)\", \"RF Regressor Prediction (guided)\", \"Ensemble Approximation Regime (uniform)\", \"Ensemble Approximation Regime (guided)\" ]:\n",
    "    fig = px.scatter(\n",
    "        df_plot[df_plot.technique == technique],\n",
    "        x='x',\n",
    "        y='partial',\n",
    "        color='kernel_name',\n",
    "        symbol='kernel_name',\n",
    "        title=\"Kernel Partials wrt Input X ({})\".format(technique),\n",
    "    )\n",
    "    fig.show()"
   ]
  },
  {
   "cell_type": "code",
   "execution_count": null,
   "metadata": {},
   "outputs": [],
   "source": []
  }
 ],
 "metadata": {
  "kernelspec": {
   "display_name": "Python 3",
   "language": "python",
   "name": "python3"
  },
  "language_info": {
   "codemirror_mode": {
    "name": "ipython",
    "version": 3
   },
   "file_extension": ".py",
   "mimetype": "text/x-python",
   "name": "python",
   "nbconvert_exporter": "python",
   "pygments_lexer": "ipython3",
   "version": "3.7.2"
  }
 },
 "nbformat": 4,
 "nbformat_minor": 4
}
